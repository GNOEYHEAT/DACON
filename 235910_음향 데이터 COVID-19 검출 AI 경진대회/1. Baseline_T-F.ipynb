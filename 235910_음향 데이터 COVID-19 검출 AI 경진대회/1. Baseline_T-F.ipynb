{
 "cells": [
  {
   "cell_type": "markdown",
   "metadata": {
    "id": "uO10XRn3dn1L"
   },
   "source": [
    "# Baseline (T-F)"
   ]
  },
  {
   "cell_type": "code",
   "execution_count": 1,
   "metadata": {
    "colab": {
     "base_uri": "https://localhost:8080/",
     "height": 206
    },
    "executionInfo": {
     "elapsed": 262,
     "status": "ok",
     "timestamp": 1655180838758,
     "user": {
      "displayName": "‍김태형[ 대학원석·박사통합과정재학 / 산업경영공학과 ]",
      "userId": "00288066936238655028"
     },
     "user_tz": -540
    },
    "id": "qlG--rMUIhtl",
    "outputId": "ae8c4164-a38a-469d-9365-ca22d43833e9"
   },
   "outputs": [
    {
     "name": "stderr",
     "output_type": "stream",
     "text": [
      "\u001b[34m\u001b[1mwandb\u001b[0m: Currently logged in as: \u001b[33mgnoeyheat\u001b[0m (use `wandb login --relogin` to force relogin)\n"
     ]
    },
    {
     "data": {
      "text/html": [
       "wandb version 0.12.18 is available!  To upgrade, please run:\n",
       " $ pip install wandb --upgrade"
      ],
      "text/plain": [
       "<IPython.core.display.HTML object>"
      ]
     },
     "metadata": {},
     "output_type": "display_data"
    },
    {
     "data": {
      "text/html": [
       "Tracking run with wandb version 0.12.14"
      ],
      "text/plain": [
       "<IPython.core.display.HTML object>"
      ]
     },
     "metadata": {},
     "output_type": "display_data"
    },
    {
     "data": {
      "text/html": [
       "Run data is saved locally in <code>C:\\Users\\Taehyeong\\_DACON\\DACON_235910\\wandb\\run-20220620_235439-tmw1pg44</code>"
      ],
      "text/plain": [
       "<IPython.core.display.HTML object>"
      ]
     },
     "metadata": {},
     "output_type": "display_data"
    },
    {
     "data": {
      "text/html": [
       "Syncing run <strong><a href=\"https://wandb.ai/gnoeyheat/DACON_235910/runs/tmw1pg44\" target=\"_blank\">Baseline</a></strong> to <a href=\"https://wandb.ai/gnoeyheat/DACON_235910\" target=\"_blank\">Weights & Biases</a> (<a href=\"https://wandb.me/run\" target=\"_blank\">docs</a>)<br/>"
      ],
      "text/plain": [
       "<IPython.core.display.HTML object>"
      ]
     },
     "metadata": {},
     "output_type": "display_data"
    },
    {
     "data": {
      "text/html": [
       "<div>\n",
       "<style scoped>\n",
       "    .dataframe tbody tr th:only-of-type {\n",
       "        vertical-align: middle;\n",
       "    }\n",
       "\n",
       "    .dataframe tbody tr th {\n",
       "        vertical-align: top;\n",
       "    }\n",
       "\n",
       "    .dataframe thead th {\n",
       "        text-align: right;\n",
       "    }\n",
       "</style>\n",
       "<table border=\"1\" class=\"dataframe\">\n",
       "  <thead>\n",
       "    <tr style=\"text-align: right;\">\n",
       "      <th></th>\n",
       "      <th>data</th>\n",
       "      <th>id</th>\n",
       "      <th>age</th>\n",
       "      <th>gender</th>\n",
       "      <th>respiratory_condition</th>\n",
       "      <th>fever_or_muscle_pain</th>\n",
       "      <th>covid19</th>\n",
       "    </tr>\n",
       "  </thead>\n",
       "  <tbody>\n",
       "    <tr>\n",
       "      <th>0</th>\n",
       "      <td>[0.0, 0.0, 0.0, 0.0, 0.0, 0.0, 0.0, 0.0, 0.0, ...</td>\n",
       "      <td>1</td>\n",
       "      <td>24</td>\n",
       "      <td>female</td>\n",
       "      <td>0</td>\n",
       "      <td>1</td>\n",
       "      <td>0</td>\n",
       "    </tr>\n",
       "    <tr>\n",
       "      <th>1</th>\n",
       "      <td>[0.0, 0.0, 0.0, 0.0, 0.0, 0.0, 0.0, 0.0, 0.0, ...</td>\n",
       "      <td>2</td>\n",
       "      <td>51</td>\n",
       "      <td>male</td>\n",
       "      <td>0</td>\n",
       "      <td>0</td>\n",
       "      <td>0</td>\n",
       "    </tr>\n",
       "    <tr>\n",
       "      <th>2</th>\n",
       "      <td>[2.7372453e-09, -1.0615647e-08, 5.2142607e-08,...</td>\n",
       "      <td>3</td>\n",
       "      <td>22</td>\n",
       "      <td>male</td>\n",
       "      <td>0</td>\n",
       "      <td>0</td>\n",
       "      <td>0</td>\n",
       "    </tr>\n",
       "    <tr>\n",
       "      <th>3</th>\n",
       "      <td>[0.0, 0.0, 0.0, 0.0, 0.0, 0.0, 0.0, 0.0, 0.0, ...</td>\n",
       "      <td>4</td>\n",
       "      <td>29</td>\n",
       "      <td>female</td>\n",
       "      <td>1</td>\n",
       "      <td>0</td>\n",
       "      <td>0</td>\n",
       "    </tr>\n",
       "    <tr>\n",
       "      <th>4</th>\n",
       "      <td>[0.0, 0.0, 0.0, 0.0, 0.0, 0.0, 0.0, 0.0, 0.0, ...</td>\n",
       "      <td>5</td>\n",
       "      <td>23</td>\n",
       "      <td>male</td>\n",
       "      <td>0</td>\n",
       "      <td>0</td>\n",
       "      <td>0</td>\n",
       "    </tr>\n",
       "  </tbody>\n",
       "</table>\n",
       "</div>"
      ],
      "text/plain": [
       "                                                data  id  age  gender  \\\n",
       "0  [0.0, 0.0, 0.0, 0.0, 0.0, 0.0, 0.0, 0.0, 0.0, ...   1   24  female   \n",
       "1  [0.0, 0.0, 0.0, 0.0, 0.0, 0.0, 0.0, 0.0, 0.0, ...   2   51    male   \n",
       "2  [2.7372453e-09, -1.0615647e-08, 5.2142607e-08,...   3   22    male   \n",
       "3  [0.0, 0.0, 0.0, 0.0, 0.0, 0.0, 0.0, 0.0, 0.0, ...   4   29  female   \n",
       "4  [0.0, 0.0, 0.0, 0.0, 0.0, 0.0, 0.0, 0.0, 0.0, ...   5   23    male   \n",
       "\n",
       "   respiratory_condition  fever_or_muscle_pain  covid19  \n",
       "0                      0                     1        0  \n",
       "1                      0                     0        0  \n",
       "2                      0                     0        0  \n",
       "3                      1                     0        0  \n",
       "4                      0                     0        0  "
      ]
     },
     "execution_count": 1,
     "metadata": {},
     "output_type": "execute_result"
    }
   ],
   "source": [
    "import os\n",
    "import random\n",
    "import numpy as np\n",
    "import pandas as pd\n",
    "import matplotlib.pyplot as plt\n",
    "import seaborn as sns\n",
    "%matplotlib inline\n",
    "\n",
    "from sklearn.model_selection import StratifiedKFold\n",
    "from sklearn.metrics import f1_score\n",
    "\n",
    "import tensorflow as tf\n",
    "import tensorflow_addons as tfa\n",
    "from keras import layers\n",
    "\n",
    "import librosa\n",
    "from audiomentations import SpecCompose, SpecFrequencyMask\n",
    "\n",
    "from tqdm import tqdm\n",
    "import warnings\n",
    "warnings.filterwarnings('ignore')\n",
    "\n",
    "import pickle\n",
    "import argparse\n",
    "import wandb\n",
    "from wandb.keras import WandbCallback\n",
    "wandb.init(project=\"DACON_235910\", name=\"Baseline\")\n",
    "\n",
    "parser = argparse.ArgumentParser(description=\"Baseline\")\n",
    "parser.add_argument('--feature', default=\"mfcc\", type=str) # mfcc or melspec\n",
    "parser.add_argument('--cnn_model', default=\"2d\", type=str) # 1d or 2d\n",
    "parser.add_argument('--sampling_rate', default=16000, type=int)\n",
    "# parser.add_argument('--frequency_mask', default=0, type=float)\n",
    "parser.add_argument('--optimizer', default=\"sgd\", type=str) # sgd or adam\n",
    "parser.add_argument('--loss', default=\"fl\", type=str) # bc or fl\n",
    "parser.add_argument('--learning_rate', default=0.001, type=float)\n",
    "parser.add_argument('--batch_size', default=32, type=int)\n",
    "parser.add_argument('--epochs', default=100, type=int)\n",
    "parser.add_argument('--cv', default=10, type=int)\n",
    "parser.add_argument('--seed', default=1011, type=int)\n",
    "args = parser.parse_args('')\n",
    "\n",
    "wandb.config.update(args)\n",
    "\n",
    "feature = args.feature\n",
    "cnn_model = args.cnn_model\n",
    "sampling_rate = args.sampling_rate\n",
    "# frequency_mask = args.frequency_mask\n",
    "optimizer = args.optimizer\n",
    "loss = args.loss\n",
    "learning_rate = args.learning_rate\n",
    "BATCH_SIZE = args.batch_size\n",
    "EPOCHS = args.epochs\n",
    "cv = args.cv\n",
    "seed = args.seed\n",
    "\n",
    "def set_seeds(seed=seed):\n",
    "    os.environ['PYTHONHASHSEED'] = str(seed)\n",
    "    random.seed(seed)\n",
    "    np.random.seed(seed)\n",
    "    tf.random.set_seed(seed)\n",
    "\n",
    "# augment = SpecCompose([SpecFrequencyMask(p=frequency_mask)])\n",
    "    \n",
    "with open('data/train_df.pkl', 'rb') as f:\n",
    "    train_df = pickle.load(f)\n",
    "with open('data/test_df.pkl', 'rb') as f:\n",
    "    test_df = pickle.load(f)\n",
    "    \n",
    "train_df.head()"
   ]
  },
  {
   "cell_type": "code",
   "execution_count": 2,
   "metadata": {},
   "outputs": [
    {
     "data": {
      "text/plain": [
       "0    0.91958\n",
       "1    0.08042\n",
       "Name: covid19, dtype: float64"
      ]
     },
     "execution_count": 2,
     "metadata": {},
     "output_type": "execute_result"
    }
   ],
   "source": [
    "train_df[\"covid19\"].value_counts(normalize=True)"
   ]
  },
  {
   "cell_type": "markdown",
   "metadata": {},
   "source": [
    "## Data Generation"
   ]
  },
  {
   "cell_type": "code",
   "execution_count": 3,
   "metadata": {},
   "outputs": [],
   "source": [
    "# train_df = pd.read_csv(\"data/train_data.csv\")\n",
    "# test_df = pd.read_csv(\"data/test_data.csv\")\n",
    "\n",
    "# train_folder = \"data/train/\"\n",
    "# test_folder = \"data/test/\"\n",
    "\n",
    "# def dataset(folder, df):\n",
    "#     dataset = []\n",
    "#     for uid in tqdm(df['id']):\n",
    "#         path = os.path.join(folder, str(uid).zfill(5)+'.wav')\n",
    "#         y, sr = librosa.load(path, sr=sampling_rate)\n",
    "#         y = librosa.util.normalize(y)\n",
    "#         dataset.append([y])\n",
    "#     dataset = pd.DataFrame(dataset, columns=['data'])\n",
    "#     dataset = pd.concat([dataset, df], axis=1)\n",
    "#     return dataset\n",
    "\n",
    "# train_df = dataset(train_folder, train_df)\n",
    "# test_df = dataset(test_folder, test_df)\n",
    "\n",
    "# with open('train_df.pkl', 'wb') as f:\n",
    "#     pickle.dump(train_df, f, pickle.HIGHEST_PROTOCOL)\n",
    "# with open('test_df.pkl', 'wb') as f:\n",
    "#     pickle.dump(test_df, f, pickle.HIGHEST_PROTOCOL)"
   ]
  },
  {
   "cell_type": "markdown",
   "metadata": {
    "id": "SLr-znikdl4b"
   },
   "source": [
    "## Preprocessing"
   ]
  },
  {
   "cell_type": "code",
   "execution_count": 4,
   "metadata": {
    "colab": {
     "base_uri": "https://localhost:8080/"
    },
    "executionInfo": {
     "elapsed": 2744,
     "status": "ok",
     "timestamp": 1655181967331,
     "user": {
      "displayName": "‍김태형[ 대학원석·박사통합과정재학 / 산업경영공학과 ]",
      "userId": "00288066936238655028"
     },
     "user_tz": -540
    },
    "id": "QhMtoag0S8OM",
    "outputId": "2ac9cf2d-01a5-4205-f921-52e5ca8e4911"
   },
   "outputs": [
    {
     "name": "stderr",
     "output_type": "stream",
     "text": [
      "100%|██████████████████████████████████████████████████████████████████████████████| 3805/3805 [00:49<00:00, 76.58it/s]\n",
      "100%|██████████████████████████████████████████████████████████████████████████████| 5732/5732 [01:11<00:00, 80.44it/s]\n"
     ]
    },
    {
     "data": {
      "text/plain": [
       "((3805, 40, 40, 1), (3805,), (5732, 40, 40, 1))"
      ]
     },
     "execution_count": 4,
     "metadata": {},
     "output_type": "execute_result"
    }
   ],
   "source": [
    "def preprocess_dataset(data):\n",
    "\n",
    "    frame_length = 0.025\n",
    "    frame_stride = 0.010\n",
    "\n",
    "    input_nfft = int(round(sampling_rate*frame_length))\n",
    "    input_stride = int(round(sampling_rate*frame_stride))\n",
    "\n",
    "    extracted_features = []\n",
    "    for i in tqdm(data):\n",
    "        if feature == \"mfcc\":\n",
    "            n_feature = 40\n",
    "            S = librosa.feature.mfcc(y=i,\n",
    "                                     sr=sampling_rate,\n",
    "                                     n_mfcc=n_feature,\n",
    "                                     n_fft=input_nfft,\n",
    "                                     hop_length=input_stride)\n",
    "        elif feature == \"melspec\":\n",
    "            n_feature = 128\n",
    "            S = librosa.feature.melspectrogram(y=i,\n",
    "                                               sr=sampling_rate,\n",
    "                                               n_mels=n_feature,\n",
    "                                               n_fft=input_nfft,\n",
    "                                               hop_length=input_stride)\n",
    "            S = librosa.power_to_db(S, ref=np.max)\n",
    "        S = tf.image.resize(S[:, :, np.newaxis], (n_feature, n_feature))\n",
    "        if cnn_model == \"1d\":\n",
    "            S = np.transpose(S[:,:,0], (0, 1))\n",
    "        extracted_features.append(S)\n",
    "    return extracted_features\n",
    "\n",
    "X = np.array(preprocess_dataset(train_df[\"data\"]))\n",
    "X_test = np.array(preprocess_dataset(test_df[\"data\"]))\n",
    "y = train_df[\"covid19\"]\n",
    "\n",
    "X.shape, y.shape, X_test.shape"
   ]
  },
  {
   "cell_type": "code",
   "execution_count": 5,
   "metadata": {},
   "outputs": [
    {
     "data": {
      "text/plain": [
       "(5732, 2)"
      ]
     },
     "execution_count": 5,
     "metadata": {},
     "output_type": "execute_result"
    }
   ],
   "source": [
    "def preprocess_feature(df):\n",
    "    temp = df.copy()\n",
    "    temp[\"condition1\"] = temp[\"respiratory_condition\"] + temp[\"fever_or_muscle_pain\"]\n",
    "    temp[\"condition2\"] = temp[\"respiratory_condition\"] * temp[\"fever_or_muscle_pain\"]\n",
    "    temp = temp.drop([\"id\", \"age\", \"gender\", \"respiratory_condition\", \"fever_or_muscle_pain\"], axis=1)\n",
    "    return temp\n",
    "\n",
    "train_df = preprocess_feature(train_df)\n",
    "test_df = preprocess_feature(test_df)\n",
    "\n",
    "X_test_tab = test_df[[\"condition1\", \"condition2\"]].values\n",
    "\n",
    "X_test_tab.shape"
   ]
  },
  {
   "cell_type": "markdown",
   "metadata": {
    "id": "-mtlHyQhgAoN"
   },
   "source": [
    "## Training"
   ]
  },
  {
   "cell_type": "code",
   "execution_count": 6,
   "metadata": {},
   "outputs": [
    {
     "name": "stdout",
     "output_type": "stream",
     "text": [
      "Model: \"model\"\n",
      "__________________________________________________________________________________________________\n",
      " Layer (type)                   Output Shape         Param #     Connected to                     \n",
      "==================================================================================================\n",
      " input_1 (InputLayer)           [(None, 40, 40, 1)]  0           []                               \n",
      "                                                                                                  \n",
      " conv2d (Conv2D)                (None, 40, 40, 64)   640         ['input_1[0][0]']                \n",
      "                                                                                                  \n",
      " batch_normalization (BatchNorm  (None, 40, 40, 64)  256         ['conv2d[0][0]']                 \n",
      " alization)                                                                                       \n",
      "                                                                                                  \n",
      " activation (Activation)        (None, 40, 40, 64)   0           ['batch_normalization[0][0]']    \n",
      "                                                                                                  \n",
      " conv2d_1 (Conv2D)              (None, 40, 40, 64)   36928       ['activation[0][0]']             \n",
      "                                                                                                  \n",
      " batch_normalization_1 (BatchNo  (None, 40, 40, 64)  256         ['conv2d_1[0][0]']               \n",
      " rmalization)                                                                                     \n",
      "                                                                                                  \n",
      " activation_1 (Activation)      (None, 40, 40, 64)   0           ['batch_normalization_1[0][0]']  \n",
      "                                                                                                  \n",
      " max_pooling2d (MaxPooling2D)   (None, 20, 20, 64)   0           ['activation_1[0][0]']           \n",
      "                                                                                                  \n",
      " conv2d_2 (Conv2D)              (None, 20, 20, 128)  73856       ['max_pooling2d[0][0]']          \n",
      "                                                                                                  \n",
      " batch_normalization_2 (BatchNo  (None, 20, 20, 128)  512        ['conv2d_2[0][0]']               \n",
      " rmalization)                                                                                     \n",
      "                                                                                                  \n",
      " activation_2 (Activation)      (None, 20, 20, 128)  0           ['batch_normalization_2[0][0]']  \n",
      "                                                                                                  \n",
      " conv2d_3 (Conv2D)              (None, 20, 20, 128)  147584      ['activation_2[0][0]']           \n",
      "                                                                                                  \n",
      " batch_normalization_3 (BatchNo  (None, 20, 20, 128)  512        ['conv2d_3[0][0]']               \n",
      " rmalization)                                                                                     \n",
      "                                                                                                  \n",
      " activation_3 (Activation)      (None, 20, 20, 128)  0           ['batch_normalization_3[0][0]']  \n",
      "                                                                                                  \n",
      " max_pooling2d_1 (MaxPooling2D)  (None, 10, 10, 128)  0          ['activation_3[0][0]']           \n",
      "                                                                                                  \n",
      " conv2d_4 (Conv2D)              (None, 10, 10, 256)  295168      ['max_pooling2d_1[0][0]']        \n",
      "                                                                                                  \n",
      " batch_normalization_4 (BatchNo  (None, 10, 10, 256)  1024       ['conv2d_4[0][0]']               \n",
      " rmalization)                                                                                     \n",
      "                                                                                                  \n",
      " activation_4 (Activation)      (None, 10, 10, 256)  0           ['batch_normalization_4[0][0]']  \n",
      "                                                                                                  \n",
      " conv2d_5 (Conv2D)              (None, 10, 10, 256)  590080      ['activation_4[0][0]']           \n",
      "                                                                                                  \n",
      " batch_normalization_5 (BatchNo  (None, 10, 10, 256)  1024       ['conv2d_5[0][0]']               \n",
      " rmalization)                                                                                     \n",
      "                                                                                                  \n",
      " activation_5 (Activation)      (None, 10, 10, 256)  0           ['batch_normalization_5[0][0]']  \n",
      "                                                                                                  \n",
      " global_average_pooling2d (Glob  (None, 256)         0           ['activation_5[0][0]']           \n",
      " alAveragePooling2D)                                                                              \n",
      "                                                                                                  \n",
      " input_2 (InputLayer)           [(None, 2)]          0           []                               \n",
      "                                                                                                  \n",
      " concatenate (Concatenate)      (None, 258)          0           ['global_average_pooling2d[0][0]'\n",
      "                                                                 , 'input_2[0][0]']               \n",
      "                                                                                                  \n",
      " dense (Dense)                  (None, 64)           16576       ['concatenate[0][0]']            \n",
      "                                                                                                  \n",
      " dropout (Dropout)              (None, 64)           0           ['dense[0][0]']                  \n",
      "                                                                                                  \n",
      " dense_1 (Dense)                (None, 16)           1040        ['dropout[0][0]']                \n",
      "                                                                                                  \n",
      " dropout_1 (Dropout)            (None, 16)           0           ['dense_1[0][0]']                \n",
      "                                                                                                  \n",
      " dense_2 (Dense)                (None, 1)            17          ['dropout_1[0][0]']              \n",
      "                                                                                                  \n",
      "==================================================================================================\n",
      "Total params: 1,165,473\n",
      "Trainable params: 1,163,681\n",
      "Non-trainable params: 1,792\n",
      "__________________________________________________________________________________________________\n"
     ]
    }
   ],
   "source": [
    "def scratch_1dcnn():\n",
    "    \n",
    "    inp = tf.keras.Input(shape=(X.shape[1], X.shape[2]))\n",
    "    tab = tf.keras.Input(shape=(X_test_tab.shape[1],))\n",
    "    \n",
    "    x = layers.Conv1D(256, 3, 1, padding=\"same\")(inp)\n",
    "    x = layers.BatchNormalization()(x)\n",
    "    x = layers.Activation('relu')(x)\n",
    "    x = layers.Conv1D(256, 3, 1, padding=\"same\")(x)\n",
    "    x = layers.BatchNormalization()(x)\n",
    "    x = layers.MaxPooling1D()(x)\n",
    "    \n",
    "    x = layers.Conv1D(512, 3, 1, padding=\"same\")(x)\n",
    "    x = layers.BatchNormalization()(x)\n",
    "    x = layers.Activation('relu')(x)\n",
    "    x = layers.Conv1D(512, 3, 1, padding=\"same\")(x)\n",
    "    x = layers.BatchNormalization()(x)\n",
    "    x = layers.Activation('relu')(x)\n",
    "    x = layers.MaxPooling1D()(x)\n",
    "    \n",
    "    x = layers.Conv1D(1024, 3, 1, padding=\"same\")(x)\n",
    "    x = layers.BatchNormalization()(x)\n",
    "    x = layers.Activation('relu')(x)\n",
    "    x = layers.Conv1D(1024, 3, 1, padding=\"same\")(x)\n",
    "    x = layers.BatchNormalization()(x)\n",
    "    x = layers.Activation('relu')(x)\n",
    "    \n",
    "    x = layers.GlobalAveragePooling1D()(x)\n",
    "    x = layers.Concatenate()([x, tab])\n",
    "    \n",
    "    x = layers.Dense(256, activation=\"relu\")(x)\n",
    "    x = layers.Dropout(0.2)(x)\n",
    "    x = layers.Dense(64, activation=\"relu\")(x)\n",
    "    x = layers.Dropout(0.2)(x)\n",
    "    x = layers.Dense(16, activation=\"relu\")(x)\n",
    "    x = layers.Dropout(0.2)(x)\n",
    "    \n",
    "    oup = layers.Dense(1, activation=\"sigmoid\")(x)\n",
    "    \n",
    "    model = tf.keras.Model(inputs=[inp, tab], outputs=oup)\n",
    "    \n",
    "    return model\n",
    "\n",
    "\n",
    "def scratch_2dcnn():\n",
    "    \n",
    "    inp = tf.keras.Input(shape=(X.shape[1], X.shape[2], 1))\n",
    "    tab = tf.keras.Input(shape=(X_test_tab.shape[1],))\n",
    "    \n",
    "    x = layers.Conv2D(64, 3, 1, padding=\"same\")(inp)\n",
    "    x = layers.BatchNormalization()(x)\n",
    "    x = layers.Activation('relu')(x)\n",
    "    x = layers.Conv2D(64, 3, 1, padding=\"same\")(x)\n",
    "    x = layers.BatchNormalization()(x)\n",
    "    x = layers.Activation('relu')(x)\n",
    "    x = layers.MaxPooling2D()(x)\n",
    "    \n",
    "    x = layers.Conv2D(128, 3, 1, padding=\"same\")(x)\n",
    "    x = layers.BatchNormalization()(x)\n",
    "    x = layers.Activation('relu')(x)\n",
    "    x = layers.Conv2D(128, 3, 1, padding=\"same\")(x)\n",
    "    x = layers.BatchNormalization()(x)\n",
    "    x = layers.Activation('relu')(x)\n",
    "    x = layers.MaxPooling2D()(x)\n",
    "    \n",
    "    x = layers.Conv2D(256, 3, 1, padding=\"same\")(x)\n",
    "    x = layers.BatchNormalization()(x)\n",
    "    x = layers.Activation('relu')(x)\n",
    "    x = layers.Conv2D(256, 3, 1, padding=\"same\")(x)\n",
    "    x = layers.BatchNormalization()(x)\n",
    "    x = layers.Activation('relu')(x)\n",
    "    \n",
    "    x = layers.GlobalAveragePooling2D()(x)\n",
    "    x = layers.Concatenate()([x, tab])\n",
    "    \n",
    "    x = layers.Dense(64, activation=\"relu\")(x)\n",
    "    x = layers.Dropout(0.2)(x)\n",
    "    x = layers.Dense(16, activation=\"relu\")(x)\n",
    "    x = layers.Dropout(0.2)(x)\n",
    "    \n",
    "    oup = layers.Dense(1, activation=\"sigmoid\")(x)\n",
    "    \n",
    "    model = tf.keras.Model(inputs=[inp, tab], outputs=oup)\n",
    "    \n",
    "    return model\n",
    "\n",
    "if cnn_model == \"1d\":\n",
    "    model = scratch_1dcnn()\n",
    "elif cnn_model == \"2d\":\n",
    "    model = scratch_2dcnn()\n",
    "    \n",
    "model.summary()"
   ]
  },
  {
   "cell_type": "code",
   "execution_count": 7,
   "metadata": {
    "colab": {
     "base_uri": "https://localhost:8080/"
    },
    "id": "mhXTtjxTTlss",
    "outputId": "7ca4889d-0322-4d75-ae76-33a37b41f868"
   },
   "outputs": [
    {
     "name": "stderr",
     "output_type": "stream",
     "text": [
      "0it [00:00, ?it/s]"
     ]
    },
    {
     "name": "stdout",
     "output_type": "stream",
     "text": [
      "Epoch 1/100\n",
      "107/107 [==============================] - 9s 28ms/step - loss: 0.0335 - val_loss: 0.0328 - _timestamp: 1655737024.0000 - _runtime: 145.0000\n",
      "Epoch 2/100\n",
      "107/107 [==============================] - 3s 25ms/step - loss: 0.0287 - val_loss: 0.0301 - _timestamp: 1655737027.0000 - _runtime: 148.0000\n",
      "Epoch 3/100\n",
      "107/107 [==============================] - 3s 25ms/step - loss: 0.0269 - val_loss: 0.0263 - _timestamp: 1655737030.0000 - _runtime: 151.0000\n",
      "Epoch 4/100\n",
      "107/107 [==============================] - 3s 24ms/step - loss: 0.0263 - val_loss: 0.0262 - _timestamp: 1655737032.0000 - _runtime: 153.0000\n",
      "Epoch 5/100\n",
      "107/107 [==============================] - 3s 25ms/step - loss: 0.0261 - val_loss: 0.0261 - _timestamp: 1655737035.0000 - _runtime: 156.0000\n",
      "Epoch 6/100\n",
      "107/107 [==============================] - 2s 22ms/step - loss: 0.0257 - val_loss: 0.0262 - _timestamp: 1655737038.0000 - _runtime: 159.0000\n",
      "Epoch 7/100\n",
      "107/107 [==============================] - 3s 25ms/step - loss: 0.0254 - val_loss: 0.0260 - _timestamp: 1655737040.0000 - _runtime: 161.0000\n",
      "Epoch 8/100\n",
      "107/107 [==============================] - 3s 25ms/step - loss: 0.0255 - val_loss: 0.0260 - _timestamp: 1655737043.0000 - _runtime: 164.0000\n",
      "Epoch 9/100\n",
      "107/107 [==============================] - 2s 22ms/step - loss: 0.0254 - val_loss: 0.0261 - _timestamp: 1655737045.0000 - _runtime: 166.0000\n",
      "Epoch 10/100\n",
      "107/107 [==============================] - 2s 22ms/step - loss: 0.0253 - val_loss: 0.0261 - _timestamp: 1655737048.0000 - _runtime: 169.0000\n",
      "Epoch 11/100\n",
      "107/107 [==============================] - 2s 22ms/step - loss: 0.0250 - val_loss: 0.0261 - _timestamp: 1655737050.0000 - _runtime: 171.0000\n",
      "Epoch 12/100\n",
      "107/107 [==============================] - 2s 22ms/step - loss: 0.0252 - val_loss: 0.0261 - _timestamp: 1655737053.0000 - _runtime: 174.0000\n",
      "Epoch 13/100\n",
      "107/107 [==============================] - 2s 22ms/step - loss: 0.0253 - val_loss: 0.0261 - _timestamp: 1655737055.0000 - _runtime: 176.0000\n",
      "Epoch 14/100\n",
      "107/107 [==============================] - 2s 22ms/step - loss: 0.0254 - val_loss: 0.0261 - _timestamp: 1655737058.0000 - _runtime: 179.0000\n",
      "Epoch 15/100\n",
      "107/107 [==============================] - 2s 23ms/step - loss: 0.0252 - val_loss: 0.0261 - _timestamp: 1655737060.0000 - _runtime: 181.0000\n",
      "Epoch 16/100\n",
      "107/107 [==============================] - 2s 22ms/step - loss: 0.0252 - val_loss: 0.0261 - _timestamp: 1655737062.0000 - _runtime: 183.0000\n",
      "Epoch 17/100\n",
      "107/107 [==============================] - 2s 23ms/step - loss: 0.0251 - val_loss: 0.0261 - _timestamp: 1655737065.0000 - _runtime: 186.0000\n",
      "Epoch 18/100\n",
      "107/107 [==============================] - 2s 23ms/step - loss: 0.0257 - val_loss: 0.0261 - _timestamp: 1655737067.0000 - _runtime: 188.0000\n",
      "idx:1, f1:0.5634105844110286, threshold:0.25\n"
     ]
    },
    {
     "name": "stderr",
     "output_type": "stream",
     "text": [
      "1it [00:57, 57.02s/it]"
     ]
    },
    {
     "name": "stdout",
     "output_type": "stream",
     "text": [
      "Epoch 1/100\n",
      "107/107 [==============================] - 4s 26ms/step - loss: 0.0313 - val_loss: 0.0399 - _timestamp: 1655737076.0000 - _runtime: 197.0000\n",
      "Epoch 2/100\n",
      "107/107 [==============================] - 3s 25ms/step - loss: 0.0276 - val_loss: 0.0253 - _timestamp: 1655737079.0000 - _runtime: 200.0000\n",
      "Epoch 3/100\n",
      "107/107 [==============================] - 3s 26ms/step - loss: 0.0267 - val_loss: 0.0242 - _timestamp: 1655737082.0000 - _runtime: 203.0000\n",
      "Epoch 4/100\n",
      "107/107 [==============================] - 3s 26ms/step - loss: 0.0263 - val_loss: 0.0238 - _timestamp: 1655737084.0000 - _runtime: 205.0000\n",
      "Epoch 5/100\n",
      "107/107 [==============================] - 2s 23ms/step - loss: 0.0256 - val_loss: 0.0242 - _timestamp: 1655737087.0000 - _runtime: 208.0000\n",
      "Epoch 6/100\n",
      "107/107 [==============================] - 3s 26ms/step - loss: 0.0250 - val_loss: 0.0236 - _timestamp: 1655737090.0000 - _runtime: 211.0000\n",
      "Epoch 7/100\n",
      "107/107 [==============================] - 3s 27ms/step - loss: 0.0247 - val_loss: 0.0231 - _timestamp: 1655737093.0000 - _runtime: 214.0000\n",
      "Epoch 8/100\n",
      "107/107 [==============================] - 3s 25ms/step - loss: 0.0245 - val_loss: 0.0231 - _timestamp: 1655737095.0000 - _runtime: 216.0000\n",
      "Epoch 9/100\n",
      "107/107 [==============================] - 3s 26ms/step - loss: 0.0246 - val_loss: 0.0231 - _timestamp: 1655737098.0000 - _runtime: 219.0000\n",
      "Epoch 10/100\n",
      "107/107 [==============================] - 2s 23ms/step - loss: 0.0243 - val_loss: 0.0231 - _timestamp: 1655737101.0000 - _runtime: 222.0000\n",
      "Epoch 11/100\n",
      "107/107 [==============================] - 2s 23ms/step - loss: 0.0238 - val_loss: 0.0231 - _timestamp: 1655737103.0000 - _runtime: 224.0000\n",
      "Epoch 12/100\n",
      "107/107 [==============================] - 2s 23ms/step - loss: 0.0239 - val_loss: 0.0231 - _timestamp: 1655737106.0000 - _runtime: 227.0000\n",
      "Epoch 13/100\n",
      "107/107 [==============================] - 2s 22ms/step - loss: 0.0243 - val_loss: 0.0231 - _timestamp: 1655737108.0000 - _runtime: 229.0000\n",
      "Epoch 14/100\n",
      "107/107 [==============================] - 2s 23ms/step - loss: 0.0242 - val_loss: 0.0231 - _timestamp: 1655737111.0000 - _runtime: 232.0000\n",
      "Epoch 15/100\n",
      "107/107 [==============================] - 2s 23ms/step - loss: 0.0243 - val_loss: 0.0231 - _timestamp: 1655737113.0000 - _runtime: 234.0000\n",
      "Epoch 16/100\n",
      "107/107 [==============================] - 2s 23ms/step - loss: 0.0243 - val_loss: 0.0231 - _timestamp: 1655737116.0000 - _runtime: 237.0000\n",
      "Epoch 17/100\n",
      "107/107 [==============================] - 2s 22ms/step - loss: 0.0240 - val_loss: 0.0231 - _timestamp: 1655737118.0000 - _runtime: 239.0000\n",
      "Epoch 18/100\n",
      "107/107 [==============================] - 2s 22ms/step - loss: 0.0243 - val_loss: 0.0231 - _timestamp: 1655737121.0000 - _runtime: 242.0000\n",
      "Epoch 19/100\n",
      "107/107 [==============================] - 2s 22ms/step - loss: 0.0243 - val_loss: 0.0231 - _timestamp: 1655737123.0000 - _runtime: 244.0000\n",
      "idx:2, f1:0.6968267831149928, threshold:0.25\n"
     ]
    },
    {
     "name": "stderr",
     "output_type": "stream",
     "text": [
      "2it [01:52, 55.89s/it]"
     ]
    },
    {
     "name": "stdout",
     "output_type": "stream",
     "text": [
      "Epoch 1/100\n",
      "107/107 [==============================] - 4s 29ms/step - loss: 0.0331 - val_loss: 0.0361 - _timestamp: 1655737132.0000 - _runtime: 253.0000\n",
      "Epoch 2/100\n",
      "107/107 [==============================] - 3s 25ms/step - loss: 0.0278 - val_loss: 0.0287 - _timestamp: 1655737134.0000 - _runtime: 255.0000\n",
      "Epoch 3/100\n",
      "107/107 [==============================] - 3s 24ms/step - loss: 0.0265 - val_loss: 0.0258 - _timestamp: 1655737137.0000 - _runtime: 258.0000\n",
      "Epoch 4/100\n",
      "107/107 [==============================] - 2s 23ms/step - loss: 0.0263 - val_loss: 0.0259 - _timestamp: 1655737139.0000 - _runtime: 260.0000\n",
      "Epoch 5/100\n",
      "107/107 [==============================] - 3s 24ms/step - loss: 0.0260 - val_loss: 0.0251 - _timestamp: 1655737142.0000 - _runtime: 263.0000\n",
      "Epoch 6/100\n",
      "107/107 [==============================] - 3s 25ms/step - loss: 0.0253 - val_loss: 0.0248 - _timestamp: 1655737145.0000 - _runtime: 266.0000\n",
      "Epoch 7/100\n",
      "107/107 [==============================] - 3s 24ms/step - loss: 0.0248 - val_loss: 0.0247 - _timestamp: 1655737148.0000 - _runtime: 269.0000\n",
      "Epoch 8/100\n",
      "107/107 [==============================] - 2s 22ms/step - loss: 0.0243 - val_loss: 0.0247 - _timestamp: 1655737150.0000 - _runtime: 271.0000\n",
      "Epoch 9/100\n",
      "107/107 [==============================] - 2s 22ms/step - loss: 0.0243 - val_loss: 0.0247 - _timestamp: 1655737152.0000 - _runtime: 273.0000\n",
      "Epoch 10/100\n",
      "107/107 [==============================] - 2s 22ms/step - loss: 0.0245 - val_loss: 0.0247 - _timestamp: 1655737155.0000 - _runtime: 276.0000\n",
      "Epoch 11/100\n",
      "107/107 [==============================] - 2s 23ms/step - loss: 0.0245 - val_loss: 0.0247 - _timestamp: 1655737157.0000 - _runtime: 278.0000\n",
      "Epoch 12/100\n",
      "107/107 [==============================] - 2s 23ms/step - loss: 0.0243 - val_loss: 0.0247 - _timestamp: 1655737160.0000 - _runtime: 281.0000\n",
      "Epoch 13/100\n",
      "107/107 [==============================] - 2s 23ms/step - loss: 0.0245 - val_loss: 0.0247 - _timestamp: 1655737162.0000 - _runtime: 283.0000\n",
      "Epoch 14/100\n",
      "107/107 [==============================] - 2s 22ms/step - loss: 0.0243 - val_loss: 0.0247 - _timestamp: 1655737165.0000 - _runtime: 286.0000\n",
      "Epoch 15/100\n",
      "107/107 [==============================] - 2s 23ms/step - loss: 0.0242 - val_loss: 0.0247 - _timestamp: 1655737167.0000 - _runtime: 288.0000\n",
      "Epoch 16/100\n",
      "107/107 [==============================] - 2s 22ms/step - loss: 0.0243 - val_loss: 0.0247 - _timestamp: 1655737170.0000 - _runtime: 291.0000\n",
      "Epoch 17/100\n",
      "107/107 [==============================] - 2s 23ms/step - loss: 0.0243 - val_loss: 0.0247 - _timestamp: 1655737172.0000 - _runtime: 293.0000\n",
      "idx:3, f1:0.5888858915565147, threshold:0.25\n"
     ]
    },
    {
     "name": "stderr",
     "output_type": "stream",
     "text": [
      "3it [02:41, 52.88s/it]"
     ]
    },
    {
     "name": "stdout",
     "output_type": "stream",
     "text": [
      "Epoch 1/100\n",
      "107/107 [==============================] - 4s 26ms/step - loss: 0.0315 - val_loss: 0.0403 - _timestamp: 1655737181.0000 - _runtime: 302.0000\n",
      "Epoch 2/100\n",
      "107/107 [==============================] - 3s 25ms/step - loss: 0.0284 - val_loss: 0.0293 - _timestamp: 1655737183.0000 - _runtime: 304.0000\n",
      "Epoch 3/100\n",
      "107/107 [==============================] - 3s 24ms/step - loss: 0.0265 - val_loss: 0.0248 - _timestamp: 1655737186.0000 - _runtime: 307.0000\n",
      "Epoch 4/100\n",
      "107/107 [==============================] - 2s 23ms/step - loss: 0.0261 - val_loss: 0.0248 - _timestamp: 1655737188.0000 - _runtime: 309.0000\n",
      "Epoch 5/100\n",
      "107/107 [==============================] - 3s 25ms/step - loss: 0.0257 - val_loss: 0.0245 - _timestamp: 1655737191.0000 - _runtime: 312.0000\n",
      "Epoch 6/100\n",
      "107/107 [==============================] - 2s 23ms/step - loss: 0.0251 - val_loss: 0.0246 - _timestamp: 1655737194.0000 - _runtime: 315.0000\n",
      "Epoch 7/100\n",
      "107/107 [==============================] - 2s 23ms/step - loss: 0.0254 - val_loss: 0.0248 - _timestamp: 1655737196.0000 - _runtime: 317.0000\n",
      "Epoch 8/100\n",
      "107/107 [==============================] - 3s 24ms/step - loss: 0.0246 - val_loss: 0.0245 - _timestamp: 1655737199.0000 - _runtime: 320.0000\n",
      "Epoch 9/100\n",
      "107/107 [==============================] - 2s 23ms/step - loss: 0.0246 - val_loss: 0.0245 - _timestamp: 1655737201.0000 - _runtime: 322.0000\n",
      "Epoch 10/100\n",
      "107/107 [==============================] - 2s 23ms/step - loss: 0.0247 - val_loss: 0.0245 - _timestamp: 1655737204.0000 - _runtime: 325.0000\n",
      "Epoch 11/100\n",
      "107/107 [==============================] - 2s 22ms/step - loss: 0.0246 - val_loss: 0.0245 - _timestamp: 1655737206.0000 - _runtime: 327.0000\n",
      "Epoch 12/100\n",
      "107/107 [==============================] - 2s 23ms/step - loss: 0.0245 - val_loss: 0.0245 - _timestamp: 1655737209.0000 - _runtime: 330.0000\n",
      "Epoch 13/100\n",
      "107/107 [==============================] - 2s 23ms/step - loss: 0.0243 - val_loss: 0.0245 - _timestamp: 1655737211.0000 - _runtime: 332.0000\n",
      "Epoch 14/100\n",
      "107/107 [==============================] - 2s 23ms/step - loss: 0.0244 - val_loss: 0.0245 - _timestamp: 1655737214.0000 - _runtime: 335.0000\n",
      "Epoch 15/100\n",
      "107/107 [==============================] - 2s 23ms/step - loss: 0.0245 - val_loss: 0.0245 - _timestamp: 1655737216.0000 - _runtime: 337.0000\n",
      "Epoch 16/100\n",
      "107/107 [==============================] - 2s 22ms/step - loss: 0.0249 - val_loss: 0.0245 - _timestamp: 1655737219.0000 - _runtime: 340.0000\n",
      "Epoch 17/100\n",
      "107/107 [==============================] - 2s 23ms/step - loss: 0.0244 - val_loss: 0.0245 - _timestamp: 1655737221.0000 - _runtime: 342.0000\n",
      "Epoch 18/100\n",
      "107/107 [==============================] - 2s 23ms/step - loss: 0.0248 - val_loss: 0.0245 - _timestamp: 1655737224.0000 - _runtime: 345.0000\n",
      "idx:4, f1:0.6361235955056179, threshold:0.3\n"
     ]
    },
    {
     "name": "stderr",
     "output_type": "stream",
     "text": [
      "4it [03:32, 52.30s/it]"
     ]
    },
    {
     "name": "stdout",
     "output_type": "stream",
     "text": [
      "Epoch 1/100\n",
      "107/107 [==============================] - 4s 27ms/step - loss: 0.0365 - val_loss: 0.0308 - _timestamp: 1655737232.0000 - _runtime: 353.0000\n",
      "Epoch 2/100\n",
      "107/107 [==============================] - 3s 26ms/step - loss: 0.0273 - val_loss: 0.0263 - _timestamp: 1655737235.0000 - _runtime: 356.0000\n",
      "Epoch 3/100\n",
      "107/107 [==============================] - 3s 25ms/step - loss: 0.0263 - val_loss: 0.0255 - _timestamp: 1655737238.0000 - _runtime: 359.0000\n",
      "Epoch 4/100\n",
      "107/107 [==============================] - 3s 25ms/step - loss: 0.0260 - val_loss: 0.0254 - _timestamp: 1655737240.0000 - _runtime: 361.0000\n",
      "Epoch 5/100\n",
      "107/107 [==============================] - 3s 26ms/step - loss: 0.0257 - val_loss: 0.0253 - _timestamp: 1655737243.0000 - _runtime: 364.0000\n",
      "Epoch 6/100\n",
      "107/107 [==============================] - 3s 25ms/step - loss: 0.0253 - val_loss: 0.0250 - _timestamp: 1655737246.0000 - _runtime: 367.0000\n",
      "Epoch 7/100\n",
      "107/107 [==============================] - 3s 24ms/step - loss: 0.0255 - val_loss: 0.0251 - _timestamp: 1655737248.0000 - _runtime: 369.0000\n",
      "Epoch 8/100\n",
      "107/107 [==============================] - 3s 26ms/step - loss: 0.0247 - val_loss: 0.0250 - _timestamp: 1655737251.0000 - _runtime: 372.0000\n",
      "Epoch 9/100\n",
      "107/107 [==============================] - 3s 24ms/step - loss: 0.0249 - val_loss: 0.0250 - _timestamp: 1655737254.0000 - _runtime: 375.0000\n",
      "Epoch 10/100\n",
      "107/107 [==============================] - 2s 23ms/step - loss: 0.0249 - val_loss: 0.0250 - _timestamp: 1655737257.0000 - _runtime: 378.0000\n",
      "Epoch 11/100\n",
      "107/107 [==============================] - 3s 24ms/step - loss: 0.0250 - val_loss: 0.0250 - _timestamp: 1655737259.0000 - _runtime: 380.0000\n",
      "Epoch 12/100\n",
      "107/107 [==============================] - 3s 24ms/step - loss: 0.0249 - val_loss: 0.0250 - _timestamp: 1655737262.0000 - _runtime: 383.0000\n",
      "Epoch 13/100\n",
      "107/107 [==============================] - 3s 24ms/step - loss: 0.0248 - val_loss: 0.0250 - _timestamp: 1655737264.0000 - _runtime: 385.0000\n",
      "Epoch 14/100\n",
      "107/107 [==============================] - 2s 23ms/step - loss: 0.0250 - val_loss: 0.0250 - _timestamp: 1655737267.0000 - _runtime: 388.0000\n",
      "Epoch 15/100\n",
      "107/107 [==============================] - 3s 23ms/step - loss: 0.0249 - val_loss: 0.0250 - _timestamp: 1655737269.0000 - _runtime: 390.0000\n",
      "Epoch 16/100\n",
      "107/107 [==============================] - 3s 23ms/step - loss: 0.0246 - val_loss: 0.0250 - _timestamp: 1655737272.0000 - _runtime: 393.0000\n",
      "Epoch 17/100\n",
      "107/107 [==============================] - 2s 23ms/step - loss: 0.0251 - val_loss: 0.0250 - _timestamp: 1655737275.0000 - _runtime: 396.0000\n",
      "Epoch 18/100\n",
      "107/107 [==============================] - 3s 24ms/step - loss: 0.0251 - val_loss: 0.0250 - _timestamp: 1655737277.0000 - _runtime: 398.0000\n",
      "idx:5, f1:0.5884103463035812, threshold:0.25\n"
     ]
    },
    {
     "name": "stderr",
     "output_type": "stream",
     "text": [
      "5it [04:26, 52.67s/it]"
     ]
    },
    {
     "name": "stdout",
     "output_type": "stream",
     "text": [
      "Epoch 1/100\n",
      "108/108 [==============================] - 4s 29ms/step - loss: 0.0354 - val_loss: 0.0301 - _timestamp: 1655737286.0000 - _runtime: 407.0000\n",
      "Epoch 2/100\n",
      "108/108 [==============================] - 3s 24ms/step - loss: 0.0272 - val_loss: 0.0252 - _timestamp: 1655737288.0000 - _runtime: 409.0000\n",
      "Epoch 3/100\n",
      "108/108 [==============================] - 3s 24ms/step - loss: 0.0268 - val_loss: 0.0250 - _timestamp: 1655737291.0000 - _runtime: 412.0000\n",
      "Epoch 4/100\n",
      "108/108 [==============================] - 2s 23ms/step - loss: 0.0264 - val_loss: 0.0258 - _timestamp: 1655737293.0000 - _runtime: 414.0000\n",
      "Epoch 5/100\n",
      "108/108 [==============================] - 3s 24ms/step - loss: 0.0258 - val_loss: 0.0250 - _timestamp: 1655737296.0000 - _runtime: 417.0000\n",
      "Epoch 6/100\n",
      "108/108 [==============================] - 2s 22ms/step - loss: 0.0255 - val_loss: 0.0251 - _timestamp: 1655737299.0000 - _runtime: 420.0000\n",
      "Epoch 7/100\n",
      "108/108 [==============================] - 2s 22ms/step - loss: 0.0255 - val_loss: 0.0250 - _timestamp: 1655737301.0000 - _runtime: 422.0000\n",
      "Epoch 8/100\n",
      "108/108 [==============================] - 2s 23ms/step - loss: 0.0250 - val_loss: 0.0250 - _timestamp: 1655737304.0000 - _runtime: 425.0000\n",
      "Epoch 9/100\n",
      "108/108 [==============================] - 2s 23ms/step - loss: 0.0251 - val_loss: 0.0251 - _timestamp: 1655737306.0000 - _runtime: 427.0000\n",
      "Epoch 10/100\n",
      "108/108 [==============================] - 2s 23ms/step - loss: 0.0248 - val_loss: 0.0251 - _timestamp: 1655737309.0000 - _runtime: 430.0000\n",
      "Epoch 11/100\n",
      "108/108 [==============================] - 2s 23ms/step - loss: 0.0250 - val_loss: 0.0251 - _timestamp: 1655737311.0000 - _runtime: 432.0000\n",
      "Epoch 12/100\n",
      "108/108 [==============================] - 2s 23ms/step - loss: 0.0250 - val_loss: 0.0251 - _timestamp: 1655737314.0000 - _runtime: 435.0000\n",
      "Epoch 13/100\n",
      "108/108 [==============================] - 2s 23ms/step - loss: 0.0249 - val_loss: 0.0251 - _timestamp: 1655737316.0000 - _runtime: 437.0000\n",
      "Epoch 14/100\n",
      "108/108 [==============================] - 3s 24ms/step - loss: 0.0249 - val_loss: 0.0251 - _timestamp: 1655737319.0000 - _runtime: 440.0000\n",
      "Epoch 15/100\n",
      "108/108 [==============================] - 3s 24ms/step - loss: 0.0254 - val_loss: 0.0251 - _timestamp: 1655737322.0000 - _runtime: 443.0000\n",
      "idx:6, f1:0.5529500907260074, threshold:0.25\n"
     ]
    },
    {
     "name": "stderr",
     "output_type": "stream",
     "text": [
      "6it [05:10, 49.91s/it]"
     ]
    },
    {
     "name": "stdout",
     "output_type": "stream",
     "text": [
      "Epoch 1/100\n",
      "108/108 [==============================] - 4s 27ms/step - loss: 0.0303 - val_loss: 0.0403 - _timestamp: 1655737330.0000 - _runtime: 451.0000\n",
      "Epoch 2/100\n",
      "108/108 [==============================] - 3s 25ms/step - loss: 0.0285 - val_loss: 0.0254 - _timestamp: 1655737333.0000 - _runtime: 454.0000\n",
      "Epoch 3/100\n",
      "108/108 [==============================] - 3s 24ms/step - loss: 0.0270 - val_loss: 0.0240 - _timestamp: 1655737335.0000 - _runtime: 456.0000\n",
      "Epoch 4/100\n",
      "108/108 [==============================] - 2s 23ms/step - loss: 0.0259 - val_loss: 0.0245 - _timestamp: 1655737338.0000 - _runtime: 459.0000\n",
      "Epoch 5/100\n",
      "108/108 [==============================] - 3s 24ms/step - loss: 0.0259 - val_loss: 0.0241 - _timestamp: 1655737341.0000 - _runtime: 462.0000\n",
      "Epoch 6/100\n",
      "108/108 [==============================] - 3s 25ms/step - loss: 0.0251 - val_loss: 0.0238 - _timestamp: 1655737343.0000 - _runtime: 464.0000\n",
      "Epoch 7/100\n",
      "108/108 [==============================] - 3s 26ms/step - loss: 0.0247 - val_loss: 0.0238 - _timestamp: 1655737346.0000 - _runtime: 467.0000\n",
      "Epoch 8/100\n",
      "108/108 [==============================] - 3s 25ms/step - loss: 0.0247 - val_loss: 0.0236 - _timestamp: 1655737349.0000 - _runtime: 470.0000\n",
      "Epoch 9/100\n",
      "108/108 [==============================] - 3s 24ms/step - loss: 0.0243 - val_loss: 0.0236 - _timestamp: 1655737351.0000 - _runtime: 472.0000\n",
      "Epoch 10/100\n",
      "108/108 [==============================] - 3s 25ms/step - loss: 0.0242 - val_loss: 0.0236 - _timestamp: 1655737354.0000 - _runtime: 475.0000\n",
      "Epoch 11/100\n",
      "108/108 [==============================] - 3s 24ms/step - loss: 0.0242 - val_loss: 0.0236 - _timestamp: 1655737357.0000 - _runtime: 478.0000\n",
      "Epoch 12/100\n",
      "108/108 [==============================] - 3s 25ms/step - loss: 0.0247 - val_loss: 0.0236 - _timestamp: 1655737360.0000 - _runtime: 481.0000\n",
      "Epoch 13/100\n",
      "108/108 [==============================] - 3s 25ms/step - loss: 0.0242 - val_loss: 0.0236 - _timestamp: 1655737362.0000 - _runtime: 483.0000\n",
      "Epoch 14/100\n",
      "108/108 [==============================] - 2s 23ms/step - loss: 0.0241 - val_loss: 0.0236 - _timestamp: 1655737365.0000 - _runtime: 486.0000\n",
      "Epoch 15/100\n",
      "108/108 [==============================] - 3s 23ms/step - loss: 0.0242 - val_loss: 0.0236 - _timestamp: 1655737368.0000 - _runtime: 489.0000\n",
      "Epoch 16/100\n",
      "108/108 [==============================] - 3s 25ms/step - loss: 0.0242 - val_loss: 0.0236 - _timestamp: 1655737370.0000 - _runtime: 491.0000\n",
      "Epoch 17/100\n",
      "108/108 [==============================] - 3s 23ms/step - loss: 0.0242 - val_loss: 0.0236 - _timestamp: 1655737373.0000 - _runtime: 494.0000\n",
      "Epoch 18/100\n",
      "108/108 [==============================] - 2s 23ms/step - loss: 0.0244 - val_loss: 0.0236 - _timestamp: 1655737375.0000 - _runtime: 496.0000\n",
      "Epoch 19/100\n",
      "108/108 [==============================] - 3s 23ms/step - loss: 0.0243 - val_loss: 0.0236 - _timestamp: 1655737378.0000 - _runtime: 499.0000\n",
      "Epoch 20/100\n",
      "108/108 [==============================] - 3s 23ms/step - loss: 0.0242 - val_loss: 0.0236 - _timestamp: 1655737381.0000 - _runtime: 502.0000\n",
      "Epoch 21/100\n",
      "108/108 [==============================] - 3s 23ms/step - loss: 0.0242 - val_loss: 0.0236 - _timestamp: 1655737383.0000 - _runtime: 504.0000\n",
      "Epoch 22/100\n",
      "108/108 [==============================] - 2s 23ms/step - loss: 0.0241 - val_loss: 0.0236 - _timestamp: 1655737386.0000 - _runtime: 507.0000\n",
      "Epoch 23/100\n",
      "108/108 [==============================] - 3s 23ms/step - loss: 0.0242 - val_loss: 0.0236 - _timestamp: 1655737388.0000 - _runtime: 509.0000\n",
      "Epoch 24/100\n",
      "108/108 [==============================] - 2s 23ms/step - loss: 0.0243 - val_loss: 0.0236 - _timestamp: 1655737391.0000 - _runtime: 512.0000\n",
      "Epoch 25/100\n",
      "108/108 [==============================] - 2s 23ms/step - loss: 0.0238 - val_loss: 0.0236 - _timestamp: 1655737393.0000 - _runtime: 514.0000\n",
      "Epoch 26/100\n",
      "108/108 [==============================] - 3s 23ms/step - loss: 0.0244 - val_loss: 0.0236 - _timestamp: 1655737396.0000 - _runtime: 517.0000\n",
      "idx:7, f1:0.6400585550675967, threshold:0.3\n"
     ]
    },
    {
     "name": "stderr",
     "output_type": "stream",
     "text": [
      "7it [06:25, 57.89s/it]"
     ]
    },
    {
     "name": "stdout",
     "output_type": "stream",
     "text": [
      "Epoch 1/100\n",
      "108/108 [==============================] - 4s 27ms/step - loss: 0.0320 - val_loss: 0.0346 - _timestamp: 1655737404.0000 - _runtime: 525.0000\n",
      "Epoch 2/100\n",
      "108/108 [==============================] - 3s 24ms/step - loss: 0.0272 - val_loss: 0.0285 - _timestamp: 1655737407.0000 - _runtime: 528.0000\n",
      "Epoch 3/100\n",
      "108/108 [==============================] - 3s 24ms/step - loss: 0.0266 - val_loss: 0.0251 - _timestamp: 1655737410.0000 - _runtime: 531.0000\n",
      "Epoch 4/100\n",
      "108/108 [==============================] - 3s 24ms/step - loss: 0.0261 - val_loss: 0.0240 - _timestamp: 1655737412.0000 - _runtime: 533.0000\n",
      "Epoch 5/100\n",
      "108/108 [==============================] - 2s 22ms/step - loss: 0.0257 - val_loss: 0.0249 - _timestamp: 1655737415.0000 - _runtime: 536.0000\n",
      "Epoch 6/100\n",
      "108/108 [==============================] - 2s 23ms/step - loss: 0.0252 - val_loss: 0.0242 - _timestamp: 1655737417.0000 - _runtime: 538.0000\n",
      "Epoch 7/100\n",
      "108/108 [==============================] - 2s 23ms/step - loss: 0.0249 - val_loss: 0.0243 - _timestamp: 1655737420.0000 - _runtime: 541.0000\n",
      "Epoch 8/100\n",
      "108/108 [==============================] - 3s 23ms/step - loss: 0.0247 - val_loss: 0.0241 - _timestamp: 1655737422.0000 - _runtime: 543.0000\n",
      "Epoch 9/100\n",
      "108/108 [==============================] - 2s 23ms/step - loss: 0.0244 - val_loss: 0.0241 - _timestamp: 1655737425.0000 - _runtime: 546.0000\n",
      "Epoch 10/100\n",
      "108/108 [==============================] - 3s 24ms/step - loss: 0.0244 - val_loss: 0.0241 - _timestamp: 1655737427.0000 - _runtime: 548.0000\n",
      "Epoch 11/100\n",
      "108/108 [==============================] - 2s 23ms/step - loss: 0.0242 - val_loss: 0.0241 - _timestamp: 1655737430.0000 - _runtime: 551.0000\n",
      "Epoch 12/100\n",
      "108/108 [==============================] - 2s 22ms/step - loss: 0.0249 - val_loss: 0.0241 - _timestamp: 1655737432.0000 - _runtime: 553.0000\n",
      "Epoch 13/100\n",
      "108/108 [==============================] - 2s 23ms/step - loss: 0.0246 - val_loss: 0.0241 - _timestamp: 1655737435.0000 - _runtime: 556.0000\n",
      "Epoch 14/100\n",
      "108/108 [==============================] - 2s 23ms/step - loss: 0.0247 - val_loss: 0.0241 - _timestamp: 1655737437.0000 - _runtime: 558.0000\n",
      "idx:8, f1:0.58260644827809, threshold:0.25\n"
     ]
    },
    {
     "name": "stderr",
     "output_type": "stream",
     "text": [
      "8it [07:06, 52.72s/it]"
     ]
    },
    {
     "name": "stdout",
     "output_type": "stream",
     "text": [
      "Epoch 1/100\n",
      "108/108 [==============================] - 4s 26ms/step - loss: 0.0333 - val_loss: 0.0273 - _timestamp: 1655737446.0000 - _runtime: 567.0000\n",
      "Epoch 2/100\n",
      "108/108 [==============================] - 3s 24ms/step - loss: 0.0275 - val_loss: 0.0253 - _timestamp: 1655737449.0000 - _runtime: 570.0000\n",
      "Epoch 3/100\n",
      "108/108 [==============================] - 2s 22ms/step - loss: 0.0262 - val_loss: 0.0254 - _timestamp: 1655737451.0000 - _runtime: 572.0000\n",
      "Epoch 4/100\n",
      "108/108 [==============================] - 3s 23ms/step - loss: 0.0262 - val_loss: 0.0246 - _timestamp: 1655737454.0000 - _runtime: 575.0000\n",
      "Epoch 5/100\n",
      "108/108 [==============================] - 2s 22ms/step - loss: 0.0257 - val_loss: 0.0255 - _timestamp: 1655737456.0000 - _runtime: 577.0000\n",
      "Epoch 6/100\n",
      "108/108 [==============================] - 2s 22ms/step - loss: 0.0252 - val_loss: 0.0252 - _timestamp: 1655737459.0000 - _runtime: 580.0000\n",
      "Epoch 7/100\n",
      "108/108 [==============================] - 2s 22ms/step - loss: 0.0250 - val_loss: 0.0254 - _timestamp: 1655737461.0000 - _runtime: 582.0000\n",
      "Epoch 8/100\n",
      "108/108 [==============================] - 2s 23ms/step - loss: 0.0243 - val_loss: 0.0250 - _timestamp: 1655737464.0000 - _runtime: 585.0000\n",
      "Epoch 9/100\n",
      "108/108 [==============================] - 2s 22ms/step - loss: 0.0243 - val_loss: 0.0251 - _timestamp: 1655737466.0000 - _runtime: 587.0000\n",
      "Epoch 10/100\n",
      "108/108 [==============================] - 2s 22ms/step - loss: 0.0241 - val_loss: 0.0251 - _timestamp: 1655737469.0000 - _runtime: 590.0000\n",
      "Epoch 11/100\n",
      "108/108 [==============================] - 2s 22ms/step - loss: 0.0242 - val_loss: 0.0252 - _timestamp: 1655737471.0000 - _runtime: 592.0000\n",
      "Epoch 12/100\n",
      "108/108 [==============================] - 2s 23ms/step - loss: 0.0236 - val_loss: 0.0252 - _timestamp: 1655737474.0000 - _runtime: 595.0000\n",
      "Epoch 13/100\n",
      "108/108 [==============================] - 2s 22ms/step - loss: 0.0243 - val_loss: 0.0252 - _timestamp: 1655737476.0000 - _runtime: 597.0000\n",
      "Epoch 14/100\n",
      "108/108 [==============================] - 2s 23ms/step - loss: 0.0241 - val_loss: 0.0252 - _timestamp: 1655737479.0000 - _runtime: 600.0000\n",
      "idx:9, f1:0.5759604654870079, threshold:0.25\n"
     ]
    },
    {
     "name": "stderr",
     "output_type": "stream",
     "text": [
      "9it [07:47, 49.09s/it]"
     ]
    },
    {
     "name": "stdout",
     "output_type": "stream",
     "text": [
      "Epoch 1/100\n",
      "108/108 [==============================] - 4s 26ms/step - loss: 0.0350 - val_loss: 0.0318 - _timestamp: 1655737487.0000 - _runtime: 608.0000\n",
      "Epoch 2/100\n",
      "108/108 [==============================] - 3s 25ms/step - loss: 0.0277 - val_loss: 0.0260 - _timestamp: 1655737490.0000 - _runtime: 611.0000\n",
      "Epoch 3/100\n",
      "108/108 [==============================] - 3s 25ms/step - loss: 0.0273 - val_loss: 0.0256 - _timestamp: 1655737492.0000 - _runtime: 613.0000\n",
      "Epoch 4/100\n",
      "108/108 [==============================] - 3s 23ms/step - loss: 0.0262 - val_loss: 0.0254 - _timestamp: 1655737495.0000 - _runtime: 616.0000\n",
      "Epoch 5/100\n",
      "108/108 [==============================] - 3s 24ms/step - loss: 0.0256 - val_loss: 0.0256 - _timestamp: 1655737498.0000 - _runtime: 619.0000\n",
      "Epoch 6/100\n",
      "108/108 [==============================] - 3s 25ms/step - loss: 0.0255 - val_loss: 0.0250 - _timestamp: 1655737500.0000 - _runtime: 621.0000\n",
      "Epoch 7/100\n",
      "108/108 [==============================] - 3s 24ms/step - loss: 0.0251 - val_loss: 0.0248 - _timestamp: 1655737503.0000 - _runtime: 624.0000\n",
      "Epoch 8/100\n",
      "108/108 [==============================] - 3s 24ms/step - loss: 0.0252 - val_loss: 0.0248 - _timestamp: 1655737506.0000 - _runtime: 627.0000\n",
      "Epoch 9/100\n",
      "108/108 [==============================] - 3s 24ms/step - loss: 0.0248 - val_loss: 0.0248 - _timestamp: 1655737508.0000 - _runtime: 629.0000\n",
      "Epoch 10/100\n",
      "108/108 [==============================] - 2s 23ms/step - loss: 0.0250 - val_loss: 0.0248 - _timestamp: 1655737511.0000 - _runtime: 632.0000\n",
      "Epoch 11/100\n",
      "108/108 [==============================] - 3s 24ms/step - loss: 0.0248 - val_loss: 0.0248 - _timestamp: 1655737514.0000 - _runtime: 635.0000\n",
      "Epoch 12/100\n",
      "108/108 [==============================] - 3s 24ms/step - loss: 0.0252 - val_loss: 0.0248 - _timestamp: 1655737516.0000 - _runtime: 637.0000\n",
      "Epoch 13/100\n",
      "108/108 [==============================] - 2s 23ms/step - loss: 0.0248 - val_loss: 0.0248 - _timestamp: 1655737519.0000 - _runtime: 640.0000\n",
      "Epoch 14/100\n",
      "108/108 [==============================] - 3s 23ms/step - loss: 0.0250 - val_loss: 0.0248 - _timestamp: 1655737521.0000 - _runtime: 642.0000\n",
      "Epoch 15/100\n",
      "108/108 [==============================] - 3s 23ms/step - loss: 0.0252 - val_loss: 0.0248 - _timestamp: 1655737524.0000 - _runtime: 645.0000\n",
      "Epoch 16/100\n",
      "108/108 [==============================] - 2s 23ms/step - loss: 0.0247 - val_loss: 0.0248 - _timestamp: 1655737526.0000 - _runtime: 647.0000\n",
      "Epoch 17/100\n",
      "108/108 [==============================] - 3s 23ms/step - loss: 0.0247 - val_loss: 0.0248 - _timestamp: 1655737529.0000 - _runtime: 650.0000\n",
      "Epoch 18/100\n",
      "108/108 [==============================] - 2s 23ms/step - loss: 0.0253 - val_loss: 0.0248 - _timestamp: 1655737532.0000 - _runtime: 653.0000\n",
      "Epoch 19/100\n",
      "108/108 [==============================] - 2s 23ms/step - loss: 0.0247 - val_loss: 0.0248 - _timestamp: 1655737534.0000 - _runtime: 655.0000\n",
      "Epoch 20/100\n",
      "108/108 [==============================] - 2s 23ms/step - loss: 0.0252 - val_loss: 0.0248 - _timestamp: 1655737537.0000 - _runtime: 658.0000\n",
      "Epoch 21/100\n",
      "108/108 [==============================] - 2s 23ms/step - loss: 0.0249 - val_loss: 0.0248 - _timestamp: 1655737539.0000 - _runtime: 660.0000\n",
      "Epoch 22/100\n",
      "108/108 [==============================] - 2s 21ms/step - loss: 0.0251 - val_loss: 0.0248 - _timestamp: 1655737541.0000 - _runtime: 662.0000\n",
      "idx:10, f1:0.6411709159584514, threshold:0.25\n"
     ]
    },
    {
     "name": "stderr",
     "output_type": "stream",
     "text": [
      "10it [08:50, 53.05s/it]"
     ]
    },
    {
     "name": "stdout",
     "output_type": "stream",
     "text": [
      "validation_macro-f1:  0.6066403676408889\n"
     ]
    },
    {
     "name": "stderr",
     "output_type": "stream",
     "text": [
      "\n"
     ]
    }
   ],
   "source": [
    "validations = []\n",
    "thresholds = []\n",
    "predictions = []\n",
    "\n",
    "idx=0\n",
    "\n",
    "skf = StratifiedKFold(n_splits=cv)\n",
    "for train_index, val_index in tqdm(skf.split(X, y)):\n",
    "    \n",
    "    idx+=1\n",
    "\n",
    "    X_train, X_val = X[train_index], X[val_index]\n",
    "    y_train, y_val = y[train_index], y[val_index]\n",
    "    \n",
    "    X_train_tab = train_df[[\"condition1\", \"condition2\"]].values[train_index]\n",
    "    X_val_tab = train_df[[\"condition1\", \"condition2\"]].values[val_index]\n",
    "    \n",
    "    train_ds = (\n",
    "        tf.data.Dataset.from_tensor_slices(((X_train, X_train_tab), y_train))\n",
    "        .shuffle(len(X_train))\n",
    "        .batch(BATCH_SIZE)\n",
    "        .prefetch(tf.data.experimental.AUTOTUNE)\n",
    "    )\n",
    "\n",
    "    val_ds = (\n",
    "        tf.data.Dataset.from_tensor_slices(((X_val, X_val_tab), y_val))\n",
    "        .batch(BATCH_SIZE)\n",
    "        .prefetch(tf.data.experimental.AUTOTUNE)\n",
    "    )\n",
    "\n",
    "    if cnn_model == \"1d\":\n",
    "        model = scratch_1dcnn()\n",
    "    elif cnn_model == \"2d\":\n",
    "        model = scratch_2dcnn()\n",
    "\n",
    "    lr = tf.keras.optimizers.schedules.CosineDecay(learning_rate, decay_steps=1000)\n",
    "    if optimizer == \"adam\":\n",
    "        optim = tf.keras.optimizers.Adam(learning_rate=lr)\n",
    "    elif optimizer == \"sgd\":\n",
    "        optim = tf.keras.optimizers.SGD(learning_rate=lr, momentum=0.9)\n",
    "        \n",
    "    if loss == \"bc\":\n",
    "        label_smoothing=0\n",
    "        loss_function = tf.keras.losses.BinaryCrossentropy(label_smoothing=label_smoothing)\n",
    "    elif loss == \"fl\":\n",
    "        loss_function = tfa.losses.SigmoidFocalCrossEntropy()\n",
    "\n",
    "    model.compile(\n",
    "        optimizer=optim,\n",
    "        loss=loss_function,\n",
    "    )\n",
    "    \n",
    "    checkpoint_filepath=f\"load_model/{parser.description}_{idx}\"\n",
    "\n",
    "    checkpoint_callback = [\n",
    "        tf.keras.callbacks.EarlyStopping(\n",
    "            monitor='val_loss',\n",
    "            patience=10,\n",
    "            restore_best_weights=True,\n",
    "        ),\n",
    "        tf.keras.callbacks.ModelCheckpoint(\n",
    "            checkpoint_filepath,\n",
    "            monitor=\"val_loss\",\n",
    "            save_best_only=True,\n",
    "            save_weights_only=True\n",
    "        )\n",
    "    ]\n",
    "\n",
    "    history = model.fit(\n",
    "        train_ds,\n",
    "        validation_data=val_ds,\n",
    "        epochs=EPOCHS,\n",
    "        callbacks=[checkpoint_callback, WandbCallback()],\n",
    "    )\n",
    "\n",
    "    max_f1 = 0\n",
    "    threshold = 0\n",
    "    for temp_threshold in np.linspace(0.05, 0.95, 19):\n",
    "        temp_f1 = f1_score(y_val, np.where(model.predict(val_ds)>temp_threshold, 1, 0), average=\"macro\")\n",
    "        if temp_f1 > max_f1:\n",
    "            max_f1 = temp_f1\n",
    "            threshold = temp_threshold\n",
    "    \n",
    "    print(f\"idx:{idx}, f1:{max_f1}, threshold:{threshold}\")\n",
    "    \n",
    "    validations.append(max_f1)\n",
    "    thresholds.append(threshold)\n",
    "    predictions.append(model.predict([X_test, X_test_tab]))\n",
    "\n",
    "val_f1 = np.mean(validations, axis=0)\n",
    "\n",
    "print(\"validation_macro-f1: \", val_f1)\n",
    "wandb.log({'validation_macro-f1': val_f1})"
   ]
  },
  {
   "cell_type": "markdown",
   "metadata": {
    "id": "X7vNprtvVIb0"
   },
   "source": [
    "## Inference"
   ]
  },
  {
   "cell_type": "code",
   "execution_count": 8,
   "metadata": {
    "id": "Rb1j87j7k3l9"
   },
   "outputs": [
    {
     "data": {
      "text/plain": [
       "0    0.908932\n",
       "1    0.091068\n",
       "Name: covid19, dtype: float64"
      ]
     },
     "execution_count": 8,
     "metadata": {},
     "output_type": "execute_result"
    }
   ],
   "source": [
    "threshold = np.mean(thresholds)\n",
    "test_df[\"covid19\"] = np.where(np.mean(predictions, axis=0)>threshold, 1, 0)\n",
    "\n",
    "submission = pd.read_csv('data/sample_submission.csv')\n",
    "submission['covid19'] = test_df['covid19']\n",
    "submission.to_csv('submission.csv', index=False)\n",
    "\n",
    "test_df['covid19'].value_counts(normalize=True)"
   ]
  }
 ],
 "metadata": {
  "accelerator": "GPU",
  "colab": {
   "authorship_tag": "ABX9TyOI2a3K41SRHmr0VYqCJIVd",
   "collapsed_sections": [],
   "mount_file_id": "12SyNXKXsgbk5c855KhTFRgLEogv2xCNZ",
   "name": "2. Baseline.ipynb",
   "provenance": []
  },
  "kernelspec": {
   "display_name": "Python 3 (ipykernel)",
   "language": "python",
   "name": "python3"
  },
  "language_info": {
   "codemirror_mode": {
    "name": "ipython",
    "version": 3
   },
   "file_extension": ".py",
   "mimetype": "text/x-python",
   "name": "python",
   "nbconvert_exporter": "python",
   "pygments_lexer": "ipython3",
   "version": "3.8.0"
  }
 },
 "nbformat": 4,
 "nbformat_minor": 4
}
