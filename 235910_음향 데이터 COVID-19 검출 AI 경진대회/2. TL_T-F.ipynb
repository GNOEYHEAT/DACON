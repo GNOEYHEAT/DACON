{
 "cells": [
  {
   "cell_type": "markdown",
   "metadata": {
    "id": "uO10XRn3dn1L"
   },
   "source": [
    "# Transfer Learning (T-F)"
   ]
  },
  {
   "cell_type": "code",
   "execution_count": 1,
   "metadata": {
    "colab": {
     "base_uri": "https://localhost:8080/",
     "height": 206
    },
    "executionInfo": {
     "elapsed": 262,
     "status": "ok",
     "timestamp": 1655180838758,
     "user": {
      "displayName": "‍김태형[ 대학원석·박사통합과정재학 / 산업경영공학과 ]",
      "userId": "00288066936238655028"
     },
     "user_tz": -540
    },
    "id": "qlG--rMUIhtl",
    "outputId": "ae8c4164-a38a-469d-9365-ca22d43833e9"
   },
   "outputs": [
    {
     "name": "stderr",
     "output_type": "stream",
     "text": [
      "\u001b[34m\u001b[1mwandb\u001b[0m: Currently logged in as: \u001b[33mgnoeyheat\u001b[0m (use `wandb login --relogin` to force relogin)\n"
     ]
    },
    {
     "data": {
      "text/html": [
       "wandb version 0.12.18 is available!  To upgrade, please run:\n",
       " $ pip install wandb --upgrade"
      ],
      "text/plain": [
       "<IPython.core.display.HTML object>"
      ]
     },
     "metadata": {},
     "output_type": "display_data"
    },
    {
     "data": {
      "text/html": [
       "Tracking run with wandb version 0.12.14"
      ],
      "text/plain": [
       "<IPython.core.display.HTML object>"
      ]
     },
     "metadata": {},
     "output_type": "display_data"
    },
    {
     "data": {
      "text/html": [
       "Run data is saved locally in <code>C:\\Users\\Taehyeong\\_DACON\\DACON_235910\\wandb\\run-20220621_152811-2pxoaroi</code>"
      ],
      "text/plain": [
       "<IPython.core.display.HTML object>"
      ]
     },
     "metadata": {},
     "output_type": "display_data"
    },
    {
     "data": {
      "text/html": [
       "Syncing run <strong><a href=\"https://wandb.ai/gnoeyheat/DACON_235910/runs/2pxoaroi\" target=\"_blank\">TL</a></strong> to <a href=\"https://wandb.ai/gnoeyheat/DACON_235910\" target=\"_blank\">Weights & Biases</a> (<a href=\"https://wandb.me/run\" target=\"_blank\">docs</a>)<br/>"
      ],
      "text/plain": [
       "<IPython.core.display.HTML object>"
      ]
     },
     "metadata": {},
     "output_type": "display_data"
    },
    {
     "data": {
      "text/html": [
       "<div>\n",
       "<style scoped>\n",
       "    .dataframe tbody tr th:only-of-type {\n",
       "        vertical-align: middle;\n",
       "    }\n",
       "\n",
       "    .dataframe tbody tr th {\n",
       "        vertical-align: top;\n",
       "    }\n",
       "\n",
       "    .dataframe thead th {\n",
       "        text-align: right;\n",
       "    }\n",
       "</style>\n",
       "<table border=\"1\" class=\"dataframe\">\n",
       "  <thead>\n",
       "    <tr style=\"text-align: right;\">\n",
       "      <th></th>\n",
       "      <th>data</th>\n",
       "      <th>id</th>\n",
       "      <th>age</th>\n",
       "      <th>gender</th>\n",
       "      <th>respiratory_condition</th>\n",
       "      <th>fever_or_muscle_pain</th>\n",
       "      <th>covid19</th>\n",
       "    </tr>\n",
       "  </thead>\n",
       "  <tbody>\n",
       "    <tr>\n",
       "      <th>0</th>\n",
       "      <td>[0.0, 0.0, 0.0, 0.0, 0.0, 0.0, 0.0, 0.0, 0.0, ...</td>\n",
       "      <td>1</td>\n",
       "      <td>24</td>\n",
       "      <td>female</td>\n",
       "      <td>0</td>\n",
       "      <td>1</td>\n",
       "      <td>0</td>\n",
       "    </tr>\n",
       "    <tr>\n",
       "      <th>1</th>\n",
       "      <td>[0.0, 0.0, 0.0, 0.0, 0.0, 0.0, 0.0, 0.0, 0.0, ...</td>\n",
       "      <td>2</td>\n",
       "      <td>51</td>\n",
       "      <td>male</td>\n",
       "      <td>0</td>\n",
       "      <td>0</td>\n",
       "      <td>0</td>\n",
       "    </tr>\n",
       "    <tr>\n",
       "      <th>2</th>\n",
       "      <td>[2.7372453e-09, -1.0615647e-08, 5.2142607e-08,...</td>\n",
       "      <td>3</td>\n",
       "      <td>22</td>\n",
       "      <td>male</td>\n",
       "      <td>0</td>\n",
       "      <td>0</td>\n",
       "      <td>0</td>\n",
       "    </tr>\n",
       "    <tr>\n",
       "      <th>3</th>\n",
       "      <td>[0.0, 0.0, 0.0, 0.0, 0.0, 0.0, 0.0, 0.0, 0.0, ...</td>\n",
       "      <td>4</td>\n",
       "      <td>29</td>\n",
       "      <td>female</td>\n",
       "      <td>1</td>\n",
       "      <td>0</td>\n",
       "      <td>0</td>\n",
       "    </tr>\n",
       "    <tr>\n",
       "      <th>4</th>\n",
       "      <td>[0.0, 0.0, 0.0, 0.0, 0.0, 0.0, 0.0, 0.0, 0.0, ...</td>\n",
       "      <td>5</td>\n",
       "      <td>23</td>\n",
       "      <td>male</td>\n",
       "      <td>0</td>\n",
       "      <td>0</td>\n",
       "      <td>0</td>\n",
       "    </tr>\n",
       "  </tbody>\n",
       "</table>\n",
       "</div>"
      ],
      "text/plain": [
       "                                                data  id  age  gender  \\\n",
       "0  [0.0, 0.0, 0.0, 0.0, 0.0, 0.0, 0.0, 0.0, 0.0, ...   1   24  female   \n",
       "1  [0.0, 0.0, 0.0, 0.0, 0.0, 0.0, 0.0, 0.0, 0.0, ...   2   51    male   \n",
       "2  [2.7372453e-09, -1.0615647e-08, 5.2142607e-08,...   3   22    male   \n",
       "3  [0.0, 0.0, 0.0, 0.0, 0.0, 0.0, 0.0, 0.0, 0.0, ...   4   29  female   \n",
       "4  [0.0, 0.0, 0.0, 0.0, 0.0, 0.0, 0.0, 0.0, 0.0, ...   5   23    male   \n",
       "\n",
       "   respiratory_condition  fever_or_muscle_pain  covid19  \n",
       "0                      0                     1        0  \n",
       "1                      0                     0        0  \n",
       "2                      0                     0        0  \n",
       "3                      1                     0        0  \n",
       "4                      0                     0        0  "
      ]
     },
     "execution_count": 1,
     "metadata": {},
     "output_type": "execute_result"
    }
   ],
   "source": [
    "import os\n",
    "import random\n",
    "import numpy as np\n",
    "import pandas as pd\n",
    "import matplotlib.pyplot as plt\n",
    "import seaborn as sns\n",
    "%matplotlib inline\n",
    "\n",
    "from sklearn.model_selection import StratifiedKFold\n",
    "from sklearn.metrics import f1_score\n",
    "\n",
    "import tensorflow as tf\n",
    "import tensorflow_addons as tfa\n",
    "from keras import layers\n",
    "\n",
    "import librosa\n",
    "from audiomentations import SpecCompose, SpecFrequencyMask\n",
    "\n",
    "from tqdm import tqdm\n",
    "import warnings\n",
    "warnings.filterwarnings('ignore')\n",
    "\n",
    "import pickle\n",
    "import argparse\n",
    "import wandb\n",
    "from wandb.keras import WandbCallback\n",
    "wandb.init(project=\"DACON_235910\", name=\"TL\")\n",
    "\n",
    "parser = argparse.ArgumentParser(description=\"TL\")\n",
    "parser.add_argument('--feature', default=\"melspec\", type=str) # mfcc or melspec\n",
    "parser.add_argument('--pretrained_model', default=\"efficientnetb0\", type=str)\n",
    "parser.add_argument('--resize_size', default=224, type=int)\n",
    "parser.add_argument('--sampling_rate', default=16000, type=int)\n",
    "# parser.add_argument('--frequency_mask', default=0, type=float)\n",
    "parser.add_argument('--optimizer', default=\"sgd\", type=str) # sgd or adam\n",
    "parser.add_argument('--loss', default=\"fl\", type=str) # bc or fl\n",
    "parser.add_argument('--learning_rate', default=0.001, type=float)\n",
    "parser.add_argument('--batch_size', default=32, type=int)\n",
    "parser.add_argument('--epochs', default=100, type=int)\n",
    "parser.add_argument('--cv', default=10, type=int)\n",
    "parser.add_argument('--seed', default=1011, type=int)\n",
    "args = parser.parse_args('')\n",
    "\n",
    "wandb.config.update(args)\n",
    "\n",
    "feature = args.feature\n",
    "pretrained_model = args.pretrained_model\n",
    "resize_size = args.resize_size\n",
    "sampling_rate = args.sampling_rate\n",
    "# frequency_mask = args.frequency_mask\n",
    "optimizer = args.optimizer\n",
    "loss = args.loss\n",
    "learning_rate = args.learning_rate\n",
    "BATCH_SIZE = args.batch_size\n",
    "EPOCHS = args.epochs\n",
    "cv = args.cv\n",
    "seed = args.seed\n",
    "\n",
    "def set_seeds(seed=seed):\n",
    "    os.environ['PYTHONHASHSEED'] = str(seed)\n",
    "    random.seed(seed)\n",
    "    np.random.seed(seed)\n",
    "    tf.random.set_seed(seed)\n",
    "\n",
    "# augment = SpecCompose([SpecFrequencyMask(p=frequency_mask)])\n",
    "    \n",
    "with open('data/train_df.pkl', 'rb') as f:\n",
    "    train_df = pickle.load(f)\n",
    "with open('data/test_df.pkl', 'rb') as f:\n",
    "    test_df = pickle.load(f)\n",
    "    \n",
    "train_df.head()"
   ]
  },
  {
   "cell_type": "code",
   "execution_count": 2,
   "metadata": {},
   "outputs": [
    {
     "data": {
      "text/plain": [
       "0    0.91958\n",
       "1    0.08042\n",
       "Name: covid19, dtype: float64"
      ]
     },
     "execution_count": 2,
     "metadata": {},
     "output_type": "execute_result"
    }
   ],
   "source": [
    "train_df[\"covid19\"].value_counts(normalize=True)"
   ]
  },
  {
   "cell_type": "markdown",
   "metadata": {},
   "source": [
    "## Data Generation"
   ]
  },
  {
   "cell_type": "code",
   "execution_count": 3,
   "metadata": {},
   "outputs": [],
   "source": [
    "# train_df = pd.read_csv(\"data/train_data.csv\")\n",
    "# test_df = pd.read_csv(\"data/test_data.csv\")\n",
    "\n",
    "# train_folder = \"data/train/\"\n",
    "# test_folder = \"data/test/\"\n",
    "\n",
    "# def dataset(folder, df):\n",
    "#     dataset = []\n",
    "#     for uid in tqdm(df['id']):\n",
    "#         path = os.path.join(folder, str(uid).zfill(5)+'.wav')\n",
    "#         y, sr = librosa.load(path, sr=sampling_rate)\n",
    "#         y = librosa.util.normalize(y)\n",
    "#         dataset.append([y])\n",
    "#     dataset = pd.DataFrame(dataset, columns=['data'])\n",
    "#     dataset = pd.concat([dataset, df], axis=1)\n",
    "#     return dataset\n",
    "\n",
    "# train_df = dataset(train_folder, train_df)\n",
    "# test_df = dataset(test_folder, test_df)\n",
    "\n",
    "# with open('train_df.pkl', 'wb') as f:\n",
    "#     pickle.dump(train_df, f, pickle.HIGHEST_PROTOCOL)\n",
    "# with open('test_df.pkl', 'wb') as f:\n",
    "#     pickle.dump(test_df, f, pickle.HIGHEST_PROTOCOL)"
   ]
  },
  {
   "cell_type": "markdown",
   "metadata": {
    "id": "SLr-znikdl4b"
   },
   "source": [
    "## Preprocessing"
   ]
  },
  {
   "cell_type": "code",
   "execution_count": 4,
   "metadata": {
    "colab": {
     "base_uri": "https://localhost:8080/"
    },
    "executionInfo": {
     "elapsed": 2744,
     "status": "ok",
     "timestamp": 1655181967331,
     "user": {
      "displayName": "‍김태형[ 대학원석·박사통합과정재학 / 산업경영공학과 ]",
      "userId": "00288066936238655028"
     },
     "user_tz": -540
    },
    "id": "QhMtoag0S8OM",
    "outputId": "2ac9cf2d-01a5-4205-f921-52e5ca8e4911"
   },
   "outputs": [
    {
     "name": "stderr",
     "output_type": "stream",
     "text": [
      "100%|██████████████████████████████████████████████████████████████████████████████| 3805/3805 [03:52<00:00, 16.37it/s]\n",
      "100%|██████████████████████████████████████████████████████████████████████████████| 5732/5732 [06:16<00:00, 15.24it/s]\n"
     ]
    },
    {
     "data": {
      "text/plain": [
       "((3805, 224, 224, 3), (3805,), (5732, 224, 224, 3))"
      ]
     },
     "execution_count": 4,
     "metadata": {},
     "output_type": "execute_result"
    }
   ],
   "source": [
    "def preprocess_dataset(data):\n",
    "\n",
    "    frame_length = 0.025\n",
    "    frame_stride = 0.010\n",
    "\n",
    "    input_nfft = int(round(sampling_rate*frame_length))\n",
    "    input_stride = int(round(sampling_rate*frame_stride))\n",
    "\n",
    "    extracted_features = []\n",
    "    for i in tqdm(data):\n",
    "        temp_S = []\n",
    "        for nfft, stride in zip([input_nfft, input_nfft*4, input_nfft],\n",
    "                                [input_stride, input_stride, input_stride*4]):\n",
    "            if feature == \"mfcc\":\n",
    "                S = librosa.feature.mfcc(y=i,\n",
    "                                         sr=sampling_rate,\n",
    "                                         n_mfcc=40,\n",
    "                                         n_fft=nfft,\n",
    "                                         hop_length=stride)\n",
    "            elif feature == \"melspec\":\n",
    "                S = librosa.feature.melspectrogram(y=i,\n",
    "                                                   sr=sampling_rate,\n",
    "                                                   n_mels=128,\n",
    "                                                   n_fft=nfft,\n",
    "                                                   hop_length=stride)\n",
    "                S = librosa.power_to_db(S, ref=np.max)\n",
    "            S = tf.image.resize(S[:, :, np.newaxis], (resize_size, resize_size))\n",
    "            temp_S.append(S[:, :, 0])\n",
    "        S = np.stack(temp_S, axis=2)\n",
    "        extracted_features.append(S)\n",
    "    return extracted_features\n",
    "\n",
    "X = np.array(preprocess_dataset(train_df[\"data\"]))\n",
    "X_test = np.array(preprocess_dataset(test_df[\"data\"]))\n",
    "y = train_df[\"covid19\"]\n",
    "\n",
    "X.shape, y.shape, X_test.shape"
   ]
  },
  {
   "cell_type": "code",
   "execution_count": 5,
   "metadata": {},
   "outputs": [
    {
     "data": {
      "text/plain": [
       "(5732, 2)"
      ]
     },
     "execution_count": 5,
     "metadata": {},
     "output_type": "execute_result"
    }
   ],
   "source": [
    "def preprocess_feature(df):\n",
    "    temp = df.copy()\n",
    "    temp[\"condition1\"] = temp[\"respiratory_condition\"] + temp[\"fever_or_muscle_pain\"]\n",
    "    temp[\"condition2\"] = temp[\"respiratory_condition\"] * temp[\"fever_or_muscle_pain\"]\n",
    "    temp = temp.drop([\"id\", \"age\", \"gender\", \"respiratory_condition\", \"fever_or_muscle_pain\"], axis=1)\n",
    "    return temp\n",
    "\n",
    "train_df = preprocess_feature(train_df)\n",
    "test_df = preprocess_feature(test_df)\n",
    "\n",
    "X_test_tab = test_df[[\"condition1\", \"condition2\"]].values\n",
    "\n",
    "X_test_tab.shape"
   ]
  },
  {
   "cell_type": "markdown",
   "metadata": {
    "id": "-mtlHyQhgAoN"
   },
   "source": [
    "## Training"
   ]
  },
  {
   "cell_type": "code",
   "execution_count": 6,
   "metadata": {
    "colab": {
     "base_uri": "https://localhost:8080/"
    },
    "id": "mhXTtjxTTlss",
    "outputId": "7ca4889d-0322-4d75-ae76-33a37b41f868"
   },
   "outputs": [
    {
     "name": "stderr",
     "output_type": "stream",
     "text": [
      "0it [00:00, ?it/s]"
     ]
    },
    {
     "name": "stdout",
     "output_type": "stream",
     "text": [
      "Epoch 1/100\n",
      "107/107 [==============================] - 43s 259ms/step - loss: 0.0386 - val_loss: 0.0292 - _timestamp: 1655793575.0000 - _runtime: 684.0000\n",
      "Epoch 2/100\n",
      "107/107 [==============================] - 24s 227ms/step - loss: 0.0236 - val_loss: 0.0320 - _timestamp: 1655793602.0000 - _runtime: 711.0000\n",
      "Epoch 3/100\n",
      "107/107 [==============================] - 24s 226ms/step - loss: 0.0188 - val_loss: 0.0336 - _timestamp: 1655793628.0000 - _runtime: 737.0000\n",
      "Epoch 4/100\n",
      "107/107 [==============================] - 24s 226ms/step - loss: 0.0153 - val_loss: 0.0364 - _timestamp: 1655793653.0000 - _runtime: 762.0000\n",
      "Epoch 5/100\n",
      "107/107 [==============================] - 24s 228ms/step - loss: 0.0118 - val_loss: 0.0354 - _timestamp: 1655793679.0000 - _runtime: 788.0000\n",
      "Epoch 6/100\n",
      "107/107 [==============================] - 25s 229ms/step - loss: 0.0103 - val_loss: 0.0344 - _timestamp: 1655793705.0000 - _runtime: 814.0000\n",
      "Epoch 7/100\n",
      "107/107 [==============================] - 24s 224ms/step - loss: 0.0090 - val_loss: 0.0348 - _timestamp: 1655793731.0000 - _runtime: 840.0000\n",
      "Epoch 8/100\n",
      "107/107 [==============================] - 24s 228ms/step - loss: 0.0079 - val_loss: 0.0384 - _timestamp: 1655793756.0000 - _runtime: 865.0000\n",
      "Epoch 9/100\n",
      "107/107 [==============================] - 24s 227ms/step - loss: 0.0074 - val_loss: 0.0381 - _timestamp: 1655793782.0000 - _runtime: 891.0000\n",
      "Epoch 10/100\n",
      "107/107 [==============================] - 24s 227ms/step - loss: 0.0076 - val_loss: 0.0384 - _timestamp: 1655793808.0000 - _runtime: 917.0000\n",
      "Epoch 11/100\n",
      "107/107 [==============================] - 24s 228ms/step - loss: 0.0070 - val_loss: 0.0386 - _timestamp: 1655793834.0000 - _runtime: 943.0000\n",
      "idx:1, f1:0.5245169082125604, threshold:0.25\n"
     ]
    },
    {
     "name": "stderr",
     "output_type": "stream",
     "text": [
      "1it [05:39, 339.26s/it]"
     ]
    },
    {
     "name": "stdout",
     "output_type": "stream",
     "text": [
      "Epoch 1/100\n",
      "107/107 [==============================] - 34s 245ms/step - loss: 0.0398 - val_loss: 0.0573 - _timestamp: 1655793907.0000 - _runtime: 1016.0000\n",
      "Epoch 2/100\n",
      "107/107 [==============================] - 25s 236ms/step - loss: 0.0239 - val_loss: 0.0282 - _timestamp: 1655793933.0000 - _runtime: 1042.0000\n",
      "Epoch 3/100\n",
      "107/107 [==============================] - 24s 224ms/step - loss: 0.0186 - val_loss: 0.0292 - _timestamp: 1655793959.0000 - _runtime: 1068.0000\n",
      "Epoch 4/100\n",
      "107/107 [==============================] - 24s 222ms/step - loss: 0.0146 - val_loss: 0.0384 - _timestamp: 1655793984.0000 - _runtime: 1093.0000\n",
      "Epoch 5/100\n",
      "107/107 [==============================] - 24s 222ms/step - loss: 0.0123 - val_loss: 0.0284 - _timestamp: 1655794009.0000 - _runtime: 1118.0000\n",
      "Epoch 6/100\n",
      "107/107 [==============================] - 24s 227ms/step - loss: 0.0099 - val_loss: 0.0297 - _timestamp: 1655794035.0000 - _runtime: 1144.0000\n",
      "Epoch 7/100\n",
      "107/107 [==============================] - 24s 225ms/step - loss: 0.0102 - val_loss: 0.0310 - _timestamp: 1655794061.0000 - _runtime: 1170.0000\n",
      "Epoch 8/100\n",
      "107/107 [==============================] - 24s 226ms/step - loss: 0.0090 - val_loss: 0.0310 - _timestamp: 1655794086.0000 - _runtime: 1195.0000\n",
      "Epoch 9/100\n",
      "107/107 [==============================] - 24s 225ms/step - loss: 0.0079 - val_loss: 0.0325 - _timestamp: 1655794112.0000 - _runtime: 1221.0000\n",
      "Epoch 10/100\n",
      "107/107 [==============================] - 24s 224ms/step - loss: 0.0081 - val_loss: 0.0321 - _timestamp: 1655794137.0000 - _runtime: 1246.0000\n",
      "Epoch 11/100\n",
      "107/107 [==============================] - 24s 222ms/step - loss: 0.0083 - val_loss: 0.0320 - _timestamp: 1655794163.0000 - _runtime: 1272.0000\n",
      "Epoch 12/100\n",
      "107/107 [==============================] - 24s 224ms/step - loss: 0.0086 - val_loss: 0.0319 - _timestamp: 1655794188.0000 - _runtime: 1297.0000\n",
      "idx:2, f1:0.6442577030812325, threshold:0.39999999999999997\n"
     ]
    },
    {
     "name": "stderr",
     "output_type": "stream",
     "text": [
      "2it [11:33, 348.06s/it]"
     ]
    },
    {
     "name": "stdout",
     "output_type": "stream",
     "text": [
      "Epoch 1/100\n",
      "107/107 [==============================] - 34s 245ms/step - loss: 0.0349 - val_loss: 0.0692 - _timestamp: 1655794261.0000 - _runtime: 1370.0000\n",
      "Epoch 2/100\n",
      "107/107 [==============================] - 25s 231ms/step - loss: 0.0229 - val_loss: 0.0444 - _timestamp: 1655794287.0000 - _runtime: 1396.0000\n",
      "Epoch 3/100\n",
      "107/107 [==============================] - 25s 237ms/step - loss: 0.0192 - val_loss: 0.0349 - _timestamp: 1655794314.0000 - _runtime: 1423.0000\n",
      "Epoch 4/100\n",
      "107/107 [==============================] - 24s 226ms/step - loss: 0.0154 - val_loss: 0.0375 - _timestamp: 1655794339.0000 - _runtime: 1448.0000\n",
      "Epoch 5/100\n",
      "107/107 [==============================] - 25s 234ms/step - loss: 0.0121 - val_loss: 0.0333 - _timestamp: 1655794366.0000 - _runtime: 1475.0000\n",
      "Epoch 6/100\n",
      "107/107 [==============================] - 24s 224ms/step - loss: 0.0101 - val_loss: 0.0368 - _timestamp: 1655794391.0000 - _runtime: 1500.0000\n",
      "Epoch 7/100\n",
      "107/107 [==============================] - 24s 224ms/step - loss: 0.0091 - val_loss: 0.0407 - _timestamp: 1655794416.0000 - _runtime: 1525.0000\n",
      "Epoch 8/100\n",
      "107/107 [==============================] - 24s 227ms/step - loss: 0.0085 - val_loss: 0.0349 - _timestamp: 1655794442.0000 - _runtime: 1551.0000\n",
      "Epoch 9/100\n",
      "107/107 [==============================] - 24s 226ms/step - loss: 0.0079 - val_loss: 0.0373 - _timestamp: 1655794468.0000 - _runtime: 1577.0000\n",
      "Epoch 10/100\n",
      "107/107 [==============================] - 24s 223ms/step - loss: 0.0074 - val_loss: 0.0376 - _timestamp: 1655794493.0000 - _runtime: 1602.0000\n",
      "Epoch 11/100\n",
      "107/107 [==============================] - 24s 226ms/step - loss: 0.0077 - val_loss: 0.0376 - _timestamp: 1655794518.0000 - _runtime: 1627.0000\n",
      "Epoch 12/100\n",
      "107/107 [==============================] - 25s 230ms/step - loss: 0.0082 - val_loss: 0.0376 - _timestamp: 1655794544.0000 - _runtime: 1653.0000\n",
      "Epoch 13/100\n",
      "107/107 [==============================] - 24s 227ms/step - loss: 0.0075 - val_loss: 0.0376 - _timestamp: 1655794570.0000 - _runtime: 1679.0000\n",
      "Epoch 14/100\n",
      "107/107 [==============================] - 24s 226ms/step - loss: 0.0084 - val_loss: 0.0377 - _timestamp: 1655794596.0000 - _runtime: 1705.0000\n",
      "Epoch 15/100\n",
      "107/107 [==============================] - 24s 226ms/step - loss: 0.0079 - val_loss: 0.0377 - _timestamp: 1655794621.0000 - _runtime: 1730.0000\n",
      "idx:3, f1:0.5718499789296249, threshold:0.3\n"
     ]
    },
    {
     "name": "stderr",
     "output_type": "stream",
     "text": [
      "3it [18:45, 386.49s/it]"
     ]
    },
    {
     "name": "stdout",
     "output_type": "stream",
     "text": [
      "Epoch 1/100\n",
      "107/107 [==============================] - 35s 249ms/step - loss: 0.0370 - val_loss: 0.0737 - _timestamp: 1655794693.0000 - _runtime: 1802.0000\n",
      "Epoch 2/100\n",
      "107/107 [==============================] - 25s 238ms/step - loss: 0.0233 - val_loss: 0.0635 - _timestamp: 1655794720.0000 - _runtime: 1829.0000\n",
      "Epoch 3/100\n",
      "107/107 [==============================] - 24s 228ms/step - loss: 0.0189 - val_loss: 0.0288 - _timestamp: 1655794746.0000 - _runtime: 1855.0000\n",
      "Epoch 4/100\n",
      "107/107 [==============================] - 24s 223ms/step - loss: 0.0155 - val_loss: 0.0290 - _timestamp: 1655794771.0000 - _runtime: 1880.0000\n",
      "Epoch 5/100\n",
      "107/107 [==============================] - 24s 223ms/step - loss: 0.0117 - val_loss: 0.0331 - _timestamp: 1655794796.0000 - _runtime: 1905.0000\n",
      "Epoch 6/100\n",
      "107/107 [==============================] - 24s 223ms/step - loss: 0.0106 - val_loss: 0.0357 - _timestamp: 1655794822.0000 - _runtime: 1931.0000\n",
      "Epoch 7/100\n",
      "107/107 [==============================] - 24s 225ms/step - loss: 0.0091 - val_loss: 0.0320 - _timestamp: 1655794847.0000 - _runtime: 1956.0000\n",
      "Epoch 8/100\n",
      "107/107 [==============================] - 24s 224ms/step - loss: 0.0089 - val_loss: 0.0322 - _timestamp: 1655794873.0000 - _runtime: 1982.0000\n",
      "Epoch 9/100\n",
      "107/107 [==============================] - 24s 222ms/step - loss: 0.0083 - val_loss: 0.0336 - _timestamp: 1655794898.0000 - _runtime: 2007.0000\n",
      "Epoch 10/100\n",
      "107/107 [==============================] - 24s 221ms/step - loss: 0.0075 - val_loss: 0.0336 - _timestamp: 1655794923.0000 - _runtime: 2032.0000\n",
      "Epoch 11/100\n",
      "107/107 [==============================] - 24s 221ms/step - loss: 0.0081 - val_loss: 0.0336 - _timestamp: 1655794948.0000 - _runtime: 2057.0000\n",
      "Epoch 12/100\n",
      "107/107 [==============================] - 24s 227ms/step - loss: 0.0076 - val_loss: 0.0335 - _timestamp: 1655794974.0000 - _runtime: 2083.0000\n",
      "Epoch 13/100\n",
      "107/107 [==============================] - 24s 224ms/step - loss: 0.0073 - val_loss: 0.0334 - _timestamp: 1655794999.0000 - _runtime: 2108.0000\n",
      "idx:4, f1:0.56372634643377, threshold:0.3\n"
     ]
    },
    {
     "name": "stderr",
     "output_type": "stream",
     "text": [
      "4it [25:03, 382.95s/it]"
     ]
    },
    {
     "name": "stdout",
     "output_type": "stream",
     "text": [
      "Epoch 1/100\n",
      "107/107 [==============================] - 35s 244ms/step - loss: 0.0365 - val_loss: 0.0441 - _timestamp: 1655795070.0000 - _runtime: 2179.0000\n",
      "Epoch 2/100\n",
      "107/107 [==============================] - 25s 232ms/step - loss: 0.0231 - val_loss: 0.0288 - _timestamp: 1655795096.0000 - _runtime: 2205.0000\n",
      "Epoch 3/100\n",
      "107/107 [==============================] - 24s 224ms/step - loss: 0.0183 - val_loss: 0.0316 - _timestamp: 1655795122.0000 - _runtime: 2231.0000\n",
      "Epoch 4/100\n",
      "107/107 [==============================] - 24s 225ms/step - loss: 0.0141 - val_loss: 0.0304 - _timestamp: 1655795147.0000 - _runtime: 2256.0000\n",
      "Epoch 5/100\n",
      "107/107 [==============================] - 24s 226ms/step - loss: 0.0114 - val_loss: 0.0382 - _timestamp: 1655795173.0000 - _runtime: 2282.0000\n",
      "Epoch 6/100\n",
      "107/107 [==============================] - 24s 224ms/step - loss: 0.0099 - val_loss: 0.0344 - _timestamp: 1655795198.0000 - _runtime: 2307.0000\n",
      "Epoch 7/100\n",
      "107/107 [==============================] - 24s 223ms/step - loss: 0.0087 - val_loss: 0.0421 - _timestamp: 1655795223.0000 - _runtime: 2332.0000\n",
      "Epoch 8/100\n",
      "107/107 [==============================] - 24s 228ms/step - loss: 0.0071 - val_loss: 0.0380 - _timestamp: 1655795249.0000 - _runtime: 2358.0000\n",
      "Epoch 9/100\n",
      "107/107 [==============================] - 24s 224ms/step - loss: 0.0073 - val_loss: 0.0379 - _timestamp: 1655795275.0000 - _runtime: 2384.0000\n",
      "Epoch 10/100\n",
      "107/107 [==============================] - 24s 225ms/step - loss: 0.0068 - val_loss: 0.0394 - _timestamp: 1655795300.0000 - _runtime: 2409.0000\n",
      "Epoch 11/100\n",
      "107/107 [==============================] - 24s 226ms/step - loss: 0.0072 - val_loss: 0.0403 - _timestamp: 1655795326.0000 - _runtime: 2435.0000\n",
      "Epoch 12/100\n",
      "107/107 [==============================] - 24s 226ms/step - loss: 0.0073 - val_loss: 0.0406 - _timestamp: 1655795351.0000 - _runtime: 2460.0000\n",
      "idx:5, f1:0.581942647516418, threshold:0.3\n"
     ]
    },
    {
     "name": "stderr",
     "output_type": "stream",
     "text": [
      "5it [30:54, 371.56s/it]"
     ]
    },
    {
     "name": "stdout",
     "output_type": "stream",
     "text": [
      "Epoch 1/100\n",
      "108/108 [==============================] - 35s 248ms/step - loss: 0.0364 - val_loss: 0.0880 - _timestamp: 1655795422.0000 - _runtime: 2531.0000\n",
      "Epoch 2/100\n",
      "108/108 [==============================] - 24s 224ms/step - loss: 0.0238 - val_loss: 0.0312 - _timestamp: 1655795447.0000 - _runtime: 2556.0000\n",
      "Epoch 3/100\n",
      "108/108 [==============================] - 24s 224ms/step - loss: 0.0193 - val_loss: 0.0321 - _timestamp: 1655795473.0000 - _runtime: 2582.0000\n",
      "Epoch 4/100\n",
      "108/108 [==============================] - 25s 231ms/step - loss: 0.0157 - val_loss: 0.0293 - _timestamp: 1655795499.0000 - _runtime: 2608.0000\n",
      "Epoch 5/100\n",
      "108/108 [==============================] - 24s 221ms/step - loss: 0.0128 - val_loss: 0.0326 - _timestamp: 1655795525.0000 - _runtime: 2634.0000\n",
      "Epoch 6/100\n",
      "108/108 [==============================] - 24s 223ms/step - loss: 0.0101 - val_loss: 0.0307 - _timestamp: 1655795550.0000 - _runtime: 2659.0000\n",
      "Epoch 7/100\n",
      "108/108 [==============================] - 24s 225ms/step - loss: 0.0102 - val_loss: 0.0311 - _timestamp: 1655795576.0000 - _runtime: 2685.0000\n",
      "Epoch 8/100\n",
      "108/108 [==============================] - 24s 225ms/step - loss: 0.0091 - val_loss: 0.0362 - _timestamp: 1655795602.0000 - _runtime: 2711.0000\n",
      "Epoch 9/100\n",
      "108/108 [==============================] - 24s 220ms/step - loss: 0.0087 - val_loss: 0.0357 - _timestamp: 1655795627.0000 - _runtime: 2736.0000\n",
      "Epoch 10/100\n",
      "108/108 [==============================] - 24s 221ms/step - loss: 0.0085 - val_loss: 0.0354 - _timestamp: 1655795652.0000 - _runtime: 2761.0000\n",
      "Epoch 11/100\n",
      "108/108 [==============================] - 24s 221ms/step - loss: 0.0088 - val_loss: 0.0355 - _timestamp: 1655795677.0000 - _runtime: 2786.0000\n",
      "Epoch 12/100\n",
      "108/108 [==============================] - 24s 221ms/step - loss: 0.0086 - val_loss: 0.0353 - _timestamp: 1655795703.0000 - _runtime: 2812.0000\n",
      "Epoch 13/100\n",
      "108/108 [==============================] - 24s 223ms/step - loss: 0.0092 - val_loss: 0.0355 - _timestamp: 1655795728.0000 - _runtime: 2837.0000\n",
      "Epoch 14/100\n",
      "108/108 [==============================] - 24s 223ms/step - loss: 0.0089 - val_loss: 0.0354 - _timestamp: 1655795754.0000 - _runtime: 2863.0000\n",
      "idx:6, f1:0.5290858725761773, threshold:0.39999999999999997\n"
     ]
    },
    {
     "name": "stderr",
     "output_type": "stream",
     "text": [
      "6it [37:38, 382.46s/it]"
     ]
    },
    {
     "name": "stdout",
     "output_type": "stream",
     "text": [
      "Epoch 1/100\n",
      "108/108 [==============================] - 35s 246ms/step - loss: 0.0397 - val_loss: 0.0506 - _timestamp: 1655795825.0000 - _runtime: 2934.0000\n",
      "Epoch 2/100\n",
      "108/108 [==============================] - 26s 241ms/step - loss: 0.0226 - val_loss: 0.0472 - _timestamp: 1655795853.0000 - _runtime: 2962.0000\n",
      "Epoch 3/100\n",
      "108/108 [==============================] - 26s 244ms/step - loss: 0.0191 - val_loss: 0.0271 - _timestamp: 1655795880.0000 - _runtime: 2989.0000\n",
      "Epoch 4/100\n",
      "108/108 [==============================] - 26s 241ms/step - loss: 0.0142 - val_loss: 0.0268 - _timestamp: 1655795908.0000 - _runtime: 3017.0000\n",
      "Epoch 5/100\n",
      "108/108 [==============================] - 25s 227ms/step - loss: 0.0117 - val_loss: 0.0314 - _timestamp: 1655795934.0000 - _runtime: 3043.0000\n",
      "Epoch 6/100\n",
      "108/108 [==============================] - 25s 232ms/step - loss: 0.0093 - val_loss: 0.0351 - _timestamp: 1655795961.0000 - _runtime: 3070.0000\n",
      "Epoch 7/100\n",
      "108/108 [==============================] - 25s 229ms/step - loss: 0.0087 - val_loss: 0.0334 - _timestamp: 1655795987.0000 - _runtime: 3096.0000\n",
      "Epoch 8/100\n",
      "108/108 [==============================] - 25s 228ms/step - loss: 0.0079 - val_loss: 0.0337 - _timestamp: 1655796013.0000 - _runtime: 3122.0000\n",
      "Epoch 9/100\n",
      "108/108 [==============================] - 25s 227ms/step - loss: 0.0072 - val_loss: 0.0326 - _timestamp: 1655796039.0000 - _runtime: 3148.0000\n",
      "Epoch 10/100\n",
      "108/108 [==============================] - 25s 227ms/step - loss: 0.0077 - val_loss: 0.0328 - _timestamp: 1655796065.0000 - _runtime: 3174.0000\n",
      "Epoch 11/100\n",
      "108/108 [==============================] - 24s 225ms/step - loss: 0.0075 - val_loss: 0.0327 - _timestamp: 1655796091.0000 - _runtime: 3200.0000\n",
      "Epoch 12/100\n",
      "108/108 [==============================] - 24s 226ms/step - loss: 0.0075 - val_loss: 0.0329 - _timestamp: 1655796116.0000 - _runtime: 3225.0000\n",
      "Epoch 13/100\n",
      "108/108 [==============================] - 25s 233ms/step - loss: 0.0079 - val_loss: 0.0329 - _timestamp: 1655796143.0000 - _runtime: 3252.0000\n",
      "Epoch 14/100\n",
      "108/108 [==============================] - 25s 233ms/step - loss: 0.0076 - val_loss: 0.0328 - _timestamp: 1655796170.0000 - _runtime: 3279.0000\n",
      "idx:7, f1:0.638295517432208, threshold:0.3\n"
     ]
    },
    {
     "name": "stderr",
     "output_type": "stream",
     "text": [
      "7it [44:34, 393.64s/it]"
     ]
    },
    {
     "name": "stdout",
     "output_type": "stream",
     "text": [
      "Epoch 1/100\n",
      "108/108 [==============================] - 34s 244ms/step - loss: 0.0348 - val_loss: 0.0921 - _timestamp: 1655796241.0000 - _runtime: 3350.0000\n",
      "Epoch 2/100\n",
      "108/108 [==============================] - 25s 236ms/step - loss: 0.0226 - val_loss: 0.0359 - _timestamp: 1655796268.0000 - _runtime: 3377.0000\n",
      "Epoch 3/100\n",
      "108/108 [==============================] - 26s 238ms/step - loss: 0.0183 - val_loss: 0.0339 - _timestamp: 1655796295.0000 - _runtime: 3404.0000\n",
      "Epoch 4/100\n",
      "108/108 [==============================] - 25s 231ms/step - loss: 0.0147 - val_loss: 0.0294 - _timestamp: 1655796322.0000 - _runtime: 3431.0000\n",
      "Epoch 5/100\n",
      "108/108 [==============================] - 24s 222ms/step - loss: 0.0110 - val_loss: 0.0386 - _timestamp: 1655796347.0000 - _runtime: 3456.0000\n",
      "Epoch 6/100\n",
      "108/108 [==============================] - 24s 225ms/step - loss: 0.0100 - val_loss: 0.0341 - _timestamp: 1655796373.0000 - _runtime: 3482.0000\n",
      "Epoch 7/100\n",
      "108/108 [==============================] - 24s 219ms/step - loss: 0.0087 - val_loss: 0.0352 - _timestamp: 1655796398.0000 - _runtime: 3507.0000\n",
      "Epoch 8/100\n",
      "108/108 [==============================] - 24s 224ms/step - loss: 0.0080 - val_loss: 0.0386 - _timestamp: 1655796424.0000 - _runtime: 3533.0000\n",
      "Epoch 9/100\n",
      "108/108 [==============================] - 24s 221ms/step - loss: 0.0075 - val_loss: 0.0384 - _timestamp: 1655796449.0000 - _runtime: 3558.0000\n",
      "Epoch 10/100\n",
      "108/108 [==============================] - 24s 225ms/step - loss: 0.0075 - val_loss: 0.0383 - _timestamp: 1655796475.0000 - _runtime: 3584.0000\n",
      "Epoch 11/100\n",
      "108/108 [==============================] - 25s 232ms/step - loss: 0.0076 - val_loss: 0.0382 - _timestamp: 1655796502.0000 - _runtime: 3611.0000\n",
      "Epoch 12/100\n",
      "108/108 [==============================] - 24s 225ms/step - loss: 0.0073 - val_loss: 0.0381 - _timestamp: 1655796527.0000 - _runtime: 3636.0000\n",
      "Epoch 13/100\n",
      "108/108 [==============================] - 24s 224ms/step - loss: 0.0069 - val_loss: 0.0382 - _timestamp: 1655796553.0000 - _runtime: 3662.0000\n",
      "Epoch 14/100\n",
      "108/108 [==============================] - 24s 226ms/step - loss: 0.0074 - val_loss: 0.0384 - _timestamp: 1655796579.0000 - _runtime: 3688.0000\n",
      "idx:8, f1:0.5681713774510988, threshold:0.35\n"
     ]
    },
    {
     "name": "stderr",
     "output_type": "stream",
     "text": [
      "8it [51:23, 398.35s/it]"
     ]
    },
    {
     "name": "stdout",
     "output_type": "stream",
     "text": [
      "Epoch 1/100\n",
      "108/108 [==============================] - 34s 248ms/step - loss: 0.0380 - val_loss: 0.0289 - _timestamp: 1655796651.0000 - _runtime: 3760.0000\n",
      "Epoch 2/100\n",
      "108/108 [==============================] - 24s 219ms/step - loss: 0.0223 - val_loss: 0.0299 - _timestamp: 1655796676.0000 - _runtime: 3785.0000\n",
      "Epoch 3/100\n",
      "108/108 [==============================] - 24s 219ms/step - loss: 0.0170 - val_loss: 0.0428 - _timestamp: 1655796701.0000 - _runtime: 3810.0000\n",
      "Epoch 4/100\n",
      "108/108 [==============================] - 24s 220ms/step - loss: 0.0135 - val_loss: 0.0371 - _timestamp: 1655796726.0000 - _runtime: 3835.0000\n",
      "Epoch 5/100\n",
      "108/108 [==============================] - 24s 220ms/step - loss: 0.0108 - val_loss: 0.0350 - _timestamp: 1655796751.0000 - _runtime: 3860.0000\n",
      "Epoch 6/100\n",
      "108/108 [==============================] - 24s 222ms/step - loss: 0.0088 - val_loss: 0.0365 - _timestamp: 1655796777.0000 - _runtime: 3886.0000\n",
      "Epoch 7/100\n",
      "108/108 [==============================] - 24s 223ms/step - loss: 0.0080 - val_loss: 0.0349 - _timestamp: 1655796802.0000 - _runtime: 3911.0000\n",
      "Epoch 8/100\n",
      "108/108 [==============================] - 24s 221ms/step - loss: 0.0072 - val_loss: 0.0338 - _timestamp: 1655796828.0000 - _runtime: 3937.0000\n",
      "Epoch 9/100\n",
      "108/108 [==============================] - 24s 218ms/step - loss: 0.0070 - val_loss: 0.0336 - _timestamp: 1655796853.0000 - _runtime: 3962.0000\n",
      "Epoch 10/100\n",
      "108/108 [==============================] - 24s 223ms/step - loss: 0.0070 - val_loss: 0.0339 - _timestamp: 1655796878.0000 - _runtime: 3987.0000\n",
      "Epoch 11/100\n",
      "108/108 [==============================] - 24s 222ms/step - loss: 0.0063 - val_loss: 0.0341 - _timestamp: 1655796904.0000 - _runtime: 4013.0000\n",
      "idx:9, f1:0.5157731157731157, threshold:0.35\n"
     ]
    },
    {
     "name": "stderr",
     "output_type": "stream",
     "text": [
      "9it [56:49, 375.88s/it]"
     ]
    },
    {
     "name": "stdout",
     "output_type": "stream",
     "text": [
      "Epoch 1/100\n",
      "108/108 [==============================] - 34s 244ms/step - loss: 0.0342 - val_loss: 0.0312 - _timestamp: 1655796979.0000 - _runtime: 4088.0000\n",
      "Epoch 2/100\n",
      "108/108 [==============================] - 26s 241ms/step - loss: 0.0232 - val_loss: 0.0265 - _timestamp: 1655797006.0000 - _runtime: 4115.0000\n",
      "Epoch 3/100\n",
      "108/108 [==============================] - 24s 224ms/step - loss: 0.0190 - val_loss: 0.0298 - _timestamp: 1655797032.0000 - _runtime: 4141.0000\n",
      "Epoch 4/100\n",
      "108/108 [==============================] - 24s 223ms/step - loss: 0.0152 - val_loss: 0.0336 - _timestamp: 1655797058.0000 - _runtime: 4167.0000\n",
      "Epoch 5/100\n",
      "108/108 [==============================] - 24s 222ms/step - loss: 0.0122 - val_loss: 0.0369 - _timestamp: 1655797083.0000 - _runtime: 4192.0000\n",
      "Epoch 6/100\n",
      "108/108 [==============================] - 24s 224ms/step - loss: 0.0104 - val_loss: 0.0313 - _timestamp: 1655797109.0000 - _runtime: 4218.0000\n",
      "Epoch 7/100\n",
      "108/108 [==============================] - 24s 223ms/step - loss: 0.0082 - val_loss: 0.0323 - _timestamp: 1655797134.0000 - _runtime: 4243.0000\n",
      "Epoch 8/100\n",
      "108/108 [==============================] - 24s 224ms/step - loss: 0.0086 - val_loss: 0.0329 - _timestamp: 1655797160.0000 - _runtime: 4269.0000\n",
      "Epoch 9/100\n",
      "108/108 [==============================] - 24s 225ms/step - loss: 0.0076 - val_loss: 0.0319 - _timestamp: 1655797186.0000 - _runtime: 4295.0000\n",
      "Epoch 10/100\n",
      "108/108 [==============================] - 24s 223ms/step - loss: 0.0081 - val_loss: 0.0320 - _timestamp: 1655797211.0000 - _runtime: 4320.0000\n",
      "Epoch 11/100\n",
      "108/108 [==============================] - 24s 224ms/step - loss: 0.0083 - val_loss: 0.0321 - _timestamp: 1655797237.0000 - _runtime: 4346.0000\n",
      "Epoch 12/100\n",
      "108/108 [==============================] - 24s 223ms/step - loss: 0.0080 - val_loss: 0.0322 - _timestamp: 1655797262.0000 - _runtime: 4371.0000\n",
      "idx:10, f1:0.5810661830079306, threshold:0.35\n"
     ]
    },
    {
     "name": "stderr",
     "output_type": "stream",
     "text": [
      "10it [1:02:46, 376.60s/it]"
     ]
    },
    {
     "name": "stdout",
     "output_type": "stream",
     "text": [
      "validation_macro-f1:  0.5718685650414137\n"
     ]
    },
    {
     "name": "stderr",
     "output_type": "stream",
     "text": [
      "\n"
     ]
    }
   ],
   "source": [
    "validations = []\n",
    "thresholds = []\n",
    "predictions = []\n",
    "\n",
    "idx=0\n",
    "\n",
    "skf = StratifiedKFold(n_splits=cv)\n",
    "for train_index, val_index in tqdm(skf.split(X, y)):\n",
    "    \n",
    "    idx+=1\n",
    "\n",
    "    X_train, X_val = X[train_index], X[val_index]\n",
    "    y_train, y_val = y[train_index], y[val_index]\n",
    "    \n",
    "    X_train_tab = train_df[[\"condition1\", \"condition2\"]].values[train_index]\n",
    "    X_val_tab = train_df[[\"condition1\", \"condition2\"]].values[val_index]\n",
    "    \n",
    "    train_ds = (\n",
    "        tf.data.Dataset.from_tensor_slices(((X_train, X_train_tab), y_train))\n",
    "        .shuffle(len(X_train))\n",
    "        .batch(BATCH_SIZE)\n",
    "        .prefetch(tf.data.experimental.AUTOTUNE)\n",
    "    )\n",
    "\n",
    "    val_ds = (\n",
    "        tf.data.Dataset.from_tensor_slices(((X_val, X_val_tab), y_val))\n",
    "        .batch(BATCH_SIZE)\n",
    "        .prefetch(tf.data.experimental.AUTOTUNE)\n",
    "    )\n",
    "\n",
    "    if pretrained_model == \"efficientnetb0\":\n",
    "        encoder = tf.keras.applications.EfficientNetB0(\n",
    "            include_top=False,\n",
    "            weights=\"imagenet\",\n",
    "            pooling='avg',\n",
    "        )\n",
    "\n",
    "    inp = tf.keras.Input(shape=(resize_size, resize_size, 3))\n",
    "    tab = tf.keras.Input(shape=(X_test_tab.shape[1],))\n",
    "    x = encoder(inp)\n",
    "    x = layers.Concatenate()([x, tab])\n",
    "    oup = layers.Dense(1, activation=\"sigmoid\")(x)\n",
    "    model = tf.keras.Model(inputs=[inp, tab], outputs=oup)\n",
    "\n",
    "    lr = tf.keras.optimizers.schedules.CosineDecay(learning_rate, decay_steps=1000)\n",
    "    if optimizer == \"adam\":\n",
    "        optim = tf.keras.optimizers.Adam(learning_rate=lr)\n",
    "    elif optimizer == \"sgd\":\n",
    "        optim = tf.keras.optimizers.SGD(learning_rate=lr, momentum=0.9)\n",
    "        \n",
    "    if loss == \"bc\":\n",
    "        label_smoothing=0\n",
    "        loss_function = tf.keras.losses.BinaryCrossentropy(label_smoothing=label_smoothing)\n",
    "    elif loss == \"fl\":\n",
    "        loss_function = tfa.losses.SigmoidFocalCrossEntropy()\n",
    "\n",
    "    model.compile(\n",
    "        optimizer=optim,\n",
    "        loss=loss_function,\n",
    "    )\n",
    "    \n",
    "    checkpoint_filepath=f\"load_model/{parser.description}_{idx}\"\n",
    "\n",
    "    checkpoint_callback = [\n",
    "        tf.keras.callbacks.EarlyStopping(\n",
    "            monitor='val_loss',\n",
    "            patience=10,\n",
    "            restore_best_weights=True,\n",
    "        ),\n",
    "        tf.keras.callbacks.ModelCheckpoint(\n",
    "            checkpoint_filepath,\n",
    "            monitor=\"val_loss\",\n",
    "            save_best_only=True,\n",
    "            save_weights_only=True\n",
    "        )\n",
    "    ]\n",
    "\n",
    "    history = model.fit(\n",
    "        train_ds,\n",
    "        validation_data=val_ds,\n",
    "        epochs=EPOCHS,\n",
    "        callbacks=[checkpoint_callback, WandbCallback()],\n",
    "    )\n",
    "\n",
    "    max_f1 = 0\n",
    "    threshold = 0\n",
    "    for temp_threshold in np.linspace(0.05, 0.95, 19):\n",
    "        temp_f1 = f1_score(y_val, np.where(model.predict(val_ds)>temp_threshold, 1, 0), average=\"macro\")\n",
    "        if temp_f1 > max_f1:\n",
    "            max_f1 = temp_f1\n",
    "            threshold = temp_threshold\n",
    "    \n",
    "    print(f\"idx:{idx}, f1:{max_f1}, threshold:{threshold}\")\n",
    "    \n",
    "    validations.append(max_f1)\n",
    "    thresholds.append(threshold)\n",
    "    predictions.append(model.predict([X_test, X_test_tab]))\n",
    "\n",
    "val_f1 = np.mean(validations, axis=0)\n",
    "\n",
    "print(\"validation_macro-f1: \", val_f1)\n",
    "wandb.log({'validation_macro-f1': val_f1})"
   ]
  },
  {
   "cell_type": "markdown",
   "metadata": {
    "id": "X7vNprtvVIb0"
   },
   "source": [
    "## Inference"
   ]
  },
  {
   "cell_type": "code",
   "execution_count": 7,
   "metadata": {
    "id": "Rb1j87j7k3l9"
   },
   "outputs": [
    {
     "data": {
      "text/plain": [
       "0    0.980286\n",
       "1    0.019714\n",
       "Name: covid19, dtype: float64"
      ]
     },
     "execution_count": 7,
     "metadata": {},
     "output_type": "execute_result"
    }
   ],
   "source": [
    "threshold = np.mean(thresholds)\n",
    "test_df[\"covid19\"] = np.where(np.mean(predictions, axis=0)>threshold, 1, 0)\n",
    "\n",
    "submission = pd.read_csv('data/sample_submission.csv')\n",
    "submission['covid19'] = test_df['covid19']\n",
    "submission.to_csv('submission.csv', index=False)\n",
    "\n",
    "test_df['covid19'].value_counts(normalize=True)"
   ]
  }
 ],
 "metadata": {
  "accelerator": "GPU",
  "colab": {
   "authorship_tag": "ABX9TyOI2a3K41SRHmr0VYqCJIVd",
   "collapsed_sections": [],
   "mount_file_id": "12SyNXKXsgbk5c855KhTFRgLEogv2xCNZ",
   "name": "2. Baseline.ipynb",
   "provenance": []
  },
  "kernelspec": {
   "display_name": "Python 3 (ipykernel)",
   "language": "python",
   "name": "python3"
  },
  "language_info": {
   "codemirror_mode": {
    "name": "ipython",
    "version": 3
   },
   "file_extension": ".py",
   "mimetype": "text/x-python",
   "name": "python",
   "nbconvert_exporter": "python",
   "pygments_lexer": "ipython3",
   "version": "3.8.0"
  }
 },
 "nbformat": 4,
 "nbformat_minor": 4
}
