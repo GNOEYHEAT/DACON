{
 "cells": [
  {
   "cell_type": "markdown",
   "metadata": {
    "id": "6CRpCP5SF6g3"
   },
   "source": [
    "# Word Embedding"
   ]
  },
  {
   "cell_type": "code",
   "execution_count": 1,
   "metadata": {
    "colab": {
     "base_uri": "https://localhost:8080/",
     "height": 308
    },
    "executionInfo": {
     "elapsed": 4781,
     "status": "ok",
     "timestamp": 1657544121777,
     "user": {
      "displayName": "‍김태형[ 대학원석·박사통합과정재학 / 산업경영공학과 ]",
      "userId": "00288066936238655028"
     },
     "user_tz": -540
    },
    "id": "2YmGiYMSGG-8",
    "outputId": "c126c9a2-a579-4279-dd7a-f1c4fcb3e6d6"
   },
   "outputs": [
    {
     "name": "stderr",
     "output_type": "stream",
     "text": [
      "[nltk_data] Downloading package punkt to\n",
      "[nltk_data]     C:\\Users\\Taehyeong\\AppData\\Roaming\\nltk_data...\n",
      "[nltk_data]   Package punkt is already up-to-date!\n",
      "\u001b[34m\u001b[1mwandb\u001b[0m: Currently logged in as: \u001b[33mgnoeyheat\u001b[0m (use `wandb login --relogin` to force relogin)\n"
     ]
    },
    {
     "data": {
      "text/html": [
       "wandb version 0.12.21 is available!  To upgrade, please run:\n",
       " $ pip install wandb --upgrade"
      ],
      "text/plain": [
       "<IPython.core.display.HTML object>"
      ]
     },
     "metadata": {},
     "output_type": "display_data"
    },
    {
     "data": {
      "text/html": [
       "Tracking run with wandb version 0.12.14"
      ],
      "text/plain": [
       "<IPython.core.display.HTML object>"
      ]
     },
     "metadata": {},
     "output_type": "display_data"
    },
    {
     "data": {
      "text/html": [
       "Run data is saved locally in <code>C:\\Users\\Taehyeong\\_DACON\\DACON_235938\\wandb\\run-20220731_102408-2vrqdbgm</code>"
      ],
      "text/plain": [
       "<IPython.core.display.HTML object>"
      ]
     },
     "metadata": {},
     "output_type": "display_data"
    },
    {
     "data": {
      "text/html": [
       "Syncing run <strong><a href=\"https://wandb.ai/gnoeyheat/DACON_235938/runs/2vrqdbgm\" target=\"_blank\">word_embedding</a></strong> to <a href=\"https://wandb.ai/gnoeyheat/DACON_235938\" target=\"_blank\">Weights & Biases</a> (<a href=\"https://wandb.me/run\" target=\"_blank\">docs</a>)<br/>"
      ],
      "text/plain": [
       "<IPython.core.display.HTML object>"
      ]
     },
     "metadata": {},
     "output_type": "display_data"
    },
    {
     "data": {
      "text/html": [
       "<div>\n",
       "<style scoped>\n",
       "    .dataframe tbody tr th:only-of-type {\n",
       "        vertical-align: middle;\n",
       "    }\n",
       "\n",
       "    .dataframe tbody tr th {\n",
       "        vertical-align: top;\n",
       "    }\n",
       "\n",
       "    .dataframe thead th {\n",
       "        text-align: right;\n",
       "    }\n",
       "</style>\n",
       "<table border=\"1\" class=\"dataframe\">\n",
       "  <thead>\n",
       "    <tr style=\"text-align: right;\">\n",
       "      <th></th>\n",
       "      <th>id</th>\n",
       "      <th>reviews</th>\n",
       "      <th>target</th>\n",
       "      <th>tokenized_stem</th>\n",
       "      <th>main_pos</th>\n",
       "    </tr>\n",
       "  </thead>\n",
       "  <tbody>\n",
       "    <tr>\n",
       "      <th>0</th>\n",
       "      <td>0</td>\n",
       "      <td>조아요 처음구입 싸게햇어요</td>\n",
       "      <td>2</td>\n",
       "      <td>조아요 처음 구입 싸게 햇 어 요</td>\n",
       "      <td>조아요 처음 구입 싸게 햇 요</td>\n",
       "    </tr>\n",
       "    <tr>\n",
       "      <th>1</th>\n",
       "      <td>1</td>\n",
       "      <td>생각보다 잘 안돼요 매지 바른지 하루밖에 안됐는데ㅠㅠ 25천원가량 주고 사기 너무 ...</td>\n",
       "      <td>1</td>\n",
       "      <td>생각 보다 잘 안 돼요 매지 바른지 하루 밖에 안 됐는데 ㅠㅠ 25천원 가량 주고 ...</td>\n",
       "      <td>생각 보다 잘 안 돼요 매지 바른지 하루 안 됐는데 ㅠㅠ 25천원 가량 주고 사기 ...</td>\n",
       "    </tr>\n",
       "    <tr>\n",
       "      <th>2</th>\n",
       "      <td>2</td>\n",
       "      <td>디자인은괜찮은데 상품이 금이가서 교환했는데 두번째받은상품도 까져있고 안쪽에 금이가져...</td>\n",
       "      <td>2</td>\n",
       "      <td>디자인 은 괜찮은데 상품 이 금 이 가서 교환 했는데 두번째 받은 상품 도 까져있고...</td>\n",
       "      <td>디자인 은 괜찮은데 상품 이 금 이 가서 교환 했는데 두번째 받은 상품 도 까져있고...</td>\n",
       "    </tr>\n",
       "    <tr>\n",
       "      <th>3</th>\n",
       "      <td>3</td>\n",
       "      <td>기전에 이 제품말고 이마트 트레이더스에서만 팔던 프리미엄 제품을 사용했었습니다. 샘...</td>\n",
       "      <td>2</td>\n",
       "      <td>기전 에 이 제품 말고 이마트 트 레이더스 에서만 팔던 프리미엄 제품 을 사용 했었...</td>\n",
       "      <td>기전 이 제품 이마트 트 레이더스 팔던 프리미엄 제품 사용 했었습니다 샘플 써 보고...</td>\n",
       "    </tr>\n",
       "    <tr>\n",
       "      <th>4</th>\n",
       "      <td>4</td>\n",
       "      <td>튼튼하고 손목을 잘 받쳐주네요~</td>\n",
       "      <td>5</td>\n",
       "      <td>튼튼하고 손목 을 잘 받쳐주네요 ~</td>\n",
       "      <td>튼튼하고 손목 잘 받쳐주네요</td>\n",
       "    </tr>\n",
       "  </tbody>\n",
       "</table>\n",
       "</div>"
      ],
      "text/plain": [
       "   id                                            reviews  target  \\\n",
       "0   0                                     조아요 처음구입 싸게햇어요       2   \n",
       "1   1  생각보다 잘 안돼요 매지 바른지 하루밖에 안됐는데ㅠㅠ 25천원가량 주고 사기 너무 ...       1   \n",
       "2   2  디자인은괜찮은데 상품이 금이가서 교환했는데 두번째받은상품도 까져있고 안쪽에 금이가져...       2   \n",
       "3   3  기전에 이 제품말고 이마트 트레이더스에서만 팔던 프리미엄 제품을 사용했었습니다. 샘...       2   \n",
       "4   4                                  튼튼하고 손목을 잘 받쳐주네요~       5   \n",
       "\n",
       "                                      tokenized_stem  \\\n",
       "0                                 조아요 처음 구입 싸게 햇 어 요   \n",
       "1  생각 보다 잘 안 돼요 매지 바른지 하루 밖에 안 됐는데 ㅠㅠ 25천원 가량 주고 ...   \n",
       "2  디자인 은 괜찮은데 상품 이 금 이 가서 교환 했는데 두번째 받은 상품 도 까져있고...   \n",
       "3  기전 에 이 제품 말고 이마트 트 레이더스 에서만 팔던 프리미엄 제품 을 사용 했었...   \n",
       "4                                튼튼하고 손목 을 잘 받쳐주네요 ~   \n",
       "\n",
       "                                            main_pos  \n",
       "0                                   조아요 처음 구입 싸게 햇 요  \n",
       "1  생각 보다 잘 안 돼요 매지 바른지 하루 안 됐는데 ㅠㅠ 25천원 가량 주고 사기 ...  \n",
       "2  디자인 은 괜찮은데 상품 이 금 이 가서 교환 했는데 두번째 받은 상품 도 까져있고...  \n",
       "3  기전 이 제품 이마트 트 레이더스 팔던 프리미엄 제품 사용 했었습니다 샘플 써 보고...  \n",
       "4                                    튼튼하고 손목 잘 받쳐주네요  "
      ]
     },
     "execution_count": 1,
     "metadata": {},
     "output_type": "execute_result"
    }
   ],
   "source": [
    "import os\n",
    "import random\n",
    "import numpy as np\n",
    "import pandas as pd\n",
    "import matplotlib.pyplot as plt\n",
    "import seaborn as sns\n",
    "%matplotlib inline\n",
    "\n",
    "from sklearn.model_selection import train_test_split\n",
    "from sklearn.linear_model import LogisticRegression\n",
    "from sklearn.metrics import accuracy_score\n",
    "\n",
    "import nltk\n",
    "nltk.download('punkt')\n",
    "\n",
    "from gensim.models import Word2Vec, FastText, KeyedVectors\n",
    "\n",
    "import re\n",
    "from tqdm import tqdm\n",
    "\n",
    "import warnings\n",
    "warnings.filterwarnings('ignore')\n",
    "\n",
    "import argparse\n",
    "import wandb\n",
    "wandb.init(project=\"DACON_235938\", name=\"word_embedding\")\n",
    "\n",
    "parser = argparse.ArgumentParser(description=\"word_embedding\")\n",
    "parser.add_argument('--embedding_model', default=\"fasttext\", type=str) # word2vec or fasttext\n",
    "parser.add_argument('--embedding_size', default=100, type=int)\n",
    "parser.add_argument('--embedding_workers', default=30, type=int)\n",
    "parser.add_argument('--feature_name', default=\"tokenized_stem\", type=str) # reviews or tokenized_stem or main_pos\n",
    "parser.add_argument('--validation_size', default=0.2, type=float)\n",
    "parser.add_argument('--seed', default=1011, type=int)\n",
    "args = parser.parse_args('')\n",
    "\n",
    "wandb.config.update(args)\n",
    "\n",
    "embedding_model = args.embedding_model\n",
    "embedding_size = args.embedding_size\n",
    "embedding_workers = args.embedding_workers\n",
    "feature_name = args.feature_name\n",
    "validation_size = args.validation_size\n",
    "seed = args.seed\n",
    "\n",
    "def set_seeds(seed=seed):\n",
    "    os.environ['PYTHONHASHSEED'] = str(seed)\n",
    "    random.seed(seed)\n",
    "    np.random.seed(seed)\n",
    "\n",
    "set_seeds()\n",
    "\n",
    "train = pd.read_csv(\"data/train_okt.csv\")\n",
    "test = pd.read_csv(\"data/test_okt.csv\")\n",
    "\n",
    "train.head()"
   ]
  },
  {
   "cell_type": "markdown",
   "metadata": {
    "id": "HMDbo5u0T70G"
   },
   "source": [
    "## Preprocessing"
   ]
  },
  {
   "cell_type": "code",
   "execution_count": 2,
   "metadata": {
    "colab": {
     "base_uri": "https://localhost:8080/"
    },
    "executionInfo": {
     "elapsed": 2,
     "status": "ok",
     "timestamp": 1657544126736,
     "user": {
      "displayName": "‍김태형[ 대학원석·박사통합과정재학 / 산업경영공학과 ]",
      "userId": "00288066936238655028"
     },
     "user_tz": -540
    },
    "id": "jQ5LqgelHxu6",
    "outputId": "8d939ab5-9f20-4ad1-b29d-ec9eee0645d1"
   },
   "outputs": [
    {
     "data": {
      "text/plain": [
       "5    10000\n",
       "2     8000\n",
       "1     4500\n",
       "4     2500\n",
       "Name: target, dtype: int64"
      ]
     },
     "execution_count": 2,
     "metadata": {},
     "output_type": "execute_result"
    }
   ],
   "source": [
    "y = train[\"target\"]\n",
    "\n",
    "y.value_counts()"
   ]
  },
  {
   "cell_type": "code",
   "execution_count": 3,
   "metadata": {},
   "outputs": [
    {
     "data": {
      "text/plain": [
       "((25000,), (25000,))"
      ]
     },
     "execution_count": 3,
     "metadata": {},
     "output_type": "execute_result"
    }
   ],
   "source": [
    "def preprocessing_text(df):\n",
    "    temp = df.copy()\n",
    "    df_token = []\n",
    "    for i in range(len(temp)):\n",
    "        df_token.append(nltk.word_tokenize(temp[i]))\n",
    "    return df_token\n",
    "\n",
    "X = np.array(preprocessing_text(train[feature_name]))\n",
    "X_test = np.array(preprocessing_text(test[feature_name]))\n",
    "\n",
    "X.shape, X_test.shape"
   ]
  },
  {
   "cell_type": "code",
   "execution_count": 4,
   "metadata": {
    "id": "VrAS0G3rIA3P"
   },
   "outputs": [
    {
     "data": {
      "text/plain": [
       "((25000,), (25000,))"
      ]
     },
     "execution_count": 4,
     "metadata": {},
     "output_type": "execute_result"
    }
   ],
   "source": [
    "if embedding_model == \"word2vec\":\n",
    "    model = Word2Vec(sentences=X, size=embedding_size,\n",
    "                     workers=embedding_workers, seed=seed, sg=1)\n",
    "if embedding_model == \"fasttext\":\n",
    "    model = FastText(sentences=X, size=embedding_size,\n",
    "                     workers=embedding_workers, seed=seed, sg=1)\n",
    "\n",
    "X.shape, X_test.shape"
   ]
  },
  {
   "cell_type": "code",
   "execution_count": 5,
   "metadata": {},
   "outputs": [
    {
     "data": {
      "text/plain": [
       "[('딱좋아요', 0.8901451826095581),\n",
       " ('좋네요', 0.8676313161849976),\n",
       " ('좋습니다', 0.8392004370689392),\n",
       " ('조아요', 0.8371558785438538),\n",
       " ('편해요', 0.8126579523086548),\n",
       " ('좋음', 0.7972337007522583),\n",
       " ('좋구요', 0.793621838092804),\n",
       " ('좋아용', 0.7924681901931763),\n",
       " ('좋아여', 0.7922549247741699),\n",
       " ('만족합니당', 0.7911874055862427)]"
      ]
     },
     "execution_count": 5,
     "metadata": {},
     "output_type": "execute_result"
    }
   ],
   "source": [
    "model.wv.most_similar('좋아요')"
   ]
  },
  {
   "cell_type": "code",
   "execution_count": 6,
   "metadata": {},
   "outputs": [
    {
     "data": {
      "text/plain": [
       "[('안좋고', 0.9053457975387573),\n",
       " ('안좋음', 0.9034500122070312),\n",
       " ('많아요', 0.8645927906036377),\n",
       " ('낮아요', 0.8574504852294922),\n",
       " ('받아요', 0.8555399775505066),\n",
       " ('높아요', 0.8541637659072876),\n",
       " ('밝아요', 0.8512791395187378),\n",
       " ('예쁜데', 0.8499303460121155),\n",
       " ('부실해요', 0.8451288342475891),\n",
       " ('안좋네요', 0.8432906270027161)]"
      ]
     },
     "execution_count": 6,
     "metadata": {},
     "output_type": "execute_result"
    }
   ],
   "source": [
    "model.wv.most_similar('안좋아요')"
   ]
  },
  {
   "cell_type": "code",
   "execution_count": 7,
   "metadata": {},
   "outputs": [
    {
     "data": {
      "text/plain": [
       "((25000, 100), (25000, 100))"
      ]
     },
     "execution_count": 7,
     "metadata": {},
     "output_type": "execute_result"
    }
   ],
   "source": [
    "def get_features(words, model, num_features):\n",
    "    feature_vector = np.zeros((num_features),dtype=np.float32)\n",
    "    num_words = 0\n",
    "    index2word_set = set(model.wv.index2word)\n",
    "    for w in words:\n",
    "        if w in index2word_set:\n",
    "            num_words += 1\n",
    "            feature_vector = np.add(feature_vector, model.wv[w])\n",
    "    return feature_vector\n",
    "\n",
    "def get_dataset(reviews, model, num_features):\n",
    "    dataset = list()\n",
    "    for s in reviews:\n",
    "        dataset.append(get_features(s, model, num_features))\n",
    "    reviewFeatureVecs = np.stack(dataset)\n",
    "    return reviewFeatureVecs\n",
    "\n",
    "X = get_dataset(X, model, embedding_size)\n",
    "X_test = get_dataset(X_test, model, embedding_size)\n",
    "\n",
    "X.shape, X_test.shape"
   ]
  },
  {
   "cell_type": "markdown",
   "metadata": {
    "id": "iHQcEMXFVSvH"
   },
   "source": [
    "## Training"
   ]
  },
  {
   "cell_type": "code",
   "execution_count": 8,
   "metadata": {
    "id": "LcXdhX68ICWk"
   },
   "outputs": [
    {
     "name": "stdout",
     "output_type": "stream",
     "text": [
      "val_acc : 0.6468\n"
     ]
    }
   ],
   "source": [
    "X_train, X_val, y_train, y_val = train_test_split(\n",
    "    X, y, test_size=validation_size, random_state=seed, stratify=y\n",
    ")\n",
    "\n",
    "model = LogisticRegression(solver=\"liblinear\", random_state=seed, n_jobs=-1) \n",
    "model.fit(X_train, y_train)\n",
    "y_pred = model.predict(X_val)\n",
    "   \n",
    "val_acc = accuracy_score(y_val, y_pred)\n",
    "print(f\"val_acc : {val_acc}\")\n",
    "wandb.log({\"val_acc\": val_acc})"
   ]
  },
  {
   "cell_type": "code",
   "execution_count": 9,
   "metadata": {},
   "outputs": [
    {
     "data": {
      "text/plain": [
       "5    12429\n",
       "2    10921\n",
       "1     1586\n",
       "4       64\n",
       "dtype: int64"
      ]
     },
     "execution_count": 9,
     "metadata": {},
     "output_type": "execute_result"
    }
   ],
   "source": [
    "model = LogisticRegression(solver=\"liblinear\", random_state=seed, n_jobs=-1) \n",
    "model.fit(X, y)\n",
    "prediction = model.predict(X_test)\n",
    "\n",
    "pd.Series(prediction).value_counts()"
   ]
  },
  {
   "cell_type": "markdown",
   "metadata": {},
   "source": [
    "## Inference"
   ]
  },
  {
   "cell_type": "code",
   "execution_count": 10,
   "metadata": {},
   "outputs": [],
   "source": [
    "submission = pd.read_csv(\"data/sample_submission.csv\")\n",
    "submission[\"target\"] = prediction\n",
    "submission.to_csv(\"submission.csv\", index=False)"
   ]
  }
 ],
 "metadata": {
  "accelerator": "GPU",
  "colab": {
   "authorship_tag": "ABX9TyNxhZ4WlBxRQalLoRYdovMF",
   "collapsed_sections": [],
   "mount_file_id": "1Il8yoi9AmIkQYHgr0Cm5eAR0SGnYCtl3",
   "name": "0-Tutorial.ipynb",
   "provenance": []
  },
  "gpuClass": "standard",
  "kernelspec": {
   "display_name": "Python 3 (ipykernel)",
   "language": "python",
   "name": "python3"
  },
  "language_info": {
   "codemirror_mode": {
    "name": "ipython",
    "version": 3
   },
   "file_extension": ".py",
   "mimetype": "text/x-python",
   "name": "python",
   "nbconvert_exporter": "python",
   "pygments_lexer": "ipython3",
   "version": "3.8.0"
  }
 },
 "nbformat": 4,
 "nbformat_minor": 4
}
