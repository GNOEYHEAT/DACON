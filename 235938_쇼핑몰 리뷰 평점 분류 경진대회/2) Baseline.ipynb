{
 "cells": [
  {
   "cell_type": "markdown",
   "metadata": {
    "id": "6CRpCP5SF6g3"
   },
   "source": [
    "# Baseline"
   ]
  },
  {
   "cell_type": "code",
   "execution_count": 1,
   "metadata": {
    "colab": {
     "base_uri": "https://localhost:8080/",
     "height": 308
    },
    "executionInfo": {
     "elapsed": 4781,
     "status": "ok",
     "timestamp": 1657544121777,
     "user": {
      "displayName": "‍김태형[ 대학원석·박사통합과정재학 / 산업경영공학과 ]",
      "userId": "00288066936238655028"
     },
     "user_tz": -540
    },
    "id": "2YmGiYMSGG-8",
    "outputId": "c126c9a2-a579-4279-dd7a-f1c4fcb3e6d6"
   },
   "outputs": [
    {
     "name": "stderr",
     "output_type": "stream",
     "text": [
      "\u001b[34m\u001b[1mwandb\u001b[0m: Currently logged in as: \u001b[33mgnoeyheat\u001b[0m (use `wandb login --relogin` to force relogin)\n"
     ]
    },
    {
     "data": {
      "text/html": [
       "wandb version 0.12.21 is available!  To upgrade, please run:\n",
       " $ pip install wandb --upgrade"
      ],
      "text/plain": [
       "<IPython.core.display.HTML object>"
      ]
     },
     "metadata": {},
     "output_type": "display_data"
    },
    {
     "data": {
      "text/html": [
       "Tracking run with wandb version 0.12.14"
      ],
      "text/plain": [
       "<IPython.core.display.HTML object>"
      ]
     },
     "metadata": {},
     "output_type": "display_data"
    },
    {
     "data": {
      "text/html": [
       "Run data is saved locally in <code>C:\\Users\\Taehyeong\\_DACON\\DACON_235938\\wandb\\run-20220730_203233-1qvwi1fi</code>"
      ],
      "text/plain": [
       "<IPython.core.display.HTML object>"
      ]
     },
     "metadata": {},
     "output_type": "display_data"
    },
    {
     "data": {
      "text/html": [
       "Syncing run <strong><a href=\"https://wandb.ai/gnoeyheat/DACON_235938/runs/1qvwi1fi\" target=\"_blank\">baseline</a></strong> to <a href=\"https://wandb.ai/gnoeyheat/DACON_235938\" target=\"_blank\">Weights & Biases</a> (<a href=\"https://wandb.me/run\" target=\"_blank\">docs</a>)<br/>"
      ],
      "text/plain": [
       "<IPython.core.display.HTML object>"
      ]
     },
     "metadata": {},
     "output_type": "display_data"
    },
    {
     "data": {
      "text/plain": [
       "((25000, 5), (25000, 4))"
      ]
     },
     "execution_count": 1,
     "metadata": {},
     "output_type": "execute_result"
    }
   ],
   "source": [
    "import os\n",
    "import random\n",
    "import numpy as np\n",
    "import pandas as pd\n",
    "import matplotlib.pyplot as plt\n",
    "import seaborn as sns\n",
    "%matplotlib inline\n",
    "\n",
    "from sklearn.model_selection import train_test_split\n",
    "from sklearn.metrics import accuracy_score\n",
    "\n",
    "import tensorflow as tf\n",
    "from tensorflow.keras import layers\n",
    "\n",
    "import re\n",
    "from tqdm import tqdm\n",
    "\n",
    "import warnings\n",
    "warnings.filterwarnings('ignore')\n",
    "\n",
    "import argparse\n",
    "import wandb\n",
    "from wandb.keras import WandbCallback\n",
    "wandb.init(project=\"DACON_235938\", name=\"baseline\")\n",
    "\n",
    "parser = argparse.ArgumentParser(description=\"baseline\")\n",
    "parser.add_argument('--feature_name', default=\"tokenized_stem\", type=str) # reviews or tokenized_stem\n",
    "parser.add_argument('--max_tokens', default=20000, type=int)\n",
    "parser.add_argument('--sequence_length', default=200, type=int)\n",
    "parser.add_argument('--embedding_dim', default=128, type=int)\n",
    "parser.add_argument('--optimizer', default=\"adam\", type=str) # adam or sgd\n",
    "parser.add_argument('--loss', default=\"cc\", type=str)\n",
    "parser.add_argument('--learning_rate', default=0.0003, type=float)\n",
    "parser.add_argument('--batch_size', default=128, type=int)\n",
    "parser.add_argument('--epochs', default=100, type=int)\n",
    "parser.add_argument('--validation_size', default=0.2, type=float)\n",
    "parser.add_argument('--seed', default=1011, type=int)\n",
    "args = parser.parse_args('')\n",
    "\n",
    "wandb.config.update(args)\n",
    "\n",
    "feature_name = args.feature_name\n",
    "max_tokens = args.max_tokens\n",
    "sequence_length = args.sequence_length\n",
    "embedding_dim = args.embedding_dim\n",
    "optimizer = args.optimizer\n",
    "loss = args.loss\n",
    "learning_rate = args.learning_rate\n",
    "BATCH_SIZE = args.batch_size\n",
    "EPOCHS = args.epochs\n",
    "validation_size = args.validation_size\n",
    "seed = args.seed\n",
    "\n",
    "def set_seeds(seed=seed):\n",
    "    os.environ['PYTHONHASHSEED'] = str(seed)\n",
    "    random.seed(seed)\n",
    "    np.random.seed(seed)\n",
    "    tf.random.set_seed(seed)\n",
    "\n",
    "set_seeds()\n",
    "\n",
    "train = pd.read_csv(\"data/train_okt.csv\")\n",
    "test = pd.read_csv(\"data/test_okt.csv\")\n",
    "\n",
    "train.shape, test.shape"
   ]
  },
  {
   "cell_type": "markdown",
   "metadata": {
    "id": "HMDbo5u0T70G"
   },
   "source": [
    "## Preprocessing"
   ]
  },
  {
   "cell_type": "code",
   "execution_count": 2,
   "metadata": {
    "colab": {
     "base_uri": "https://localhost:8080/"
    },
    "executionInfo": {
     "elapsed": 2,
     "status": "ok",
     "timestamp": 1657544126736,
     "user": {
      "displayName": "‍김태형[ 대학원석·박사통합과정재학 / 산업경영공학과 ]",
      "userId": "00288066936238655028"
     },
     "user_tz": -540
    },
    "id": "jQ5LqgelHxu6",
    "outputId": "8d939ab5-9f20-4ad1-b29d-ec9eee0645d1"
   },
   "outputs": [
    {
     "data": {
      "text/plain": [
       "5    10000\n",
       "2     8000\n",
       "1     4500\n",
       "4     2500\n",
       "Name: target, dtype: int64"
      ]
     },
     "execution_count": 2,
     "metadata": {},
     "output_type": "execute_result"
    }
   ],
   "source": [
    "X = train[feature_name]\n",
    "X_test = test[feature_name]\n",
    "y = train[\"target\"]\n",
    "\n",
    "y.value_counts()"
   ]
  },
  {
   "cell_type": "code",
   "execution_count": 3,
   "metadata": {},
   "outputs": [
    {
     "data": {
      "text/plain": [
       "{1: 0, 2: 1, 4: 2, 5: 3}"
      ]
     },
     "execution_count": 3,
     "metadata": {},
     "output_type": "execute_result"
    }
   ],
   "source": [
    "label_unique = sorted(np.unique(y))\n",
    "label_unique = {key : value for key, value in zip(label_unique, range(len(label_unique)))}\n",
    "y = np.array([label_unique[k] for k in y])\n",
    "\n",
    "label_unique"
   ]
  },
  {
   "cell_type": "code",
   "execution_count": 4,
   "metadata": {},
   "outputs": [
    {
     "data": {
      "image/png": "[encoded data removed]",
      "text/plain": [
       "<Figure size 432x288 with 1 Axes>"
      ]
     },
     "metadata": {
      "needs_background": "light"
     },
     "output_type": "display_data"
    },
    {
     "data": {
      "image/png": "[encoded data removed]",
      "text/plain": [
       "<Figure size 432x288 with 1 Axes>"
      ]
     },
     "metadata": {
      "needs_background": "light"
     },
     "output_type": "display_data"
    }
   ],
   "source": [
    "sns.histplot(X.apply(lambda x : len(x)))\n",
    "plt.title(\"train\")\n",
    "plt.show()\n",
    "sns.histplot(X_test.apply(lambda x : len(x)))\n",
    "plt.title(\"test\")\n",
    "plt.show()"
   ]
  },
  {
   "cell_type": "markdown",
   "metadata": {},
   "source": [
    "## Training"
   ]
  },
  {
   "cell_type": "code",
   "execution_count": 5,
   "metadata": {},
   "outputs": [],
   "source": [
    "X_train, X_val, y_train, y_val = train_test_split(\n",
    "    X, y, test_size=validation_size, random_state=seed, stratify=y\n",
    ")\n",
    "\n",
    "train_ds = (\n",
    "    tf.data.Dataset.from_tensor_slices((X_train, y_train))\n",
    "    .shuffle(len(X_train))\n",
    "    .batch(BATCH_SIZE)\n",
    "    .prefetch(tf.data.experimental.AUTOTUNE)\n",
    ")\n",
    "\n",
    "val_ds = (\n",
    "    tf.data.Dataset.from_tensor_slices((X_val, y_val))\n",
    "    .batch(BATCH_SIZE)\n",
    "    .prefetch(tf.data.experimental.AUTOTUNE)\n",
    ")"
   ]
  },
  {
   "cell_type": "code",
   "execution_count": 6,
   "metadata": {},
   "outputs": [
    {
     "name": "stdout",
     "output_type": "stream",
     "text": [
      "Model: \"model\"\n",
      "_________________________________________________________________\n",
      " Layer (type)                Output Shape              Param #   \n",
      "=================================================================\n",
      " input_1 (InputLayer)        [(None, 1)]               0         \n",
      "                                                                 \n",
      " text_vectorization (TextVec  (None, 200)              0         \n",
      " torization)                                                     \n",
      "                                                                 \n",
      " embedding (Embedding)       (None, 200, 128)          2560128   \n",
      "                                                                 \n",
      " conv1d (Conv1D)             (None, 196, 128)          82048     \n",
      "                                                                 \n",
      " conv1d_1 (Conv1D)           (None, 192, 128)          82048     \n",
      "                                                                 \n",
      " max_pooling1d (MaxPooling1D  (None, 96, 128)          0         \n",
      " )                                                               \n",
      "                                                                 \n",
      " conv1d_2 (Conv1D)           (None, 94, 128)           49280     \n",
      "                                                                 \n",
      " conv1d_3 (Conv1D)           (None, 92, 128)           49280     \n",
      "                                                                 \n",
      " max_pooling1d_1 (MaxPooling  (None, 46, 128)          0         \n",
      " 1D)                                                             \n",
      "                                                                 \n",
      " bidirectional (Bidirectiona  (None, 46, 128)          98816     \n",
      " l)                                                              \n",
      "                                                                 \n",
      " bidirectional_1 (Bidirectio  (None, 128)              98816     \n",
      " nal)                                                            \n",
      "                                                                 \n",
      " dense (Dense)               (None, 32)                4128      \n",
      "                                                                 \n",
      " dropout (Dropout)           (None, 32)                0         \n",
      "                                                                 \n",
      " dense_1 (Dense)             (None, 4)                 132       \n",
      "                                                                 \n",
      "=================================================================\n",
      "Total params: 3,024,676\n",
      "Trainable params: 3,024,676\n",
      "Non-trainable params: 0\n",
      "_________________________________________________________________\n"
     ]
    }
   ],
   "source": [
    "inp = tf.keras.Input(shape=(1,), dtype=\"string\")\n",
    "\n",
    "vectorize_layer = layers.TextVectorization(\n",
    "    max_tokens=max_tokens, output_mode=\"int\", output_sequence_length=sequence_length\n",
    ")\n",
    "vectorize_layer.adapt(X)\n",
    "    \n",
    "x = vectorize_layer(inp)\n",
    "x = layers.Embedding(\n",
    "    max_tokens+1, embedding_dim, input_length=sequence_length\n",
    ")(x)\n",
    "\n",
    "x = layers.Conv1D(128, 5, 1, padding=\"valid\", activation=\"relu\")(x)\n",
    "x = layers.Conv1D(128, 5, 1, padding=\"valid\", activation=\"relu\")(x)\n",
    "x = layers.MaxPooling1D()(x)\n",
    "x = layers.Conv1D(128, 3, 1, padding=\"valid\", activation=\"relu\")(x)\n",
    "x = layers.Conv1D(128, 3, 1, padding=\"valid\", activation=\"relu\")(x)\n",
    "x = layers.MaxPooling1D()(x)\n",
    "\n",
    "x = layers.Bidirectional(layers.LSTM(64, return_sequences=True))(x)\n",
    "x = layers.Bidirectional(layers.LSTM(64))(x)\n",
    "\n",
    "x = layers.Dense(32, activation=\"relu\")(x)\n",
    "x = layers.Dropout(0.5)(x)\n",
    "\n",
    "oup = layers.Dense(4, activation=\"softmax\")(x)\n",
    "\n",
    "model = tf.keras.Model(inputs=inp, outputs=oup)\n",
    "model.summary()"
   ]
  },
  {
   "cell_type": "code",
   "execution_count": 7,
   "metadata": {},
   "outputs": [
    {
     "name": "stdout",
     "output_type": "stream",
     "text": [
      "Epoch 1/100\n",
      "157/157 [==============================] - ETA: 0s - loss: 1.2616 - accuracy: 0.4334"
     ]
    },
    {
     "name": "stderr",
     "output_type": "stream",
     "text": [
      "\u001b[34m\u001b[1mwandb\u001b[0m: \u001b[32m\u001b[41mERROR\u001b[0m Can't save model, h5py returned error: Save or restore weights that is not an instance of `tf.Variable` is not supported in h5, use `save_format='tf'` instead. Received a model or layer TextVectorization with weights [<keras.layers.preprocessing.index_lookup.VocabWeightHandler object at 0x0000024A24935A30>]\n"
     ]
    },
    {
     "name": "stdout",
     "output_type": "stream",
     "text": [
      "157/157 [==============================] - 24s 75ms/step - loss: 1.2616 - accuracy: 0.4334 - val_loss: 1.0588 - val_accuracy: 0.5720 - _timestamp: 1659180801.0000 - _runtime: 48.0000\n",
      "Epoch 2/100\n",
      "157/157 [==============================] - 9s 60ms/step - loss: 1.0032 - accuracy: 0.6047 - val_loss: 0.9143 - val_accuracy: 0.6218 - _timestamp: 1659180811.0000 - _runtime: 58.0000\n",
      "Epoch 3/100\n",
      "157/157 [==============================] - 9s 60ms/step - loss: 0.8655 - accuracy: 0.6472 - val_loss: 0.8967 - val_accuracy: 0.6324 - _timestamp: 1659180820.0000 - _runtime: 67.0000\n",
      "Epoch 4/100\n",
      "157/157 [==============================] - 9s 59ms/step - loss: 0.7946 - accuracy: 0.6691 - val_loss: 0.9148 - val_accuracy: 0.6222 - _timestamp: 1659180830.0000 - _runtime: 77.0000\n",
      "Epoch 5/100\n",
      "157/157 [==============================] - 9s 60ms/step - loss: 0.7398 - accuracy: 0.6905 - val_loss: 0.9406 - val_accuracy: 0.6184 - _timestamp: 1659180839.0000 - _runtime: 86.0000\n",
      "Epoch 6/100\n",
      "157/157 [==============================] - 9s 59ms/step - loss: 0.7166 - accuracy: 0.7056 - val_loss: 0.9380 - val_accuracy: 0.6160 - _timestamp: 1659180848.0000 - _runtime: 95.0000\n",
      "Epoch 7/100\n",
      "157/157 [==============================] - 9s 58ms/step - loss: 0.7048 - accuracy: 0.7115 - val_loss: 0.9387 - val_accuracy: 0.6152 - _timestamp: 1659180858.0000 - _runtime: 105.0000\n",
      "Epoch 8/100\n",
      "157/157 [==============================] - 9s 59ms/step - loss: 0.7077 - accuracy: 0.7103 - val_loss: 0.9387 - val_accuracy: 0.6152 - _timestamp: 1659180867.0000 - _runtime: 114.0000\n"
     ]
    }
   ],
   "source": [
    "lr = tf.keras.optimizers.schedules.CosineDecay(learning_rate, decay_steps=1000)\n",
    "if optimizer == \"adam\":\n",
    "    optim = tf.keras.optimizers.Adam(learning_rate=lr)\n",
    "if loss == \"cc\":\n",
    "    loss_function = tf.keras.losses.SparseCategoricalCrossentropy()\n",
    "    \n",
    "model.compile(\n",
    "    optimizer=optim,\n",
    "    loss=loss_function,\n",
    "    metrics=[\"accuracy\"]\n",
    ")\n",
    "\n",
    "checkpoint_filepath=f\"load_model/{parser.description}\"\n",
    "\n",
    "checkpoint_callback = [\n",
    "    tf.keras.callbacks.EarlyStopping(\n",
    "        monitor='val_loss',\n",
    "        patience=5,\n",
    "        restore_best_weights=True,\n",
    "    ),\n",
    "    tf.keras.callbacks.ModelCheckpoint(\n",
    "        checkpoint_filepath,\n",
    "        monitor=\"val_loss\",\n",
    "        save_best_only=True,\n",
    "        save_weights_only=True\n",
    "    )\n",
    "]\n",
    "\n",
    "history = model.fit(\n",
    "    train_ds,\n",
    "    validation_data=val_ds,\n",
    "    epochs=EPOCHS,\n",
    "    callbacks=[checkpoint_callback, WandbCallback()],\n",
    ")"
   ]
  },
  {
   "cell_type": "code",
   "execution_count": 8,
   "metadata": {},
   "outputs": [
    {
     "data": {
      "text/plain": [
       "<tensorflow.python.training.tracking.util.CheckpointLoadStatus at 0x24a248e8d30>"
      ]
     },
     "execution_count": 8,
     "metadata": {},
     "output_type": "execute_result"
    }
   ],
   "source": [
    "model.load_weights(checkpoint_filepath)"
   ]
  },
  {
   "cell_type": "markdown",
   "metadata": {},
   "source": [
    "## Inference"
   ]
  },
  {
   "cell_type": "code",
   "execution_count": 9,
   "metadata": {},
   "outputs": [],
   "source": [
    "test_ds = (\n",
    "    tf.data.Dataset.from_tensor_slices(X_test)\n",
    "    .batch(BATCH_SIZE)\n",
    "    .prefetch(tf.data.experimental.AUTOTUNE)\n",
    ")"
   ]
  },
  {
   "cell_type": "code",
   "execution_count": 10,
   "metadata": {},
   "outputs": [
    {
     "data": {
      "text/plain": [
       "2    12982\n",
       "5    12017\n",
       "4        1\n",
       "dtype: int64"
      ]
     },
     "execution_count": 10,
     "metadata": {},
     "output_type": "execute_result"
    }
   ],
   "source": [
    "pred_prob = model.predict(test_ds)\n",
    "pred = np.argmax(pred_prob, axis=1)\n",
    "\n",
    "label_decoder = {val : key for key, val in label_unique.items()}\n",
    "result = [label_decoder[result] for result in pred]\n",
    "\n",
    "pd.Series(result).value_counts()"
   ]
  },
  {
   "cell_type": "code",
   "execution_count": 11,
   "metadata": {},
   "outputs": [],
   "source": [
    "submission = pd.read_csv(\"data/sample_submission.csv\")\n",
    "submission[\"target\"] = result\n",
    "submission.to_csv(\"submission.csv\",index=False)"
   ]
  }
 ],
 "metadata": {
  "accelerator": "GPU",
  "colab": {
   "authorship_tag": "ABX9TyNxhZ4WlBxRQalLoRYdovMF",
   "collapsed_sections": [],
   "mount_file_id": "1Il8yoi9AmIkQYHgr0Cm5eAR0SGnYCtl3",
   "name": "0-Tutorial.ipynb",
   "provenance": []
  },
  "gpuClass": "standard",
  "kernelspec": {
   "display_name": "Python 3 (ipykernel)",
   "language": "python",
   "name": "python3"
  },
  "language_info": {
   "codemirror_mode": {
    "name": "ipython",
    "version": 3
   },
   "file_extension": ".py",
   "mimetype": "text/x-python",
   "name": "python",
   "nbconvert_exporter": "python",
   "pygments_lexer": "ipython3",
   "version": "3.8.0"
  }
 },
 "nbformat": 4,
 "nbformat_minor": 4
}
