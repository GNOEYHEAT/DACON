{
 "cells": [
  {
   "cell_type": "markdown",
   "metadata": {
    "id": "6CRpCP5SF6g3"
   },
   "source": [
    "# Tutorial"
   ]
  },
  {
   "cell_type": "code",
   "execution_count": 1,
   "metadata": {
    "colab": {
     "base_uri": "https://localhost:8080/",
     "height": 308
    },
    "executionInfo": {
     "elapsed": 4781,
     "status": "ok",
     "timestamp": 1657544121777,
     "user": {
      "displayName": "‍김태형[ 대학원석·박사통합과정재학 / 산업경영공학과 ]",
      "userId": "00288066936238655028"
     },
     "user_tz": -540
    },
    "id": "2YmGiYMSGG-8",
    "outputId": "c126c9a2-a579-4279-dd7a-f1c4fcb3e6d6"
   },
   "outputs": [
    {
     "name": "stderr",
     "output_type": "stream",
     "text": [
      "\u001b[34m\u001b[1mwandb\u001b[0m: Currently logged in as: \u001b[33mgnoeyheat\u001b[0m (use `wandb login --relogin` to force relogin)\n"
     ]
    },
    {
     "data": {
      "text/html": [
       "wandb version 0.12.21 is available!  To upgrade, please run:\n",
       " $ pip install wandb --upgrade"
      ],
      "text/plain": [
       "<IPython.core.display.HTML object>"
      ]
     },
     "metadata": {},
     "output_type": "display_data"
    },
    {
     "data": {
      "text/html": [
       "Tracking run with wandb version 0.12.14"
      ],
      "text/plain": [
       "<IPython.core.display.HTML object>"
      ]
     },
     "metadata": {},
     "output_type": "display_data"
    },
    {
     "data": {
      "text/html": [
       "Run data is saved locally in <code>C:\\Users\\Taehyeong\\_DACON\\DACON_235938\\wandb\\run-20220730_135254-2ssxjrcf</code>"
      ],
      "text/plain": [
       "<IPython.core.display.HTML object>"
      ]
     },
     "metadata": {},
     "output_type": "display_data"
    },
    {
     "data": {
      "text/html": [
       "Syncing run <strong><a href=\"https://wandb.ai/gnoeyheat/DACON_235938/runs/2ssxjrcf\" target=\"_blank\">tutorial</a></strong> to <a href=\"https://wandb.ai/gnoeyheat/DACON_235938\" target=\"_blank\">Weights & Biases</a> (<a href=\"https://wandb.me/run\" target=\"_blank\">docs</a>)<br/>"
      ],
      "text/plain": [
       "<IPython.core.display.HTML object>"
      ]
     },
     "metadata": {},
     "output_type": "display_data"
    },
    {
     "data": {
      "text/html": [
       "<div>\n",
       "<style scoped>\n",
       "    .dataframe tbody tr th:only-of-type {\n",
       "        vertical-align: middle;\n",
       "    }\n",
       "\n",
       "    .dataframe tbody tr th {\n",
       "        vertical-align: top;\n",
       "    }\n",
       "\n",
       "    .dataframe thead th {\n",
       "        text-align: right;\n",
       "    }\n",
       "</style>\n",
       "<table border=\"1\" class=\"dataframe\">\n",
       "  <thead>\n",
       "    <tr style=\"text-align: right;\">\n",
       "      <th></th>\n",
       "      <th>id</th>\n",
       "      <th>reviews</th>\n",
       "      <th>target</th>\n",
       "      <th>tokenized_stem</th>\n",
       "      <th>main_pos</th>\n",
       "    </tr>\n",
       "  </thead>\n",
       "  <tbody>\n",
       "    <tr>\n",
       "      <th>0</th>\n",
       "      <td>0</td>\n",
       "      <td>조아요 처음구입 싸게햇어요</td>\n",
       "      <td>2</td>\n",
       "      <td>조아요 처음 구입 싸게 햇 어 요</td>\n",
       "      <td>조아요 처음 구입 싸게 햇 요</td>\n",
       "    </tr>\n",
       "    <tr>\n",
       "      <th>1</th>\n",
       "      <td>1</td>\n",
       "      <td>생각보다 잘 안돼요 매지 바른지 하루밖에 안됐는데ㅠㅠ 25천원가량 주고 사기 너무 ...</td>\n",
       "      <td>1</td>\n",
       "      <td>생각 보다 잘 안 돼요 매지 바른지 하루 밖에 안 됐는데 ㅠㅠ 25천원 가량 주고 ...</td>\n",
       "      <td>생각 보다 잘 안 돼요 매지 바른지 하루 안 됐는데 ㅠㅠ 25천원 가량 주고 사기 ...</td>\n",
       "    </tr>\n",
       "    <tr>\n",
       "      <th>2</th>\n",
       "      <td>2</td>\n",
       "      <td>디자인은괜찮은데 상품이 금이가서 교환했는데 두번째받은상품도 까져있고 안쪽에 금이가져...</td>\n",
       "      <td>2</td>\n",
       "      <td>디자인 은 괜찮은데 상품 이 금 이 가서 교환 했는데 두번째 받은 상품 도 까져있고...</td>\n",
       "      <td>디자인 은 괜찮은데 상품 이 금 이 가서 교환 했는데 두번째 받은 상품 도 까져있고...</td>\n",
       "    </tr>\n",
       "    <tr>\n",
       "      <th>3</th>\n",
       "      <td>3</td>\n",
       "      <td>기전에 이 제품말고 이마트 트레이더스에서만 팔던 프리미엄 제품을 사용했었습니다. 샘...</td>\n",
       "      <td>2</td>\n",
       "      <td>기전 에 이 제품 말고 이마트 트 레이더스 에서만 팔던 프리미엄 제품 을 사용 했었...</td>\n",
       "      <td>기전 이 제품 이마트 트 레이더스 팔던 프리미엄 제품 사용 했었습니다 샘플 써 보고...</td>\n",
       "    </tr>\n",
       "    <tr>\n",
       "      <th>4</th>\n",
       "      <td>4</td>\n",
       "      <td>튼튼하고 손목을 잘 받쳐주네요~</td>\n",
       "      <td>5</td>\n",
       "      <td>튼튼하고 손목 을 잘 받쳐주네요 ~</td>\n",
       "      <td>튼튼하고 손목 잘 받쳐주네요</td>\n",
       "    </tr>\n",
       "  </tbody>\n",
       "</table>\n",
       "</div>"
      ],
      "text/plain": [
       "   id                                            reviews  target  \\\n",
       "0   0                                     조아요 처음구입 싸게햇어요       2   \n",
       "1   1  생각보다 잘 안돼요 매지 바른지 하루밖에 안됐는데ㅠㅠ 25천원가량 주고 사기 너무 ...       1   \n",
       "2   2  디자인은괜찮은데 상품이 금이가서 교환했는데 두번째받은상품도 까져있고 안쪽에 금이가져...       2   \n",
       "3   3  기전에 이 제품말고 이마트 트레이더스에서만 팔던 프리미엄 제품을 사용했었습니다. 샘...       2   \n",
       "4   4                                  튼튼하고 손목을 잘 받쳐주네요~       5   \n",
       "\n",
       "                                      tokenized_stem  \\\n",
       "0                                 조아요 처음 구입 싸게 햇 어 요   \n",
       "1  생각 보다 잘 안 돼요 매지 바른지 하루 밖에 안 됐는데 ㅠㅠ 25천원 가량 주고 ...   \n",
       "2  디자인 은 괜찮은데 상품 이 금 이 가서 교환 했는데 두번째 받은 상품 도 까져있고...   \n",
       "3  기전 에 이 제품 말고 이마트 트 레이더스 에서만 팔던 프리미엄 제품 을 사용 했었...   \n",
       "4                                튼튼하고 손목 을 잘 받쳐주네요 ~   \n",
       "\n",
       "                                            main_pos  \n",
       "0                                   조아요 처음 구입 싸게 햇 요  \n",
       "1  생각 보다 잘 안 돼요 매지 바른지 하루 안 됐는데 ㅠㅠ 25천원 가량 주고 사기 ...  \n",
       "2  디자인 은 괜찮은데 상품 이 금 이 가서 교환 했는데 두번째 받은 상품 도 까져있고...  \n",
       "3  기전 이 제품 이마트 트 레이더스 팔던 프리미엄 제품 사용 했었습니다 샘플 써 보고...  \n",
       "4                                    튼튼하고 손목 잘 받쳐주네요  "
      ]
     },
     "execution_count": 1,
     "metadata": {},
     "output_type": "execute_result"
    }
   ],
   "source": [
    "import os\n",
    "import random\n",
    "import numpy as np\n",
    "import pandas as pd\n",
    "import matplotlib.pyplot as plt\n",
    "import seaborn as sns\n",
    "%matplotlib inline\n",
    "\n",
    "from sklearn.feature_extraction.text import CountVectorizer, HashingVectorizer, TfidfVectorizer\n",
    "from sklearn.model_selection import train_test_split\n",
    "from sklearn.linear_model import LogisticRegression\n",
    "from sklearn.metrics import accuracy_score\n",
    "\n",
    "from konlpy.tag import Okt\n",
    "\n",
    "import re\n",
    "from tqdm import tqdm\n",
    "\n",
    "import warnings\n",
    "warnings.filterwarnings('ignore')\n",
    "\n",
    "import argparse\n",
    "import wandb\n",
    "wandb.init(project=\"DACON_235938\", name=\"tutorial\")\n",
    "\n",
    "parser = argparse.ArgumentParser(description=\"tutorial\")\n",
    "parser.add_argument('--vectorizer', default=\"tfidf\", type=str) # count or hashing or tfidf\n",
    "parser.add_argument('--feature_name', default=\"tokenized_stem\", type=str) # reviews or tokenized_stem or main_pos\n",
    "parser.add_argument('--max_features', default=None, type=int)\n",
    "parser.add_argument('--validation_size', default=0.2, type=float)\n",
    "parser.add_argument('--seed', default=1011, type=int)\n",
    "args = parser.parse_args('')\n",
    "\n",
    "wandb.config.update(args)\n",
    "\n",
    "vectorizer = args.vectorizer\n",
    "feature_name = args.feature_name\n",
    "max_features = args.max_features\n",
    "validation_size = args.validation_size\n",
    "seed = args.seed\n",
    "\n",
    "def set_seeds(seed=seed):\n",
    "    os.environ['PYTHONHASHSEED'] = str(seed)\n",
    "    random.seed(seed)\n",
    "    np.random.seed(seed)\n",
    "\n",
    "set_seeds()\n",
    "\n",
    "train = pd.read_csv(\"data/train_okt.csv\")\n",
    "test = pd.read_csv(\"data/test_okt.csv\")\n",
    "\n",
    "train.head()"
   ]
  },
  {
   "cell_type": "code",
   "execution_count": 2,
   "metadata": {
    "colab": {
     "base_uri": "https://localhost:8080/"
    },
    "executionInfo": {
     "elapsed": 293,
     "status": "ok",
     "timestamp": 1657544125386,
     "user": {
      "displayName": "‍김태형[ 대학원석·박사통합과정재학 / 산업경영공학과 ]",
      "userId": "00288066936238655028"
     },
     "user_tz": -540
    },
    "id": "vZvynu18GDkJ",
    "outputId": "bb556aa7-1fc0-4a41-bb17-d4b83bbe1f75"
   },
   "outputs": [
    {
     "name": "stdout",
     "output_type": "stream",
     "text": [
      "<class 'pandas.core.frame.DataFrame'>\n",
      "RangeIndex: 25000 entries, 0 to 24999\n",
      "Data columns (total 5 columns):\n",
      " #   Column          Non-Null Count  Dtype \n",
      "---  ------          --------------  ----- \n",
      " 0   id              25000 non-null  int64 \n",
      " 1   reviews         25000 non-null  object\n",
      " 2   target          25000 non-null  int64 \n",
      " 3   tokenized_stem  25000 non-null  object\n",
      " 4   main_pos        24996 non-null  object\n",
      "dtypes: int64(2), object(3)\n",
      "memory usage: 976.7+ KB\n"
     ]
    }
   ],
   "source": [
    "train.info()"
   ]
  },
  {
   "cell_type": "code",
   "execution_count": 3,
   "metadata": {},
   "outputs": [
    {
     "name": "stdout",
     "output_type": "stream",
     "text": [
      "<class 'pandas.core.frame.DataFrame'>\n",
      "RangeIndex: 25000 entries, 0 to 24999\n",
      "Data columns (total 4 columns):\n",
      " #   Column          Non-Null Count  Dtype \n",
      "---  ------          --------------  ----- \n",
      " 0   id              25000 non-null  int64 \n",
      " 1   reviews         25000 non-null  object\n",
      " 2   tokenized_stem  25000 non-null  object\n",
      " 3   main_pos        24998 non-null  object\n",
      "dtypes: int64(1), object(3)\n",
      "memory usage: 781.4+ KB\n"
     ]
    }
   ],
   "source": [
    "test.info()"
   ]
  },
  {
   "cell_type": "code",
   "execution_count": 4,
   "metadata": {},
   "outputs": [],
   "source": [
    "# okt=Okt()\n",
    "\n",
    "# def token(dataframe):\n",
    "#     tokenized = []\n",
    "#     for sentence in tqdm(dataframe['reviews']):\n",
    "#         tokens = okt.morphs(sentence)\n",
    "#         tokenize = \" \".join(tokens)\n",
    "#         tokenized.append(tokenize)\n",
    "#         dataframe[\"tokenized_stem\"] = pd.DataFrame(tokenized)\n",
    "\n",
    "# def postagging(dataframe):\n",
    "#     main_pos = []\n",
    "#     for sentence in tqdm(dataframe['tokenized_stem']):\n",
    "#         pos = okt.pos(sentence)\n",
    "#         main_words = [\n",
    "#             word_pos[0] for word_pos in pos if word_pos[1] in (\n",
    "#                 'Adjective',\n",
    "#                 'Noun',\n",
    "#                 'Adjective',\n",
    "#                 'Verb',\n",
    "#                 'Number',\n",
    "#                 'KoreanParticle'\n",
    "#             )\n",
    "#         ]\n",
    "#         main_words_str = \" \".join(main_words)\n",
    "#         main_pos.append(main_words_str)\n",
    "#         dataframe[\"main_pos\"] = pd.DataFrame(main_pos)\n",
    "\n",
    "\n",
    "# token(train)\n",
    "# token(test)\n",
    "\n",
    "# postagging(train)\n",
    "# postagging(test)\n",
    "\n",
    "# train.to_csv(\"train_okt.csv\", index=False)\n",
    "# test.to_csv(\"test_okt.csv\", index=False)\n",
    "\n",
    "# train.head()"
   ]
  },
  {
   "cell_type": "markdown",
   "metadata": {
    "id": "HMDbo5u0T70G"
   },
   "source": [
    "## Preprocessing"
   ]
  },
  {
   "cell_type": "code",
   "execution_count": 5,
   "metadata": {
    "colab": {
     "base_uri": "https://localhost:8080/"
    },
    "executionInfo": {
     "elapsed": 2,
     "status": "ok",
     "timestamp": 1657544126736,
     "user": {
      "displayName": "‍김태형[ 대학원석·박사통합과정재학 / 산업경영공학과 ]",
      "userId": "00288066936238655028"
     },
     "user_tz": -540
    },
    "id": "jQ5LqgelHxu6",
    "outputId": "8d939ab5-9f20-4ad1-b29d-ec9eee0645d1"
   },
   "outputs": [
    {
     "data": {
      "text/plain": [
       "5    10000\n",
       "2     8000\n",
       "1     4500\n",
       "4     2500\n",
       "Name: target, dtype: int64"
      ]
     },
     "execution_count": 5,
     "metadata": {},
     "output_type": "execute_result"
    }
   ],
   "source": [
    "y = train[\"target\"]\n",
    "\n",
    "y.value_counts()"
   ]
  },
  {
   "cell_type": "code",
   "execution_count": 6,
   "metadata": {
    "id": "VrAS0G3rIA3P"
   },
   "outputs": [
    {
     "data": {
      "text/plain": [
       "((25000, 33414), (25000, 33414))"
      ]
     },
     "execution_count": 6,
     "metadata": {},
     "output_type": "execute_result"
    }
   ],
   "source": [
    "if vectorizer == \"count\":\n",
    "    vec = CountVectorizer(max_features=max_features)\n",
    "if vectorizer == \"hashing\":\n",
    "    vec = HashingVectorizer()\n",
    "if vectorizer == \"tfidf\":\n",
    "    vec = TfidfVectorizer(max_features=max_features)\n",
    "\n",
    "X = vec.fit_transform(train[feature_name])\n",
    "X_test = vec.transform(test[feature_name])\n",
    "\n",
    "X.shape, X_test.shape"
   ]
  },
  {
   "cell_type": "markdown",
   "metadata": {
    "id": "iHQcEMXFVSvH"
   },
   "source": [
    "## Training"
   ]
  },
  {
   "cell_type": "code",
   "execution_count": 7,
   "metadata": {
    "id": "LcXdhX68ICWk"
   },
   "outputs": [
    {
     "name": "stdout",
     "output_type": "stream",
     "text": [
      "val_acc : 0.6488\n"
     ]
    }
   ],
   "source": [
    "X_train, X_val, y_train, y_val = train_test_split(\n",
    "    X, y, test_size=validation_size, random_state=seed, stratify=y\n",
    ")\n",
    "\n",
    "model = LogisticRegression(solver=\"liblinear\", random_state=seed, n_jobs=-1) \n",
    "model.fit(X_train, y_train)\n",
    "y_pred = model.predict(X_val)\n",
    "   \n",
    "val_acc = accuracy_score(y_val, y_pred)\n",
    "print(f\"val_acc : {val_acc}\")\n",
    "wandb.log({\"val_acc\": val_acc})"
   ]
  },
  {
   "cell_type": "code",
   "execution_count": 8,
   "metadata": {},
   "outputs": [
    {
     "data": {
      "text/plain": [
       "5    12518\n",
       "2    10529\n",
       "1     1838\n",
       "4      115\n",
       "dtype: int64"
      ]
     },
     "execution_count": 8,
     "metadata": {},
     "output_type": "execute_result"
    }
   ],
   "source": [
    "model = LogisticRegression(solver=\"liblinear\", random_state=seed, n_jobs=-1) \n",
    "model.fit(X, y)\n",
    "prediction = model.predict(X_test)\n",
    "\n",
    "pd.Series(prediction).value_counts()"
   ]
  },
  {
   "cell_type": "markdown",
   "metadata": {},
   "source": [
    "## Inference"
   ]
  },
  {
   "cell_type": "code",
   "execution_count": 9,
   "metadata": {},
   "outputs": [],
   "source": [
    "submission = pd.read_csv(\"data/sample_submission.csv\")\n",
    "submission[\"target\"] = prediction\n",
    "submission.to_csv(\"submission.csv\", index=False)"
   ]
  }
 ],
 "metadata": {
  "accelerator": "GPU",
  "colab": {
   "authorship_tag": "ABX9TyNxhZ4WlBxRQalLoRYdovMF",
   "collapsed_sections": [],
   "mount_file_id": "1Il8yoi9AmIkQYHgr0Cm5eAR0SGnYCtl3",
   "name": "0-Tutorial.ipynb",
   "provenance": []
  },
  "gpuClass": "standard",
  "kernelspec": {
   "display_name": "Python 3 (ipykernel)",
   "language": "python",
   "name": "python3"
  },
  "language_info": {
   "codemirror_mode": {
    "name": "ipython",
    "version": 3
   },
   "file_extension": ".py",
   "mimetype": "text/x-python",
   "name": "python",
   "nbconvert_exporter": "python",
   "pygments_lexer": "ipython3",
   "version": "3.8.0"
  }
 },
 "nbformat": 4,
 "nbformat_minor": 4
}
