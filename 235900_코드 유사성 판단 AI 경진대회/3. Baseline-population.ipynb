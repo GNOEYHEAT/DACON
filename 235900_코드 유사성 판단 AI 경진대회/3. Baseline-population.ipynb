{
 "cells": [
  {
   "cell_type": "markdown",
   "metadata": {
    "tags": []
   },
   "source": [
    "# Baseline-population"
   ]
  },
  {
   "cell_type": "code",
   "execution_count": 1,
   "metadata": {
    "colab": {
     "base_uri": "https://localhost:8080/"
    },
    "executionInfo": {
     "elapsed": 112690,
     "status": "ok",
     "timestamp": 1645972270802,
     "user": {
      "displayName": "‍김태형[ 대학원석·박사통합과정재학 / 산업경영공학과 ]",
      "photoUrl": "https://lh3.googleusercontent.com/a-/AOh14GjFNpnkjN-Em0rOki5hhy0HR7yGAbxSpzCjHV0A=s64",
      "userId": "00288066936238655028"
     },
     "user_tz": -540
    },
    "id": "A1IbqGhzB7fy",
    "outputId": "fd656f36-afcb-4871-ee1c-557fd033af76"
   },
   "outputs": [
    {
     "name": "stderr",
     "output_type": "stream",
     "text": [
      "\u001b[34m\u001b[1mwandb\u001b[0m: Currently logged in as: \u001b[33mgnoeyheat\u001b[0m (use `wandb login --relogin` to force relogin)\n"
     ]
    },
    {
     "data": {
      "text/html": [
       "wandb version 0.12.18 is available!  To upgrade, please run:\n",
       " $ pip install wandb --upgrade"
      ],
      "text/plain": [
       "<IPython.core.display.HTML object>"
      ]
     },
     "metadata": {},
     "output_type": "display_data"
    },
    {
     "data": {
      "text/html": [
       "Tracking run with wandb version 0.12.11"
      ],
      "text/plain": [
       "<IPython.core.display.HTML object>"
      ]
     },
     "metadata": {},
     "output_type": "display_data"
    },
    {
     "data": {
      "text/html": [
       "Run data is saved locally in <code>C:\\Users\\Taehyeong\\_DACON\\DACON_235900\\wandb\\run-20220610_140854-2mgg6mya</code>"
      ],
      "text/plain": [
       "<IPython.core.display.HTML object>"
      ]
     },
     "metadata": {},
     "output_type": "display_data"
    },
    {
     "data": {
      "text/html": [
       "Syncing run <strong><a href=\"https://wandb.ai/gnoeyheat/DACON_235900/runs/2mgg6mya\" target=\"_blank\">Baseline-population</a></strong> to <a href=\"https://wandb.ai/gnoeyheat/DACON_235900\" target=\"_blank\">Weights & Biases</a> (<a href=\"https://wandb.me/run\" target=\"_blank\">docs</a>)<br/>"
      ],
      "text/plain": [
       "<IPython.core.display.HTML object>"
      ]
     },
     "metadata": {},
     "output_type": "display_data"
    }
   ],
   "source": [
    "import os\n",
    "import random\n",
    "import numpy as np\n",
    "import pandas as pd\n",
    "import matplotlib.pyplot as plt\n",
    "import seaborn as sns\n",
    "\n",
    "from sklearn.model_selection import train_test_split, StratifiedKFold\n",
    "\n",
    "import tensorflow as tf\n",
    "from tensorflow.keras import layers\n",
    "import tensorflow_addons as tfa\n",
    "\n",
    "import transformers\n",
    "from transformers import AutoTokenizer\n",
    "transformers.logging.set_verbosity_error()\n",
    "\n",
    "import re\n",
    "from tqdm import tqdm\n",
    "\n",
    "import argparse\n",
    "import wandb\n",
    "from wandb.keras import WandbCallback\n",
    "wandb.init(project=\"DACON_235900\", name=\"Baseline-population\")\n",
    "\n",
    "parser = argparse.ArgumentParser(description='Baseline-population')\n",
    "parser.add_argument('--pretrained_model', default=\"bert\", type=str)\n",
    "parser.add_argument('--max_length', default=256, type=int)\n",
    "parser.add_argument('--optimizer', default=\"sgd\", type=str) # sgd or adam\n",
    "parser.add_argument('--learning_rate', default=0.01, type=float)\n",
    "parser.add_argument('--batch_size', default=32, type=int)\n",
    "parser.add_argument('--epochs', default=100, type=int)\n",
    "parser.add_argument('--seed', default=1011, type=int)\n",
    "args = parser.parse_args('')\n",
    "\n",
    "wandb.config.update(args)\n",
    "\n",
    "if args.pretrained_model == \"bert\":\n",
    "    pretrained_model = \"bert-base-uncased\"\n",
    "elif args.pretrained_model == \"codebert\":\n",
    "    pretrained_model = \"microsoft/graphcodebert-base\"\n",
    "    \n",
    "tokenizer = AutoTokenizer.from_pretrained(pretrained_model, do_lower_case=True)\n",
    "tokenizer.truncation_side='left'\n",
    "\n",
    "MAX_LENGTH = args.max_length\n",
    "BATCH_SIZE=args.batch_size\n",
    "EPOCHS=args.epochs\n",
    "SEED=args.seed\n",
    "\n",
    "def set_seeds(seed=SEED):\n",
    "    os.environ['PYTHONHASHSEED'] = str(seed)\n",
    "    random.seed(seed)\n",
    "    np.random.seed(seed)\n",
    "    tf.random.set_seed(seed)\n",
    "\n",
    "set_seeds()"
   ]
  },
  {
   "cell_type": "markdown",
   "metadata": {},
   "source": [
    "## Preprocessing"
   ]
  },
  {
   "cell_type": "code",
   "execution_count": 2,
   "metadata": {},
   "outputs": [
    {
     "data": {
      "text/plain": [
       "((42431, 3), (2547, 3), (179700, 3))"
      ]
     },
     "execution_count": 2,
     "metadata": {},
     "output_type": "execute_result"
    }
   ],
   "source": [
    "train = pd.read_csv(f\"data/train_{args.pretrained_model}.csv\").dropna().sample(frac=0.01)\n",
    "valid = pd.read_csv(f\"data/valid_{args.pretrained_model}.csv\").dropna().sample(frac=0.01)\n",
    "test = pd.read_csv(\"data/test.csv\")\n",
    "\n",
    "train.shape, valid.shape, test.shape"
   ]
  },
  {
   "cell_type": "markdown",
   "metadata": {},
   "source": [
    "## Modelling"
   ]
  },
  {
   "cell_type": "code",
   "execution_count": 3,
   "metadata": {},
   "outputs": [],
   "source": [
    "class BertSemanticDataGenerator(tf.keras.utils.Sequence):\n",
    "    \n",
    "    def __init__(\n",
    "        self,\n",
    "        sentence_pairs,\n",
    "        labels=[0, 1],\n",
    "        batch_size=BATCH_SIZE,\n",
    "        shuffle=True,\n",
    "        include_targets=True,\n",
    "    ):\n",
    "        self.sentence_pairs = sentence_pairs\n",
    "        self.labels = labels\n",
    "        self.shuffle = shuffle\n",
    "        self.batch_size = batch_size\n",
    "        self.include_targets = include_targets\n",
    "        self.tokenizer = tokenizer\n",
    "        self.indexes = np.arange(len(self.sentence_pairs))\n",
    "        self.on_epoch_end()\n",
    "\n",
    "    def __len__(self):\n",
    "        return len(self.sentence_pairs) // self.batch_size\n",
    "\n",
    "    def __getitem__(self, idx):\n",
    "        indexes = self.indexes[idx * self.batch_size : (idx + 1) * self.batch_size]\n",
    "        sentence_pairs = self.sentence_pairs[indexes]\n",
    "\n",
    "        encoded = self.tokenizer.batch_encode_plus(\n",
    "            sentence_pairs.tolist(),\n",
    "            add_special_tokens=True,\n",
    "            padding=\"max_length\",\n",
    "            truncation=True,\n",
    "            max_length=MAX_LENGTH,\n",
    "            return_tensors=\"tf\",\n",
    "            return_token_type_ids=True,\n",
    "            return_attention_mask=True,\n",
    "        )\n",
    "\n",
    "        input_ids = np.array(encoded[\"input_ids\"], dtype=\"int32\")\n",
    "        attention_masks = np.array(encoded[\"attention_mask\"], dtype=\"int32\")\n",
    "        token_type_ids = np.array(encoded[\"token_type_ids\"], dtype=\"int32\")\n",
    "\n",
    "        if self.include_targets:\n",
    "            labels = np.array(self.labels[indexes], dtype=\"int32\")\n",
    "            return [input_ids, attention_masks, token_type_ids], labels\n",
    "        else:\n",
    "            return [input_ids, attention_masks, token_type_ids]\n",
    "\n",
    "    def on_epoch_end(self):\n",
    "        if self.shuffle:\n",
    "            np.random.RandomState(SEED).shuffle(self.indexes)"
   ]
  },
  {
   "cell_type": "code",
   "execution_count": 4,
   "metadata": {},
   "outputs": [
    {
     "name": "stdout",
     "output_type": "stream",
     "text": [
      "Model: \"model\"\n",
      "__________________________________________________________________________________________________\n",
      " Layer (type)                   Output Shape         Param #     Connected to                     \n",
      "==================================================================================================\n",
      " input_ids (InputLayer)         [(None, 256)]        0           []                               \n",
      "                                                                                                  \n",
      " attention_masks (InputLayer)   [(None, 256)]        0           []                               \n",
      "                                                                                                  \n",
      " token_type_ids (InputLayer)    [(None, 256)]        0           []                               \n",
      "                                                                                                  \n",
      " tf_bert_model (TFBertModel)    TFBaseModelOutputWi  109482240   ['input_ids[0][0]',              \n",
      "                                thPoolingAndCrossAt               'attention_masks[0][0]',        \n",
      "                                tentions(last_hidde               'token_type_ids[0][0]']         \n",
      "                                n_state=(None, 256,                                               \n",
      "                                 768),                                                            \n",
      "                                 pooler_output=(Non                                               \n",
      "                                e, 768),                                                          \n",
      "                                 past_key_values=No                                               \n",
      "                                ne, hidden_states=N                                               \n",
      "                                one, attentions=Non                                               \n",
      "                                e, cross_attentions                                               \n",
      "                                =None)                                                            \n",
      "                                                                                                  \n",
      " bidirectional (Bidirectional)  (None, 256, 128)     426496      ['tf_bert_model[0][0]']          \n",
      "                                                                                                  \n",
      " global_average_pooling1d (Glob  (None, 128)         0           ['bidirectional[0][0]']          \n",
      " alAveragePooling1D)                                                                              \n",
      "                                                                                                  \n",
      " global_max_pooling1d (GlobalMa  (None, 128)         0           ['bidirectional[0][0]']          \n",
      " xPooling1D)                                                                                      \n",
      "                                                                                                  \n",
      " concatenate (Concatenate)      (None, 256)          0           ['global_average_pooling1d[0][0]'\n",
      "                                                                 , 'global_max_pooling1d[0][0]']  \n",
      "                                                                                                  \n",
      " dropout_37 (Dropout)           (None, 256)          0           ['concatenate[0][0]']            \n",
      "                                                                                                  \n",
      " dense (Dense)                  (None, 1)            257         ['dropout_37[0][0]']             \n",
      "                                                                                                  \n",
      "==================================================================================================\n",
      "Total params: 109,908,993\n",
      "Trainable params: 426,753\n",
      "Non-trainable params: 109,482,240\n",
      "__________________________________________________________________________________________________\n"
     ]
    }
   ],
   "source": [
    "input_ids = tf.keras.layers.Input(\n",
    "    shape=(MAX_LENGTH,), dtype=tf.int32, name=\"input_ids\"\n",
    ")\n",
    "attention_masks = tf.keras.layers.Input(\n",
    "    shape=(MAX_LENGTH,), dtype=tf.int32, name=\"attention_masks\"\n",
    ")\n",
    "token_type_ids = tf.keras.layers.Input(\n",
    "    shape=(MAX_LENGTH,), dtype=tf.int32, name=\"token_type_ids\"\n",
    ")\n",
    "\n",
    "bert_model = transformers.TFAutoModel.from_pretrained(pretrained_model)\n",
    "bert_model.trainable = False\n",
    "\n",
    "bert_output = bert_model(\n",
    "    input_ids, attention_mask=attention_masks, token_type_ids=token_type_ids\n",
    ")\n",
    "\n",
    "sequence_output = bert_output.last_hidden_state\n",
    "pooled_output = bert_output.pooler_output\n",
    "\n",
    "bi_lstm = tf.keras.layers.Bidirectional(\n",
    "    tf.keras.layers.LSTM(64, return_sequences=True)\n",
    ")(sequence_output)\n",
    "\n",
    "avg_pool = tf.keras.layers.GlobalAveragePooling1D()(bi_lstm)\n",
    "max_pool = tf.keras.layers.GlobalMaxPooling1D()(bi_lstm)\n",
    "concat = tf.keras.layers.concatenate([avg_pool, max_pool])\n",
    "dropout = tf.keras.layers.Dropout(0.3)(concat)\n",
    "output = tf.keras.layers.Dense(1, activation=\"sigmoid\")(dropout)\n",
    "                                                        \n",
    "model = tf.keras.models.Model(\n",
    "    inputs=[input_ids, attention_masks, token_type_ids], outputs=output\n",
    ")\n",
    "\n",
    "model.summary()"
   ]
  },
  {
   "cell_type": "markdown",
   "metadata": {},
   "source": [
    "## Training"
   ]
  },
  {
   "cell_type": "code",
   "execution_count": 5,
   "metadata": {},
   "outputs": [
    {
     "data": {
      "text/plain": [
       "((42431, 2), (42431,), (2547, 2), (2547,))"
      ]
     },
     "execution_count": 5,
     "metadata": {},
     "output_type": "execute_result"
    }
   ],
   "source": [
    "X_train = train[[\"code1\", \"code2\"]]\n",
    "y_train = train[\"similar\"]\n",
    "\n",
    "X_val = valid[[\"code1\", \"code2\"]]\n",
    "y_val = valid[\"similar\"]\n",
    "\n",
    "X_train.shape, y_train.shape, X_val.shape, y_val.shape"
   ]
  },
  {
   "cell_type": "code",
   "execution_count": 6,
   "metadata": {},
   "outputs": [],
   "source": [
    "train_data = BertSemanticDataGenerator(\n",
    "    X_train[[\"code1\", \"code2\"]].values,\n",
    "    y_train.values,\n",
    "    batch_size=BATCH_SIZE,\n",
    "    shuffle=True,\n",
    ")\n",
    "valid_data = BertSemanticDataGenerator(\n",
    "    X_val[[\"code1\", \"code2\"]].values,\n",
    "    y_val.values,\n",
    "    batch_size=BATCH_SIZE,\n",
    "    shuffle=False,\n",
    ")"
   ]
  },
  {
   "cell_type": "code",
   "execution_count": 7,
   "metadata": {},
   "outputs": [
    {
     "name": "stdout",
     "output_type": "stream",
     "text": [
      "Epoch 1/100\n",
      "1325/1325 [==============================] - 279s 202ms/step - loss: 0.3717 - accuracy: 0.8265 - val_loss: 0.3200 - val_accuracy: 0.8627 - _timestamp: 1654838059.0000 - _runtime: 325.0000\n",
      "Epoch 2/100\n",
      "1325/1325 [==============================] - 261s 197ms/step - loss: 0.3187 - accuracy: 0.8598 - val_loss: 0.3200 - val_accuracy: 0.8627 - _timestamp: 1654838320.0000 - _runtime: 586.0000\n",
      "Epoch 3/100\n",
      "1325/1325 [==============================] - 260s 196ms/step - loss: 0.3178 - accuracy: 0.8598 - val_loss: 0.3200 - val_accuracy: 0.8627 - _timestamp: 1654838580.0000 - _runtime: 846.0000\n",
      "Epoch 4/100\n",
      "1325/1325 [==============================] - 259s 196ms/step - loss: 0.3198 - accuracy: 0.8592 - val_loss: 0.3200 - val_accuracy: 0.8627 - _timestamp: 1654838840.0000 - _runtime: 1106.0000\n",
      "Epoch 5/100\n",
      "1325/1325 [==============================] - 259s 196ms/step - loss: 0.3183 - accuracy: 0.8609 - val_loss: 0.3200 - val_accuracy: 0.8627 - _timestamp: 1654839099.0000 - _runtime: 1365.0000\n",
      "Epoch 6/100\n",
      "1325/1325 [==============================] - 260s 196ms/step - loss: 0.3202 - accuracy: 0.8603 - val_loss: 0.3200 - val_accuracy: 0.8627 - _timestamp: 1654839359.0000 - _runtime: 1625.0000\n"
     ]
    }
   ],
   "source": [
    "lr = tf.keras.optimizers.schedules.CosineDecay(args.learning_rate, decay_steps=1000)\n",
    "if args.optimizer == \"sgd\":\n",
    "    optim = tf.keras.optimizers.SGD(learning_rate=lr, momentum=0.9)\n",
    "elif args.optimizer == \"adam\":\n",
    "    optim = tf.keras.optimizers.Adam(learning_rate=lr)\n",
    "\n",
    "model.compile(\n",
    "    optimizer=optim,\n",
    "    loss=\"binary_crossentropy\",\n",
    "    metrics=[\"accuracy\"],\n",
    ")\n",
    "\n",
    "checkpoint_filepath=f\"load_model/{parser.description}\"\n",
    "\n",
    "callback = [\n",
    "    tf.keras.callbacks.EarlyStopping(\n",
    "        monitor='val_loss',\n",
    "        patience=5,\n",
    "        restore_best_weights=True,\n",
    "    ),\n",
    "    tf.keras.callbacks.ModelCheckpoint(\n",
    "        checkpoint_filepath,\n",
    "        monitor=\"val_loss\",\n",
    "        save_best_only=True,\n",
    "        save_weights_only=True,\n",
    "    )\n",
    "]\n",
    "\n",
    "\n",
    "history = model.fit(\n",
    "    train_data,\n",
    "    validation_data=valid_data,\n",
    "    epochs=EPOCHS,\n",
    "    callbacks=[callback, WandbCallback()],\n",
    ")"
   ]
  },
  {
   "cell_type": "code",
   "execution_count": 8,
   "metadata": {},
   "outputs": [
    {
     "data": {
      "image/png": "[encoded data removed]",
      "text/plain": [
       "<Figure size 432x288 with 1 Axes>"
      ]
     },
     "metadata": {
      "needs_background": "light"
     },
     "output_type": "display_data"
    },
    {
     "data": {
      "image/png": "[encoded data removed]",
      "text/plain": [
       "<Figure size 432x288 with 1 Axes>"
      ]
     },
     "metadata": {
      "needs_background": "light"
     },
     "output_type": "display_data"
    }
   ],
   "source": [
    "acc = history.history['accuracy']\n",
    "val_acc = history.history['val_accuracy']\n",
    "\n",
    "loss=history.history['loss']\n",
    "val_loss=history.history['val_loss']\n",
    "\n",
    "plt.plot(acc, label='Training Accuracy')\n",
    "plt.plot(val_acc, label='Validation Accuracy')\n",
    "plt.legend(loc='lower right')\n",
    "plt.title('Training and Validation Accuracy')\n",
    "plt.show()\n",
    "\n",
    "plt.plot(loss, label='Training Loss')\n",
    "plt.plot(val_loss, label='Validation Loss')\n",
    "plt.legend(loc='upper right')\n",
    "plt.title('Training and Validation Loss')\n",
    "plt.show()"
   ]
  },
  {
   "cell_type": "code",
   "execution_count": 9,
   "metadata": {},
   "outputs": [
    {
     "data": {
      "text/plain": [
       "<tensorflow.python.training.tracking.util.CheckpointLoadStatus at 0x25c8b63db50>"
      ]
     },
     "execution_count": 9,
     "metadata": {},
     "output_type": "execute_result"
    }
   ],
   "source": [
    "model.load_weights(checkpoint_filepath)"
   ]
  },
  {
   "cell_type": "markdown",
   "metadata": {},
   "source": [
    "### Fine Tuning"
   ]
  },
  {
   "cell_type": "code",
   "execution_count": 10,
   "metadata": {},
   "outputs": [
    {
     "name": "stdout",
     "output_type": "stream",
     "text": [
      "Epoch 1/100\n",
      "WARNING:tensorflow:Gradients do not exist for variables ['tf_bert_model/bert/pooler/dense/kernel:0', 'tf_bert_model/bert/pooler/dense/bias:0'] when minimizing the loss. If you're using `model.compile()`, did you forget to provide a `loss`argument?\n",
      "WARNING:tensorflow:Gradients do not exist for variables ['tf_bert_model/bert/pooler/dense/kernel:0', 'tf_bert_model/bert/pooler/dense/bias:0'] when minimizing the loss. If you're using `model.compile()`, did you forget to provide a `loss`argument?\n",
      "1325/1325 [==============================] - 594s 439ms/step - loss: 0.2507 - accuracy: 0.8961 - val_loss: 0.2470 - val_accuracy: 0.9031 - _timestamp: 1654839952.0000 - _runtime: 2218.0000\n",
      "Epoch 2/100\n",
      "1325/1325 [==============================] - 576s 434ms/step - loss: 0.2049 - accuracy: 0.9182 - val_loss: 0.2470 - val_accuracy: 0.9031 - _timestamp: 1654840529.0000 - _runtime: 2795.0000\n",
      "Epoch 3/100\n",
      "1325/1325 [==============================] - 583s 440ms/step - loss: 0.2047 - accuracy: 0.9187 - val_loss: 0.2470 - val_accuracy: 0.9031 - _timestamp: 1654841111.0000 - _runtime: 3377.0000\n",
      "Epoch 4/100\n",
      "1325/1325 [==============================] - 575s 434ms/step - loss: 0.2053 - accuracy: 0.9177 - val_loss: 0.2470 - val_accuracy: 0.9031 - _timestamp: 1654841688.0000 - _runtime: 3954.0000\n",
      "Epoch 5/100\n",
      "1325/1325 [==============================] - 575s 434ms/step - loss: 0.2052 - accuracy: 0.9192 - val_loss: 0.2470 - val_accuracy: 0.9031 - _timestamp: 1654842263.0000 - _runtime: 4529.0000\n",
      "Epoch 6/100\n",
      "1325/1325 [==============================] - 574s 433ms/step - loss: 0.2052 - accuracy: 0.9180 - val_loss: 0.2470 - val_accuracy: 0.9031 - _timestamp: 1654842837.0000 - _runtime: 5103.0000\n",
      "Epoch 7/100\n",
      "1325/1325 [==============================] - 577s 436ms/step - loss: 0.2060 - accuracy: 0.9184 - val_loss: 0.2470 - val_accuracy: 0.9031 - _timestamp: 1654843414.0000 - _runtime: 5680.0000\n",
      "Epoch 8/100\n",
      "1325/1325 [==============================] - 577s 436ms/step - loss: 0.2042 - accuracy: 0.9196 - val_loss: 0.2470 - val_accuracy: 0.9031 - _timestamp: 1654843991.0000 - _runtime: 6257.0000\n"
     ]
    }
   ],
   "source": [
    "bert_model.trainable = True\n",
    "\n",
    "lr = tf.keras.optimizers.schedules.CosineDecay(args.learning_rate*0.1, decay_steps=1000)\n",
    "if args.optimizer == \"sgd\":\n",
    "    optim = tf.keras.optimizers.SGD(learning_rate=lr, momentum=0.9)\n",
    "elif args.optimizer == \"adam\":\n",
    "    optim = tf.keras.optimizers.Adam(learning_rate=lr)\n",
    "\n",
    "model.compile(\n",
    "    optimizer=optim,\n",
    "    loss=\"binary_crossentropy\",\n",
    "    metrics=[\"accuracy\"],\n",
    ")\n",
    "\n",
    "checkpoint_filepath=f\"load_model/{parser.description}\"\n",
    "\n",
    "callback = [\n",
    "    tf.keras.callbacks.EarlyStopping(\n",
    "        monitor='val_loss',\n",
    "        patience=5,\n",
    "        restore_best_weights=True,\n",
    "    ),\n",
    "    tf.keras.callbacks.ModelCheckpoint(\n",
    "        checkpoint_filepath,\n",
    "        monitor=\"val_loss\",\n",
    "        save_best_only=True,\n",
    "        save_weights_only=True,\n",
    "    )\n",
    "]\n",
    "\n",
    "history = model.fit(\n",
    "    train_data,\n",
    "    validation_data=valid_data,\n",
    "    epochs=EPOCHS,\n",
    "    callbacks=[callback, WandbCallback()],\n",
    ")"
   ]
  },
  {
   "cell_type": "code",
   "execution_count": 11,
   "metadata": {},
   "outputs": [
    {
     "data": {
      "image/png": "[encoded data removed]",
      "text/plain": [
       "<Figure size 432x288 with 1 Axes>"
      ]
     },
     "metadata": {
      "needs_background": "light"
     },
     "output_type": "display_data"
    },
    {
     "data": {
      "image/png": "[encoded data removed]",
      "text/plain": [
       "<Figure size 432x288 with 1 Axes>"
      ]
     },
     "metadata": {
      "needs_background": "light"
     },
     "output_type": "display_data"
    }
   ],
   "source": [
    "acc = history.history['accuracy']\n",
    "val_acc = history.history['val_accuracy']\n",
    "\n",
    "loss=history.history['loss']\n",
    "val_loss=history.history['val_loss']\n",
    "\n",
    "plt.plot(acc, label='Training Accuracy')\n",
    "plt.plot(val_acc, label='Validation Accuracy')\n",
    "plt.legend(loc='lower right')\n",
    "plt.title('Training and Validation Accuracy')\n",
    "plt.show()\n",
    "\n",
    "plt.plot(loss, label='Training Loss')\n",
    "plt.plot(val_loss, label='Validation Loss')\n",
    "plt.legend(loc='upper right')\n",
    "plt.title('Training and Validation Loss')\n",
    "plt.show()"
   ]
  },
  {
   "cell_type": "code",
   "execution_count": 12,
   "metadata": {},
   "outputs": [
    {
     "data": {
      "text/plain": [
       "<tensorflow.python.training.tracking.util.CheckpointLoadStatus at 0x25da5bf3ee0>"
      ]
     },
     "execution_count": 12,
     "metadata": {},
     "output_type": "execute_result"
    }
   ],
   "source": [
    "model.load_weights(checkpoint_filepath)"
   ]
  },
  {
   "cell_type": "markdown",
   "metadata": {},
   "source": [
    "## Inference"
   ]
  },
  {
   "cell_type": "code",
   "execution_count": 13,
   "metadata": {},
   "outputs": [],
   "source": [
    "test_data = BertSemanticDataGenerator(\n",
    "    test[[\"code1\", \"code2\"]].values,\n",
    "    None,\n",
    "    batch_size=BATCH_SIZE,\n",
    "    shuffle=False,\n",
    "    include_targets=False,\n",
    ")"
   ]
  },
  {
   "cell_type": "code",
   "execution_count": 14,
   "metadata": {},
   "outputs": [
    {
     "name": "stderr",
     "output_type": "stream",
     "text": [
      "100%|██████████████████████████████████████████████████████████████████████████████| 5616/5616 [17:22<00:00,  5.39it/s]\n"
     ]
    },
    {
     "data": {
      "text/plain": [
       "(179700, 1)"
      ]
     },
     "execution_count": 14,
     "metadata": {},
     "output_type": "execute_result"
    }
   ],
   "source": [
    "preds=[]\n",
    "for i in tqdm(range((len(test)//BATCH_SIZE)+1)):\n",
    "    temp = test_data[i]\n",
    "    preds.append(model.predict(temp))\n",
    "preds=np.vstack(preds)\n",
    "\n",
    "preds.shape"
   ]
  },
  {
   "cell_type": "code",
   "execution_count": 15,
   "metadata": {},
   "outputs": [],
   "source": [
    "submission = pd.read_csv(\"data/sample_submission.csv\")\n",
    "submission['similar'] = np.where(preds>0.5, 1, 0)\n",
    "submission.to_csv(f\"{parser.description}.csv\", index=False)"
   ]
  }
 ],
 "metadata": {
  "accelerator": "GPU",
  "colab": {
   "authorship_tag": "ABX9TyPxWDbXdBZDPv2XiwW8C1k0",
   "collapsed_sections": [],
   "mount_file_id": "13o4BpF8zzuXcEiNVlVG2KwTXMW1Y55_v",
   "name": "test.ipynb",
   "provenance": []
  },
  "kernelspec": {
   "display_name": "Python 3 (ipykernel)",
   "language": "python",
   "name": "python3"
  },
  "language_info": {
   "codemirror_mode": {
    "name": "ipython",
    "version": 3
   },
   "file_extension": ".py",
   "mimetype": "text/x-python",
   "name": "python",
   "nbconvert_exporter": "python",
   "pygments_lexer": "ipython3",
   "version": "3.8.0"
  }
 },
 "nbformat": 4,
 "nbformat_minor": 4
}
