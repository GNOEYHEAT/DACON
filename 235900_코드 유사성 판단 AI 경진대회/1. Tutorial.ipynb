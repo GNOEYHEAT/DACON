{
 "cells": [
  {
   "cell_type": "markdown",
   "metadata": {},
   "source": [
    "# Tutorial"
   ]
  },
  {
   "cell_type": "code",
   "execution_count": 1,
   "metadata": {
    "colab": {
     "base_uri": "https://localhost:8080/"
    },
    "executionInfo": {
     "elapsed": 112690,
     "status": "ok",
     "timestamp": 1645972270802,
     "user": {
      "displayName": "‍김태형[ 대학원석·박사통합과정재학 / 산업경영공학과 ]",
      "photoUrl": "https://lh3.googleusercontent.com/a-/AOh14GjFNpnkjN-Em0rOki5hhy0HR7yGAbxSpzCjHV0A=s64",
      "userId": "00288066936238655028"
     },
     "user_tz": -540
    },
    "id": "A1IbqGhzB7fy",
    "outputId": "fd656f36-afcb-4871-ee1c-557fd033af76"
   },
   "outputs": [],
   "source": [
    "import os\n",
    "import random\n",
    "import numpy as np\n",
    "import pandas as pd\n",
    "import matplotlib.pyplot as plt\n",
    "import seaborn as sns\n",
    "\n",
    "from sklearn.model_selection import train_test_split, StratifiedKFold\n",
    "from sklearn.feature_extraction.text import CountVectorizer, HashingVectorizer\n",
    "from sklearn.metrics.pairwise import cosine_similarity\n",
    "from sklearn.metrics import accuracy_score\n",
    "\n",
    "import re\n",
    "from tqdm import tqdm\n",
    "\n",
    "import argparse\n",
    "\n",
    "parser = argparse.ArgumentParser(description='Tutorial')\n",
    "parser.add_argument('--validation_split', default=0.2, type=float)\n",
    "parser.add_argument('--seed', default=1011, type=int)\n",
    "args = parser.parse_args('')\n",
    "\n",
    "VALIDATION_SPLIT=args.validation_split\n",
    "SEED=args.seed\n",
    "\n",
    "def set_seeds(seed=SEED):\n",
    "    os.environ['PYTHONHASHSEED'] = str(seed)\n",
    "    random.seed(seed)\n",
    "    np.random.seed(seed)\n",
    "\n",
    "set_seeds()"
   ]
  },
  {
   "cell_type": "markdown",
   "metadata": {},
   "source": [
    "## Preprocessing"
   ]
  },
  {
   "cell_type": "code",
   "execution_count": 2,
   "metadata": {},
   "outputs": [
    {
     "data": {
      "text/html": [
       "<div>\n",
       "<style scoped>\n",
       "    .dataframe tbody tr th:only-of-type {\n",
       "        vertical-align: middle;\n",
       "    }\n",
       "\n",
       "    .dataframe tbody tr th {\n",
       "        vertical-align: top;\n",
       "    }\n",
       "\n",
       "    .dataframe thead th {\n",
       "        text-align: right;\n",
       "    }\n",
       "</style>\n",
       "<table border=\"1\" class=\"dataframe\">\n",
       "  <thead>\n",
       "    <tr style=\"text-align: right;\">\n",
       "      <th></th>\n",
       "      <th>code1</th>\n",
       "      <th>code2</th>\n",
       "      <th>similar</th>\n",
       "    </tr>\n",
       "  </thead>\n",
       "  <tbody>\n",
       "    <tr>\n",
       "      <th>0</th>\n",
       "      <td>flag = \"go\"\\ncnt = 0\\nwhile flag == \"go\":\\n   ...</td>\n",
       "      <td># Python 3+\\n#--------------------------------...</td>\n",
       "      <td>1</td>\n",
       "    </tr>\n",
       "    <tr>\n",
       "      <th>1</th>\n",
       "      <td>b, c = map(int, input().split())\\n\\nprint(b * c)</td>\n",
       "      <td>import numpy as np\\n\\nn = int(input())\\na = np...</td>\n",
       "      <td>0</td>\n",
       "    </tr>\n",
       "    <tr>\n",
       "      <th>2</th>\n",
       "      <td>import numpy as np\\nimport sys\\nread = sys.std...</td>\n",
       "      <td>N, M = map(int, input().split())\\nif M%2 != 0:...</td>\n",
       "      <td>0</td>\n",
       "    </tr>\n",
       "    <tr>\n",
       "      <th>3</th>\n",
       "      <td>b, c = map(int, input().split())\\n\\nprint(b * c)</td>\n",
       "      <td>n,m=map(int,input().split())\\nh=list(map(int,i...</td>\n",
       "      <td>0</td>\n",
       "    </tr>\n",
       "    <tr>\n",
       "      <th>4</th>\n",
       "      <td>s=input()\\nt=input()\\nans=0\\nfor i in range(le...</td>\n",
       "      <td>import math\\na,b,h,m=map(int,input().split())\\...</td>\n",
       "      <td>0</td>\n",
       "    </tr>\n",
       "  </tbody>\n",
       "</table>\n",
       "</div>"
      ],
      "text/plain": [
       "                                               code1  \\\n",
       "0  flag = \"go\"\\ncnt = 0\\nwhile flag == \"go\":\\n   ...   \n",
       "1   b, c = map(int, input().split())\\n\\nprint(b * c)   \n",
       "2  import numpy as np\\nimport sys\\nread = sys.std...   \n",
       "3   b, c = map(int, input().split())\\n\\nprint(b * c)   \n",
       "4  s=input()\\nt=input()\\nans=0\\nfor i in range(le...   \n",
       "\n",
       "                                               code2  similar  \n",
       "0  # Python 3+\\n#--------------------------------...        1  \n",
       "1  import numpy as np\\n\\nn = int(input())\\na = np...        0  \n",
       "2  N, M = map(int, input().split())\\nif M%2 != 0:...        0  \n",
       "3  n,m=map(int,input().split())\\nh=list(map(int,i...        0  \n",
       "4  import math\\na,b,h,m=map(int,input().split())\\...        0  "
      ]
     },
     "execution_count": 2,
     "metadata": {},
     "output_type": "execute_result"
    }
   ],
   "source": [
    "train = pd.read_csv(\"data/sample_train.csv\")\n",
    "train.head()"
   ]
  },
  {
   "cell_type": "code",
   "execution_count": 3,
   "metadata": {},
   "outputs": [
    {
     "name": "stdout",
     "output_type": "stream",
     "text": [
      "<class 'pandas.core.frame.DataFrame'>\n",
      "RangeIndex: 17970 entries, 0 to 17969\n",
      "Data columns (total 3 columns):\n",
      " #   Column   Non-Null Count  Dtype \n",
      "---  ------   --------------  ----- \n",
      " 0   code1    17970 non-null  object\n",
      " 1   code2    17970 non-null  object\n",
      " 2   similar  17970 non-null  int64 \n",
      "dtypes: int64(1), object(2)\n",
      "memory usage: 421.3+ KB\n"
     ]
    }
   ],
   "source": [
    "train.info()"
   ]
  },
  {
   "cell_type": "code",
   "execution_count": 4,
   "metadata": {},
   "outputs": [
    {
     "data": {
      "text/plain": [
       "1    9005\n",
       "0    8965\n",
       "Name: similar, dtype: int64"
      ]
     },
     "execution_count": 4,
     "metadata": {},
     "output_type": "execute_result"
    }
   ],
   "source": [
    "train[\"similar\"].value_counts()"
   ]
  },
  {
   "cell_type": "code",
   "execution_count": 5,
   "metadata": {},
   "outputs": [
    {
     "data": {
      "text/html": [
       "<div>\n",
       "<style scoped>\n",
       "    .dataframe tbody tr th:only-of-type {\n",
       "        vertical-align: middle;\n",
       "    }\n",
       "\n",
       "    .dataframe tbody tr th {\n",
       "        vertical-align: top;\n",
       "    }\n",
       "\n",
       "    .dataframe thead th {\n",
       "        text-align: right;\n",
       "    }\n",
       "</style>\n",
       "<table border=\"1\" class=\"dataframe\">\n",
       "  <thead>\n",
       "    <tr style=\"text-align: right;\">\n",
       "      <th></th>\n",
       "      <th>pair_id</th>\n",
       "      <th>code1</th>\n",
       "      <th>code2</th>\n",
       "    </tr>\n",
       "  </thead>\n",
       "  <tbody>\n",
       "    <tr>\n",
       "      <th>0</th>\n",
       "      <td>1</td>\n",
       "      <td>def main():\\n  s = input()\\n  if s.count('a') ...</td>\n",
       "      <td>N,K = map(int,input().split())\\nA = list(map(i...</td>\n",
       "    </tr>\n",
       "    <tr>\n",
       "      <th>1</th>\n",
       "      <td>2</td>\n",
       "      <td>N,K,Q = map(int,input().split())\\npoints = [0]...</td>\n",
       "      <td>N, K, Q = map(int,input().split())\\n\\nif K &gt; Q...</td>\n",
       "    </tr>\n",
       "    <tr>\n",
       "      <th>2</th>\n",
       "      <td>3</td>\n",
       "      <td>from itertools import combinations\\nn = int(in...</td>\n",
       "      <td>s = input()\\nt = input()\\nlength_s = len(s)\\nl...</td>\n",
       "    </tr>\n",
       "    <tr>\n",
       "      <th>3</th>\n",
       "      <td>4</td>\n",
       "      <td>a,b=map(int,input().split())\\n\\nans1=a+b\\nans2...</td>\n",
       "      <td>a, b, c, d = map(int,input().split())\\n\\nif a ...</td>\n",
       "    </tr>\n",
       "    <tr>\n",
       "      <th>4</th>\n",
       "      <td>5</td>\n",
       "      <td>S = input()\\nK = int(input())\\n\\nind = -1\\nfor...</td>\n",
       "      <td>H, W = map(int, input().split())\\ngrid = []\\nf...</td>\n",
       "    </tr>\n",
       "  </tbody>\n",
       "</table>\n",
       "</div>"
      ],
      "text/plain": [
       "   pair_id                                              code1  \\\n",
       "0        1  def main():\\n  s = input()\\n  if s.count('a') ...   \n",
       "1        2  N,K,Q = map(int,input().split())\\npoints = [0]...   \n",
       "2        3  from itertools import combinations\\nn = int(in...   \n",
       "3        4  a,b=map(int,input().split())\\n\\nans1=a+b\\nans2...   \n",
       "4        5  S = input()\\nK = int(input())\\n\\nind = -1\\nfor...   \n",
       "\n",
       "                                               code2  \n",
       "0  N,K = map(int,input().split())\\nA = list(map(i...  \n",
       "1  N, K, Q = map(int,input().split())\\n\\nif K > Q...  \n",
       "2  s = input()\\nt = input()\\nlength_s = len(s)\\nl...  \n",
       "3  a, b, c, d = map(int,input().split())\\n\\nif a ...  \n",
       "4  H, W = map(int, input().split())\\ngrid = []\\nf...  "
      ]
     },
     "execution_count": 5,
     "metadata": {},
     "output_type": "execute_result"
    }
   ],
   "source": [
    "test = pd.read_csv(\"data/test.csv\")\n",
    "test.head()"
   ]
  },
  {
   "cell_type": "code",
   "execution_count": 6,
   "metadata": {},
   "outputs": [
    {
     "name": "stdout",
     "output_type": "stream",
     "text": [
      "<class 'pandas.core.frame.DataFrame'>\n",
      "RangeIndex: 179700 entries, 0 to 179699\n",
      "Data columns (total 3 columns):\n",
      " #   Column   Non-Null Count   Dtype \n",
      "---  ------   --------------   ----- \n",
      " 0   pair_id  179700 non-null  int64 \n",
      " 1   code1    179700 non-null  object\n",
      " 2   code2    179700 non-null  object\n",
      "dtypes: int64(1), object(2)\n",
      "memory usage: 4.1+ MB\n"
     ]
    }
   ],
   "source": [
    "test.info()"
   ]
  },
  {
   "cell_type": "code",
   "execution_count": 7,
   "metadata": {},
   "outputs": [
    {
     "data": {
      "text/plain": [
       "179700"
      ]
     },
     "execution_count": 7,
     "metadata": {},
     "output_type": "execute_result"
    }
   ],
   "source": [
    "test[\"pair_id\"].nunique()"
   ]
  },
  {
   "cell_type": "markdown",
   "metadata": {},
   "source": [
    "## Modelling"
   ]
  },
  {
   "cell_type": "code",
   "execution_count": 8,
   "metadata": {},
   "outputs": [],
   "source": [
    "class BaselineModel():\n",
    "    def __init__(self, vectorizer, threshold=0.5):\n",
    "        super(BaselineModel, self).__init__()\n",
    "        self.threshold = threshold \n",
    "        self.vectorizer = vectorizer\n",
    "    def fit(self, code1, code2):\n",
    "        self.vectorizer.fit(code1)\n",
    "        self.vectorizer.fit(code2)\n",
    "        print('Done.')\n",
    "    def predict_proba(self, code1, code2):\n",
    "        code1_vecs = self.vectorizer.transform(code1)\n",
    "        code2_vecs = self.vectorizer.transform(code2)\n",
    "        preds = []\n",
    "        for code1_vec, code2_vec in zip(code1_vecs, code2_vecs):\n",
    "            preds.append(cosine_similarity(code1_vec, code2_vec))\n",
    "        preds = np.reshape(preds, len(preds))\n",
    "        print('Done.')\n",
    "        return preds\n",
    "    def predict(self, code1, code2):\n",
    "        preds = self.predict_proba(code1, code2)\n",
    "        preds = np.where(preds>self.threshold, 1, 0)\n",
    "        return preds"
   ]
  },
  {
   "cell_type": "markdown",
   "metadata": {},
   "source": [
    "## Training"
   ]
  },
  {
   "cell_type": "code",
   "execution_count": 9,
   "metadata": {},
   "outputs": [
    {
     "name": "stdout",
     "output_type": "stream",
     "text": [
      "CountVectorizer\n",
      "Done.\n",
      "Done.\n",
      "CPU times: total: 11.4 s\n",
      "Wall time: 11.4 s\n"
     ]
    },
    {
     "data": {
      "text/plain": [
       "0.6850306065664997"
      ]
     },
     "execution_count": 9,
     "metadata": {},
     "output_type": "execute_result"
    }
   ],
   "source": [
    "%%time\n",
    "\n",
    "print(\"CountVectorizer\")\n",
    "model = BaselineModel(CountVectorizer(), threshold=0.5)\n",
    "model.fit(train['code1'], train['code2'])\n",
    "preds = model.predict(train['code1'], train['code2'])\n",
    "accuracy_score(train[\"similar\"], preds)"
   ]
  },
  {
   "cell_type": "code",
   "execution_count": 10,
   "metadata": {},
   "outputs": [
    {
     "name": "stdout",
     "output_type": "stream",
     "text": [
      "HashingVectorizer\n",
      "Done.\n",
      "Done.\n",
      "CPU times: total: 44.5 s\n",
      "Wall time: 44.6 s\n"
     ]
    },
    {
     "data": {
      "text/plain": [
       "0.6815804117974402"
      ]
     },
     "execution_count": 10,
     "metadata": {},
     "output_type": "execute_result"
    }
   ],
   "source": [
    "%%time\n",
    "\n",
    "print(\"HashingVectorizer\")\n",
    "model = BaselineModel(HashingVectorizer(), threshold=0.5)\n",
    "model.fit(train['code1'], train['code2'])\n",
    "preds = model.predict(train['code1'], train['code2'])\n",
    "accuracy_score(train[\"similar\"], preds)"
   ]
  },
  {
   "cell_type": "markdown",
   "metadata": {},
   "source": [
    "## Inference"
   ]
  },
  {
   "cell_type": "code",
   "execution_count": 11,
   "metadata": {},
   "outputs": [
    {
     "name": "stdout",
     "output_type": "stream",
     "text": [
      "Done.\n",
      "Done.\n",
      "CPU times: total: 2min 3s\n",
      "Wall time: 2min 3s\n"
     ]
    }
   ],
   "source": [
    "%%time\n",
    "\n",
    "model = BaselineModel(CountVectorizer(), threshold=0.5)\n",
    "model.fit(test['code1'], test['code2'])\n",
    "preds = model.predict(test['code1'], test['code2'])"
   ]
  },
  {
   "cell_type": "code",
   "execution_count": 12,
   "metadata": {},
   "outputs": [],
   "source": [
    "submission = pd.read_csv(\"data/sample_submission.csv\")\n",
    "submission['similar'] = preds\n",
    "submission.to_csv(f\"{parser.description}.csv\", index=False)"
   ]
  }
 ],
 "metadata": {
  "accelerator": "GPU",
  "colab": {
   "authorship_tag": "ABX9TyPxWDbXdBZDPv2XiwW8C1k0",
   "collapsed_sections": [],
   "mount_file_id": "13o4BpF8zzuXcEiNVlVG2KwTXMW1Y55_v",
   "name": "test.ipynb",
   "provenance": []
  },
  "kernelspec": {
   "display_name": "Python 3 (ipykernel)",
   "language": "python",
   "name": "python3"
  },
  "language_info": {
   "codemirror_mode": {
    "name": "ipython",
    "version": 3
   },
   "file_extension": ".py",
   "mimetype": "text/x-python",
   "name": "python",
   "nbconvert_exporter": "python",
   "pygments_lexer": "ipython3",
   "version": "3.8.0"
  }
 },
 "nbformat": 4,
 "nbformat_minor": 4
}
