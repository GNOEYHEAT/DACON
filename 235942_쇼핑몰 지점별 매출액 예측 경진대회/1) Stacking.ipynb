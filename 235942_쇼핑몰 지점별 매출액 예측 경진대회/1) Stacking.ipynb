{
 "cells": [
  {
   "cell_type": "markdown",
   "metadata": {
    "id": "AhkhWunmRsyg"
   },
   "source": [
    "# Stacking"
   ]
  },
  {
   "cell_type": "code",
   "execution_count": 1,
   "metadata": {
    "colab": {
     "base_uri": "https://localhost:8080/",
     "height": 270
    },
    "executionInfo": {
     "elapsed": 1680,
     "status": "ok",
     "timestamp": 1657709354987,
     "user": {
      "displayName": "‍김태형[ 대학원석·박사통합과정재학 / 산업경영공학과 ]",
      "userId": "00288066936238655028"
     },
     "user_tz": -540
    },
    "id": "loTi1xwIRr_e",
    "outputId": "de2151be-8d21-4e3f-d667-50111aab5723"
   },
   "outputs": [
    {
     "data": {
      "text/html": [
       "<div>\n",
       "<style scoped>\n",
       "    .dataframe tbody tr th:only-of-type {\n",
       "        vertical-align: middle;\n",
       "    }\n",
       "\n",
       "    .dataframe tbody tr th {\n",
       "        vertical-align: top;\n",
       "    }\n",
       "\n",
       "    .dataframe thead th {\n",
       "        text-align: right;\n",
       "    }\n",
       "</style>\n",
       "<table border=\"1\" class=\"dataframe\">\n",
       "  <thead>\n",
       "    <tr style=\"text-align: right;\">\n",
       "      <th></th>\n",
       "      <th>id</th>\n",
       "      <th>Store</th>\n",
       "      <th>Date</th>\n",
       "      <th>Temperature</th>\n",
       "      <th>Fuel_Price</th>\n",
       "      <th>Promotion1</th>\n",
       "      <th>Promotion2</th>\n",
       "      <th>Promotion3</th>\n",
       "      <th>Promotion4</th>\n",
       "      <th>Promotion5</th>\n",
       "      <th>Unemployment</th>\n",
       "      <th>IsHoliday</th>\n",
       "      <th>Weekly_Sales</th>\n",
       "    </tr>\n",
       "  </thead>\n",
       "  <tbody>\n",
       "    <tr>\n",
       "      <th>0</th>\n",
       "      <td>1</td>\n",
       "      <td>1</td>\n",
       "      <td>05/02/2010</td>\n",
       "      <td>42.31</td>\n",
       "      <td>2.572</td>\n",
       "      <td>NaN</td>\n",
       "      <td>NaN</td>\n",
       "      <td>NaN</td>\n",
       "      <td>NaN</td>\n",
       "      <td>NaN</td>\n",
       "      <td>8.106</td>\n",
       "      <td>False</td>\n",
       "      <td>1643690.90</td>\n",
       "    </tr>\n",
       "    <tr>\n",
       "      <th>1</th>\n",
       "      <td>2</td>\n",
       "      <td>1</td>\n",
       "      <td>12/02/2010</td>\n",
       "      <td>38.51</td>\n",
       "      <td>2.548</td>\n",
       "      <td>NaN</td>\n",
       "      <td>NaN</td>\n",
       "      <td>NaN</td>\n",
       "      <td>NaN</td>\n",
       "      <td>NaN</td>\n",
       "      <td>8.106</td>\n",
       "      <td>True</td>\n",
       "      <td>1641957.44</td>\n",
       "    </tr>\n",
       "    <tr>\n",
       "      <th>2</th>\n",
       "      <td>3</td>\n",
       "      <td>1</td>\n",
       "      <td>19/02/2010</td>\n",
       "      <td>39.93</td>\n",
       "      <td>2.514</td>\n",
       "      <td>NaN</td>\n",
       "      <td>NaN</td>\n",
       "      <td>NaN</td>\n",
       "      <td>NaN</td>\n",
       "      <td>NaN</td>\n",
       "      <td>8.106</td>\n",
       "      <td>False</td>\n",
       "      <td>1611968.17</td>\n",
       "    </tr>\n",
       "    <tr>\n",
       "      <th>3</th>\n",
       "      <td>4</td>\n",
       "      <td>1</td>\n",
       "      <td>26/02/2010</td>\n",
       "      <td>46.63</td>\n",
       "      <td>2.561</td>\n",
       "      <td>NaN</td>\n",
       "      <td>NaN</td>\n",
       "      <td>NaN</td>\n",
       "      <td>NaN</td>\n",
       "      <td>NaN</td>\n",
       "      <td>8.106</td>\n",
       "      <td>False</td>\n",
       "      <td>1409727.59</td>\n",
       "    </tr>\n",
       "    <tr>\n",
       "      <th>4</th>\n",
       "      <td>5</td>\n",
       "      <td>1</td>\n",
       "      <td>05/03/2010</td>\n",
       "      <td>46.50</td>\n",
       "      <td>2.625</td>\n",
       "      <td>NaN</td>\n",
       "      <td>NaN</td>\n",
       "      <td>NaN</td>\n",
       "      <td>NaN</td>\n",
       "      <td>NaN</td>\n",
       "      <td>8.106</td>\n",
       "      <td>False</td>\n",
       "      <td>1554806.68</td>\n",
       "    </tr>\n",
       "  </tbody>\n",
       "</table>\n",
       "</div>"
      ],
      "text/plain": [
       "   id  Store        Date  Temperature  Fuel_Price  Promotion1  Promotion2  \\\n",
       "0   1      1  05/02/2010        42.31       2.572         NaN         NaN   \n",
       "1   2      1  12/02/2010        38.51       2.548         NaN         NaN   \n",
       "2   3      1  19/02/2010        39.93       2.514         NaN         NaN   \n",
       "3   4      1  26/02/2010        46.63       2.561         NaN         NaN   \n",
       "4   5      1  05/03/2010        46.50       2.625         NaN         NaN   \n",
       "\n",
       "   Promotion3  Promotion4  Promotion5  Unemployment  IsHoliday  Weekly_Sales  \n",
       "0         NaN         NaN         NaN         8.106      False    1643690.90  \n",
       "1         NaN         NaN         NaN         8.106       True    1641957.44  \n",
       "2         NaN         NaN         NaN         8.106      False    1611968.17  \n",
       "3         NaN         NaN         NaN         8.106      False    1409727.59  \n",
       "4         NaN         NaN         NaN         8.106      False    1554806.68  "
      ]
     },
     "execution_count": 1,
     "metadata": {},
     "output_type": "execute_result"
    }
   ],
   "source": [
    "import os\n",
    "import random\n",
    "import numpy as np\n",
    "import pandas as pd\n",
    "import matplotlib.pyplot as plt\n",
    "import seaborn as sns\n",
    "%matplotlib inline\n",
    "\n",
    "from sklearn.model_selection import train_test_split, KFold\n",
    "from sklearn.preprocessing import StandardScaler, MinMaxScaler\n",
    "from sklearn.impute import KNNImputer\n",
    "from sklearn.metrics import mean_squared_error\n",
    "\n",
    "from sklearn.linear_model import LinearRegression, Lasso, Ridge, ElasticNet\n",
    "from sklearn.linear_model import Lars, LassoLars, OrthogonalMatchingPursuit\n",
    "from sklearn.linear_model import BayesianRidge, ARDRegression, PassiveAggressiveRegressor\n",
    "from sklearn.linear_model import RANSACRegressor, TheilSenRegressor, HuberRegressor\n",
    "from sklearn.kernel_ridge import KernelRidge\n",
    "from sklearn.svm import SVR\n",
    "from sklearn.neighbors import KNeighborsRegressor\n",
    "from sklearn.tree import DecisionTreeRegressor, ExtraTreeRegressor\n",
    "from sklearn.ensemble import RandomForestRegressor, ExtraTreesRegressor, BaggingRegressor\n",
    "from sklearn.ensemble import AdaBoostRegressor, GradientBoostingRegressor\n",
    "from sklearn.neural_network import MLPRegressor\n",
    "from xgboost import XGBRegressor\n",
    "from lightgbm import LGBMRegressor\n",
    "from catboost import CatBoostRegressor\n",
    "\n",
    "import warnings\n",
    "warnings.filterwarnings('ignore')\n",
    "\n",
    "import argparse\n",
    "import wandb\n",
    "wandb.init(project=\"DACON_235942\", name=\"stacking\")\n",
    "\n",
    "parser = argparse.ArgumentParser(description=\"stacking\")\n",
    "parser.add_argument('--top_n_model', default=3, type=int)\n",
    "parser.add_argument('--scaler', default=\"standard\", type=str) # standard or minmax\n",
    "parser.add_argument('--cv', default=10, type=int)\n",
    "parser.add_argument('--seed', default=1011, type=int)\n",
    "args = parser.parse_args('')\n",
    "\n",
    "wandb.config.update(args)\n",
    "\n",
    "top_n_model = args.top_n_model\n",
    "scaler = args.scaler\n",
    "cv = args.cv\n",
    "seed = args.seed\n",
    "\n",
    "if scaler == \"standard\":\n",
    "    scaler=StandardScaler()\n",
    "elif scaler == \"minmax\":\n",
    "    scaler=MinMaxScaler()\n",
    "\n",
    "def set_seeds(seed=seed):\n",
    "    os.environ['PYTHONHASHSEED'] = str(seed)\n",
    "    random.seed(seed)\n",
    "    np.random.seed(seed)\n",
    "\n",
    "set_seeds()\n",
    "\n",
    "train = pd.read_csv(\"data/train.csv\")\n",
    "test = pd.read_csv(\"data/test.csv\")\n",
    "\n",
    "train.head()"
   ]
  },
  {
   "cell_type": "markdown",
   "metadata": {
    "id": "mwpExnvnU59I"
   },
   "source": [
    "## Preprocessing"
   ]
  },
  {
   "cell_type": "code",
   "execution_count": 2,
   "metadata": {
    "colab": {
     "base_uri": "https://localhost:8080/"
    },
    "executionInfo": {
     "elapsed": 26,
     "status": "ok",
     "timestamp": 1657709354989,
     "user": {
      "displayName": "‍김태형[ 대학원석·박사통합과정재학 / 산업경영공학과 ]",
      "userId": "00288066936238655028"
     },
     "user_tz": -540
    },
    "id": "3U15JBOtUn7o",
    "outputId": "6dafc43f-81c7-40c1-948d-ebe83e1a035b"
   },
   "outputs": [
    {
     "name": "stdout",
     "output_type": "stream",
     "text": [
      "<class 'pandas.core.frame.DataFrame'>\n",
      "RangeIndex: 6255 entries, 0 to 6254\n",
      "Data columns (total 13 columns):\n",
      " #   Column        Non-Null Count  Dtype  \n",
      "---  ------        --------------  -----  \n",
      " 0   id            6255 non-null   int64  \n",
      " 1   Store         6255 non-null   int64  \n",
      " 2   Date          6255 non-null   object \n",
      " 3   Temperature   6255 non-null   float64\n",
      " 4   Fuel_Price    6255 non-null   float64\n",
      " 5   Promotion1    2102 non-null   float64\n",
      " 6   Promotion2    1592 non-null   float64\n",
      " 7   Promotion3    1885 non-null   float64\n",
      " 8   Promotion4    1819 non-null   float64\n",
      " 9   Promotion5    2115 non-null   float64\n",
      " 10  Unemployment  6255 non-null   float64\n",
      " 11  IsHoliday     6255 non-null   bool   \n",
      " 12  Weekly_Sales  6255 non-null   float64\n",
      "dtypes: bool(1), float64(9), int64(2), object(1)\n",
      "memory usage: 592.6+ KB\n"
     ]
    }
   ],
   "source": [
    "train.info()"
   ]
  },
  {
   "cell_type": "code",
   "execution_count": 3,
   "metadata": {
    "colab": {
     "base_uri": "https://localhost:8080/"
    },
    "executionInfo": {
     "elapsed": 13,
     "status": "ok",
     "timestamp": 1657709354989,
     "user": {
      "displayName": "‍김태형[ 대학원석·박사통합과정재학 / 산업경영공학과 ]",
      "userId": "00288066936238655028"
     },
     "user_tz": -540
    },
    "id": "xYAj2AEzVGL5",
    "outputId": "3cfb650e-5f51-4496-b629-4883d78e2e43"
   },
   "outputs": [
    {
     "name": "stdout",
     "output_type": "stream",
     "text": [
      "<class 'pandas.core.frame.DataFrame'>\n",
      "RangeIndex: 180 entries, 0 to 179\n",
      "Data columns (total 12 columns):\n",
      " #   Column        Non-Null Count  Dtype  \n",
      "---  ------        --------------  -----  \n",
      " 0   id            180 non-null    int64  \n",
      " 1   Store         180 non-null    int64  \n",
      " 2   Date          180 non-null    object \n",
      " 3   Temperature   180 non-null    float64\n",
      " 4   Fuel_Price    180 non-null    float64\n",
      " 5   Promotion1    178 non-null    float64\n",
      " 6   Promotion2    45 non-null     float64\n",
      " 7   Promotion3    161 non-null    float64\n",
      " 8   Promotion4    146 non-null    float64\n",
      " 9   Promotion5    180 non-null    float64\n",
      " 10  Unemployment  180 non-null    float64\n",
      " 11  IsHoliday     180 non-null    bool   \n",
      "dtypes: bool(1), float64(8), int64(2), object(1)\n",
      "memory usage: 15.8+ KB\n"
     ]
    }
   ],
   "source": [
    "test.info()"
   ]
  },
  {
   "cell_type": "markdown",
   "metadata": {
    "id": "4SwW3Nr0VxLC"
   },
   "source": [
    "### Weekly_Sales"
   ]
  },
  {
   "cell_type": "code",
   "execution_count": 4,
   "metadata": {
    "colab": {
     "base_uri": "https://localhost:8080/",
     "height": 1000,
     "output_embedded_package_id": "1pgTzp76rEEz2fUgosTU3tSBeUMqTwBAj"
    },
    "executionInfo": {
     "elapsed": 20545,
     "status": "ok",
     "timestamp": 1657709375525,
     "user": {
      "displayName": "‍김태형[ 대학원석·박사통합과정재학 / 산업경영공학과 ]",
      "userId": "00288066936238655028"
     },
     "user_tz": -540
    },
    "id": "Z0yJs9voZsBu",
    "outputId": "596235f9-70ef-4afb-f719-39ccf2c06ec2"
   },
   "outputs": [],
   "source": [
    "# for i in train[\"Store\"].unique():\n",
    "#     temp = train[train[\"Store\"]==i]\n",
    "#     plt.figure(figsize=(15,8))\n",
    "#     sns.lineplot(x=\"Date\", y=\"Weekly_Sales\", data=temp)\n",
    "#     plt.title(f\"Store : {i}\")\n",
    "#     plt.xticks('off')\n",
    "#     plt.show()"
   ]
  },
  {
   "cell_type": "code",
   "execution_count": 5,
   "metadata": {
    "colab": {
     "base_uri": "https://localhost:8080/",
     "height": 281
    },
    "executionInfo": {
     "elapsed": 425,
     "status": "ok",
     "timestamp": 1657709375930,
     "user": {
      "displayName": "‍김태형[ 대학원석·박사통합과정재학 / 산업경영공학과 ]",
      "userId": "00288066936238655028"
     },
     "user_tz": -540
    },
    "id": "pFgv_vjKVb9v",
    "outputId": "bc67cd4f-9d91-4e59-8015-ab0166eef673"
   },
   "outputs": [
    {
     "data": {
      "image/png": "[encoded data removed]",
      "text/plain": [
       "<Figure size 432x288 with 1 Axes>"
      ]
     },
     "metadata": {
      "needs_background": "light"
     },
     "output_type": "display_data"
    }
   ],
   "source": [
    "sns.histplot(train[\"Weekly_Sales\"])\n",
    "plt.show()"
   ]
  },
  {
   "cell_type": "code",
   "execution_count": 6,
   "metadata": {
    "colab": {
     "base_uri": "https://localhost:8080/",
     "height": 280
    },
    "executionInfo": {
     "elapsed": 276,
     "status": "ok",
     "timestamp": 1657709376198,
     "user": {
      "displayName": "‍김태형[ 대학원석·박사통합과정재학 / 산업경영공학과 ]",
      "userId": "00288066936238655028"
     },
     "user_tz": -540
    },
    "id": "MDXbohzPV0Ti",
    "outputId": "0b2b9927-cfea-449c-f6a2-e6cd7b0a0d98"
   },
   "outputs": [
    {
     "data": {
      "image/png": "[encoded data removed]",
      "text/plain": [
       "<Figure size 432x288 with 1 Axes>"
      ]
     },
     "metadata": {
      "needs_background": "light"
     },
     "output_type": "display_data"
    }
   ],
   "source": [
    "train[\"Weekly_Sales\"] = np.log(train[\"Weekly_Sales\"])\n",
    "sns.histplot(train[\"Weekly_Sales\"])\n",
    "plt.show()"
   ]
  },
  {
   "cell_type": "markdown",
   "metadata": {
    "id": "CATpFXiBWC50"
   },
   "source": [
    "### Store"
   ]
  },
  {
   "cell_type": "code",
   "execution_count": 7,
   "metadata": {
    "colab": {
     "base_uri": "https://localhost:8080/"
    },
    "executionInfo": {
     "elapsed": 15,
     "status": "ok",
     "timestamp": 1657709376199,
     "user": {
      "displayName": "‍김태형[ 대학원석·박사통합과정재학 / 산업경영공학과 ]",
      "userId": "00288066936238655028"
     },
     "user_tz": -540
    },
    "id": "qgfOpdcMV5wN",
    "outputId": "65f4bb13-dbad-4e18-b481-9d1c5508f9c0"
   },
   "outputs": [
    {
     "data": {
      "text/plain": [
       "(45, 45)"
      ]
     },
     "execution_count": 7,
     "metadata": {},
     "output_type": "execute_result"
    }
   ],
   "source": [
    "train[\"Store\"] = train[\"Store\"].astype(\"object\")\n",
    "test[\"Store\"] = test[\"Store\"].astype(\"object\")\n",
    "\n",
    "train[\"Store\"].nunique(), test[\"Store\"].nunique()"
   ]
  },
  {
   "cell_type": "markdown",
   "metadata": {
    "id": "VdB2kZUiW8qD"
   },
   "source": [
    "### Date"
   ]
  },
  {
   "cell_type": "code",
   "execution_count": 8,
   "metadata": {
    "colab": {
     "base_uri": "https://localhost:8080/",
     "height": 357
    },
    "executionInfo": {
     "elapsed": 8,
     "status": "ok",
     "timestamp": 1657709376199,
     "user": {
      "displayName": "‍김태형[ 대학원석·박사통합과정재학 / 산업경영공학과 ]",
      "userId": "00288066936238655028"
     },
     "user_tz": -540
    },
    "id": "gJzWkSfSH-DW",
    "outputId": "fa03bb71-df4e-491f-84b4-a1b0f8d13a66"
   },
   "outputs": [
    {
     "data": {
      "text/html": [
       "<div>\n",
       "<style scoped>\n",
       "    .dataframe tbody tr th:only-of-type {\n",
       "        vertical-align: middle;\n",
       "    }\n",
       "\n",
       "    .dataframe tbody tr th {\n",
       "        vertical-align: top;\n",
       "    }\n",
       "\n",
       "    .dataframe thead th {\n",
       "        text-align: right;\n",
       "    }\n",
       "</style>\n",
       "<table border=\"1\" class=\"dataframe\">\n",
       "  <thead>\n",
       "    <tr style=\"text-align: right;\">\n",
       "      <th></th>\n",
       "      <th>id</th>\n",
       "      <th>Store</th>\n",
       "      <th>Date</th>\n",
       "      <th>Temperature</th>\n",
       "      <th>Fuel_Price</th>\n",
       "      <th>Promotion1</th>\n",
       "      <th>Promotion2</th>\n",
       "      <th>Promotion3</th>\n",
       "      <th>Promotion4</th>\n",
       "      <th>Promotion5</th>\n",
       "      <th>Unemployment</th>\n",
       "      <th>IsHoliday</th>\n",
       "      <th>Weekly_Sales</th>\n",
       "    </tr>\n",
       "  </thead>\n",
       "  <tbody>\n",
       "    <tr>\n",
       "      <th>0</th>\n",
       "      <td>1</td>\n",
       "      <td>1</td>\n",
       "      <td>2010-05-02</td>\n",
       "      <td>42.31</td>\n",
       "      <td>2.572</td>\n",
       "      <td>NaN</td>\n",
       "      <td>NaN</td>\n",
       "      <td>NaN</td>\n",
       "      <td>NaN</td>\n",
       "      <td>NaN</td>\n",
       "      <td>8.106</td>\n",
       "      <td>False</td>\n",
       "      <td>14.312455</td>\n",
       "    </tr>\n",
       "    <tr>\n",
       "      <th>1</th>\n",
       "      <td>2</td>\n",
       "      <td>1</td>\n",
       "      <td>2010-12-02</td>\n",
       "      <td>38.51</td>\n",
       "      <td>2.548</td>\n",
       "      <td>NaN</td>\n",
       "      <td>NaN</td>\n",
       "      <td>NaN</td>\n",
       "      <td>NaN</td>\n",
       "      <td>NaN</td>\n",
       "      <td>8.106</td>\n",
       "      <td>True</td>\n",
       "      <td>14.311400</td>\n",
       "    </tr>\n",
       "    <tr>\n",
       "      <th>2</th>\n",
       "      <td>3</td>\n",
       "      <td>1</td>\n",
       "      <td>2010-02-19</td>\n",
       "      <td>39.93</td>\n",
       "      <td>2.514</td>\n",
       "      <td>NaN</td>\n",
       "      <td>NaN</td>\n",
       "      <td>NaN</td>\n",
       "      <td>NaN</td>\n",
       "      <td>NaN</td>\n",
       "      <td>8.106</td>\n",
       "      <td>False</td>\n",
       "      <td>14.292966</td>\n",
       "    </tr>\n",
       "    <tr>\n",
       "      <th>3</th>\n",
       "      <td>4</td>\n",
       "      <td>1</td>\n",
       "      <td>2010-02-26</td>\n",
       "      <td>46.63</td>\n",
       "      <td>2.561</td>\n",
       "      <td>NaN</td>\n",
       "      <td>NaN</td>\n",
       "      <td>NaN</td>\n",
       "      <td>NaN</td>\n",
       "      <td>NaN</td>\n",
       "      <td>8.106</td>\n",
       "      <td>False</td>\n",
       "      <td>14.158907</td>\n",
       "    </tr>\n",
       "    <tr>\n",
       "      <th>4</th>\n",
       "      <td>5</td>\n",
       "      <td>1</td>\n",
       "      <td>2010-05-03</td>\n",
       "      <td>46.50</td>\n",
       "      <td>2.625</td>\n",
       "      <td>NaN</td>\n",
       "      <td>NaN</td>\n",
       "      <td>NaN</td>\n",
       "      <td>NaN</td>\n",
       "      <td>NaN</td>\n",
       "      <td>8.106</td>\n",
       "      <td>False</td>\n",
       "      <td>14.256862</td>\n",
       "    </tr>\n",
       "  </tbody>\n",
       "</table>\n",
       "</div>"
      ],
      "text/plain": [
       "   id Store       Date  Temperature  Fuel_Price  Promotion1  Promotion2  \\\n",
       "0   1     1 2010-05-02        42.31       2.572         NaN         NaN   \n",
       "1   2     1 2010-12-02        38.51       2.548         NaN         NaN   \n",
       "2   3     1 2010-02-19        39.93       2.514         NaN         NaN   \n",
       "3   4     1 2010-02-26        46.63       2.561         NaN         NaN   \n",
       "4   5     1 2010-05-03        46.50       2.625         NaN         NaN   \n",
       "\n",
       "   Promotion3  Promotion4  Promotion5  Unemployment  IsHoliday  Weekly_Sales  \n",
       "0         NaN         NaN         NaN         8.106      False     14.312455  \n",
       "1         NaN         NaN         NaN         8.106       True     14.311400  \n",
       "2         NaN         NaN         NaN         8.106      False     14.292966  \n",
       "3         NaN         NaN         NaN         8.106      False     14.158907  \n",
       "4         NaN         NaN         NaN         8.106      False     14.256862  "
      ]
     },
     "execution_count": 8,
     "metadata": {},
     "output_type": "execute_result"
    }
   ],
   "source": [
    "train[\"Date\"] = pd.to_datetime(train[\"Date\"])\n",
    "test[\"Date\"] = pd.to_datetime(test[\"Date\"])\n",
    "\n",
    "train.head()"
   ]
  },
  {
   "cell_type": "code",
   "execution_count": 9,
   "metadata": {
    "colab": {
     "base_uri": "https://localhost:8080/",
     "height": 357
    },
    "executionInfo": {
     "elapsed": 733,
     "status": "ok",
     "timestamp": 1657709376926,
     "user": {
      "displayName": "‍김태형[ 대학원석·박사통합과정재학 / 산업경영공학과 ]",
      "userId": "00288066936238655028"
     },
     "user_tz": -540
    },
    "id": "8ckpWdF4W3oY",
    "outputId": "9ae5a3a5-606b-44a3-ca3f-0116c5600e16"
   },
   "outputs": [
    {
     "data": {
      "text/html": [
       "<div>\n",
       "<style scoped>\n",
       "    .dataframe tbody tr th:only-of-type {\n",
       "        vertical-align: middle;\n",
       "    }\n",
       "\n",
       "    .dataframe tbody tr th {\n",
       "        vertical-align: top;\n",
       "    }\n",
       "\n",
       "    .dataframe thead th {\n",
       "        text-align: right;\n",
       "    }\n",
       "</style>\n",
       "<table border=\"1\" class=\"dataframe\">\n",
       "  <thead>\n",
       "    <tr style=\"text-align: right;\">\n",
       "      <th></th>\n",
       "      <th>id</th>\n",
       "      <th>Store</th>\n",
       "      <th>Date</th>\n",
       "      <th>Temperature</th>\n",
       "      <th>Fuel_Price</th>\n",
       "      <th>Promotion1</th>\n",
       "      <th>Promotion2</th>\n",
       "      <th>Promotion3</th>\n",
       "      <th>Promotion4</th>\n",
       "      <th>Promotion5</th>\n",
       "      <th>Unemployment</th>\n",
       "      <th>IsHoliday</th>\n",
       "      <th>Weekly_Sales</th>\n",
       "      <th>year</th>\n",
       "      <th>month</th>\n",
       "      <th>day</th>\n",
       "      <th>week</th>\n",
       "      <th>season</th>\n",
       "    </tr>\n",
       "  </thead>\n",
       "  <tbody>\n",
       "    <tr>\n",
       "      <th>0</th>\n",
       "      <td>1</td>\n",
       "      <td>1</td>\n",
       "      <td>2010-05-02</td>\n",
       "      <td>42.31</td>\n",
       "      <td>2.572</td>\n",
       "      <td>NaN</td>\n",
       "      <td>NaN</td>\n",
       "      <td>NaN</td>\n",
       "      <td>NaN</td>\n",
       "      <td>NaN</td>\n",
       "      <td>8.106</td>\n",
       "      <td>False</td>\n",
       "      <td>14.312455</td>\n",
       "      <td>2010</td>\n",
       "      <td>5</td>\n",
       "      <td>2</td>\n",
       "      <td>17</td>\n",
       "      <td>1</td>\n",
       "    </tr>\n",
       "    <tr>\n",
       "      <th>1</th>\n",
       "      <td>2</td>\n",
       "      <td>1</td>\n",
       "      <td>2010-12-02</td>\n",
       "      <td>38.51</td>\n",
       "      <td>2.548</td>\n",
       "      <td>NaN</td>\n",
       "      <td>NaN</td>\n",
       "      <td>NaN</td>\n",
       "      <td>NaN</td>\n",
       "      <td>NaN</td>\n",
       "      <td>8.106</td>\n",
       "      <td>True</td>\n",
       "      <td>14.311400</td>\n",
       "      <td>2010</td>\n",
       "      <td>12</td>\n",
       "      <td>2</td>\n",
       "      <td>48</td>\n",
       "      <td>4</td>\n",
       "    </tr>\n",
       "    <tr>\n",
       "      <th>2</th>\n",
       "      <td>3</td>\n",
       "      <td>1</td>\n",
       "      <td>2010-02-19</td>\n",
       "      <td>39.93</td>\n",
       "      <td>2.514</td>\n",
       "      <td>NaN</td>\n",
       "      <td>NaN</td>\n",
       "      <td>NaN</td>\n",
       "      <td>NaN</td>\n",
       "      <td>NaN</td>\n",
       "      <td>8.106</td>\n",
       "      <td>False</td>\n",
       "      <td>14.292966</td>\n",
       "      <td>2010</td>\n",
       "      <td>2</td>\n",
       "      <td>19</td>\n",
       "      <td>7</td>\n",
       "      <td>4</td>\n",
       "    </tr>\n",
       "    <tr>\n",
       "      <th>3</th>\n",
       "      <td>4</td>\n",
       "      <td>1</td>\n",
       "      <td>2010-02-26</td>\n",
       "      <td>46.63</td>\n",
       "      <td>2.561</td>\n",
       "      <td>NaN</td>\n",
       "      <td>NaN</td>\n",
       "      <td>NaN</td>\n",
       "      <td>NaN</td>\n",
       "      <td>NaN</td>\n",
       "      <td>8.106</td>\n",
       "      <td>False</td>\n",
       "      <td>14.158907</td>\n",
       "      <td>2010</td>\n",
       "      <td>2</td>\n",
       "      <td>26</td>\n",
       "      <td>8</td>\n",
       "      <td>4</td>\n",
       "    </tr>\n",
       "    <tr>\n",
       "      <th>4</th>\n",
       "      <td>5</td>\n",
       "      <td>1</td>\n",
       "      <td>2010-05-03</td>\n",
       "      <td>46.50</td>\n",
       "      <td>2.625</td>\n",
       "      <td>NaN</td>\n",
       "      <td>NaN</td>\n",
       "      <td>NaN</td>\n",
       "      <td>NaN</td>\n",
       "      <td>NaN</td>\n",
       "      <td>8.106</td>\n",
       "      <td>False</td>\n",
       "      <td>14.256862</td>\n",
       "      <td>2010</td>\n",
       "      <td>5</td>\n",
       "      <td>3</td>\n",
       "      <td>18</td>\n",
       "      <td>1</td>\n",
       "    </tr>\n",
       "  </tbody>\n",
       "</table>\n",
       "</div>"
      ],
      "text/plain": [
       "   id Store       Date  Temperature  Fuel_Price  Promotion1  Promotion2  \\\n",
       "0   1     1 2010-05-02        42.31       2.572         NaN         NaN   \n",
       "1   2     1 2010-12-02        38.51       2.548         NaN         NaN   \n",
       "2   3     1 2010-02-19        39.93       2.514         NaN         NaN   \n",
       "3   4     1 2010-02-26        46.63       2.561         NaN         NaN   \n",
       "4   5     1 2010-05-03        46.50       2.625         NaN         NaN   \n",
       "\n",
       "   Promotion3  Promotion4  Promotion5  Unemployment  IsHoliday  Weekly_Sales  \\\n",
       "0         NaN         NaN         NaN         8.106      False     14.312455   \n",
       "1         NaN         NaN         NaN         8.106       True     14.311400   \n",
       "2         NaN         NaN         NaN         8.106      False     14.292966   \n",
       "3         NaN         NaN         NaN         8.106      False     14.158907   \n",
       "4         NaN         NaN         NaN         8.106      False     14.256862   \n",
       "\n",
       "   year  month  day  week  season  \n",
       "0  2010      5    2    17       1  \n",
       "1  2010     12    2    48       4  \n",
       "2  2010      2   19     7       4  \n",
       "3  2010      2   26     8       4  \n",
       "4  2010      5    3    18       1  "
      ]
     },
     "execution_count": 9,
     "metadata": {},
     "output_type": "execute_result"
    }
   ],
   "source": [
    "def seperate_datetime(df):\n",
    "    year = []\n",
    "    month = []\n",
    "    day = []\n",
    "    for date in df:\n",
    "        year_point, month_point, day_point = date.split('-')\n",
    "        year.append(int(year_point))\n",
    "        month.append(int(month_point))\n",
    "        day.append(int(day_point))\n",
    "    return year, month, day\n",
    "\n",
    "train_year, train_month, train_day = seperate_datetime(train[\"Date\"].astype(\"str\"))\n",
    "test_year, test_month, test_day = seperate_datetime(test[\"Date\"].astype(\"str\"))\n",
    "    \n",
    "train['year'] = train_year\n",
    "train['month'] = train_month\n",
    "train['day'] = train_day\n",
    "\n",
    "test['year'] = test_year\n",
    "test['month'] = test_month\n",
    "test['day'] = test_day\n",
    "\n",
    "train[\"week\"] = train[\"Date\"].dt.week\n",
    "test[\"week\"] = test[\"Date\"].dt.week\n",
    "\n",
    "def seasonal(x):\n",
    "    if (x >= 3) & (x <= 5):\n",
    "        x = 1\n",
    "    elif (x >= 6) & (x <= 8):\n",
    "        x = 2\n",
    "    elif (x >= 9) & (x <= 11):\n",
    "        x = 3\n",
    "    elif (x >= 12) | (x <= 2):\n",
    "        x = 4\n",
    "    return x\n",
    "\n",
    "train[\"season\"] = train[\"month\"].apply(lambda x : seasonal(x))\n",
    "test[\"season\"] = test[\"month\"].apply(lambda x : seasonal(x))\n",
    "\n",
    "train.head()"
   ]
  },
  {
   "cell_type": "code",
   "execution_count": 10,
   "metadata": {
    "colab": {
     "base_uri": "https://localhost:8080/",
     "height": 357
    },
    "executionInfo": {
     "elapsed": 11,
     "status": "ok",
     "timestamp": 1657709376927,
     "user": {
      "displayName": "‍김태형[ 대학원석·박사통합과정재학 / 산업경영공학과 ]",
      "userId": "00288066936238655028"
     },
     "user_tz": -540
    },
    "id": "l6r7t-TgM4Q5",
    "outputId": "c0a67f3c-56f7-4d93-dc73-5cd2785e9ed8"
   },
   "outputs": [
    {
     "data": {
      "text/html": [
       "<div>\n",
       "<style scoped>\n",
       "    .dataframe tbody tr th:only-of-type {\n",
       "        vertical-align: middle;\n",
       "    }\n",
       "\n",
       "    .dataframe tbody tr th {\n",
       "        vertical-align: top;\n",
       "    }\n",
       "\n",
       "    .dataframe thead th {\n",
       "        text-align: right;\n",
       "    }\n",
       "</style>\n",
       "<table border=\"1\" class=\"dataframe\">\n",
       "  <thead>\n",
       "    <tr style=\"text-align: right;\">\n",
       "      <th></th>\n",
       "      <th>id</th>\n",
       "      <th>Store</th>\n",
       "      <th>Date</th>\n",
       "      <th>Temperature</th>\n",
       "      <th>Fuel_Price</th>\n",
       "      <th>Promotion1</th>\n",
       "      <th>Promotion2</th>\n",
       "      <th>Promotion3</th>\n",
       "      <th>Promotion4</th>\n",
       "      <th>Promotion5</th>\n",
       "      <th>Unemployment</th>\n",
       "      <th>IsHoliday</th>\n",
       "      <th>Weekly_Sales</th>\n",
       "      <th>year</th>\n",
       "      <th>month</th>\n",
       "      <th>day</th>\n",
       "      <th>week</th>\n",
       "      <th>season</th>\n",
       "    </tr>\n",
       "  </thead>\n",
       "  <tbody>\n",
       "    <tr>\n",
       "      <th>5678</th>\n",
       "      <td>5679</td>\n",
       "      <td>41</td>\n",
       "      <td>2012-11-05</td>\n",
       "      <td>50.22</td>\n",
       "      <td>3.870</td>\n",
       "      <td>8490.06</td>\n",
       "      <td>NaN</td>\n",
       "      <td>250.13</td>\n",
       "      <td>2998.16</td>\n",
       "      <td>4051.18</td>\n",
       "      <td>6.547</td>\n",
       "      <td>False</td>\n",
       "      <td>14.118046</td>\n",
       "      <td>2012</td>\n",
       "      <td>11</td>\n",
       "      <td>5</td>\n",
       "      <td>45</td>\n",
       "      <td>3</td>\n",
       "    </tr>\n",
       "    <tr>\n",
       "      <th>5817</th>\n",
       "      <td>5818</td>\n",
       "      <td>42</td>\n",
       "      <td>2012-11-05</td>\n",
       "      <td>76.03</td>\n",
       "      <td>4.186</td>\n",
       "      <td>312.29</td>\n",
       "      <td>NaN</td>\n",
       "      <td>4.00</td>\n",
       "      <td>NaN</td>\n",
       "      <td>1445.40</td>\n",
       "      <td>7.382</td>\n",
       "      <td>False</td>\n",
       "      <td>13.374838</td>\n",
       "      <td>2012</td>\n",
       "      <td>11</td>\n",
       "      <td>5</td>\n",
       "      <td>45</td>\n",
       "      <td>3</td>\n",
       "    </tr>\n",
       "    <tr>\n",
       "      <th>5956</th>\n",
       "      <td>5957</td>\n",
       "      <td>43</td>\n",
       "      <td>2012-11-05</td>\n",
       "      <td>67.59</td>\n",
       "      <td>3.688</td>\n",
       "      <td>25.30</td>\n",
       "      <td>NaN</td>\n",
       "      <td>2.16</td>\n",
       "      <td>NaN</td>\n",
       "      <td>494.05</td>\n",
       "      <td>9.575</td>\n",
       "      <td>False</td>\n",
       "      <td>13.369472</td>\n",
       "      <td>2012</td>\n",
       "      <td>11</td>\n",
       "      <td>5</td>\n",
       "      <td>45</td>\n",
       "      <td>3</td>\n",
       "    </tr>\n",
       "    <tr>\n",
       "      <th>6095</th>\n",
       "      <td>6096</td>\n",
       "      <td>44</td>\n",
       "      <td>2012-11-05</td>\n",
       "      <td>56.47</td>\n",
       "      <td>3.809</td>\n",
       "      <td>529.20</td>\n",
       "      <td>NaN</td>\n",
       "      <td>2.10</td>\n",
       "      <td>NaN</td>\n",
       "      <td>1064.56</td>\n",
       "      <td>5.621</td>\n",
       "      <td>False</td>\n",
       "      <td>12.740755</td>\n",
       "      <td>2012</td>\n",
       "      <td>11</td>\n",
       "      <td>5</td>\n",
       "      <td>45</td>\n",
       "      <td>3</td>\n",
       "    </tr>\n",
       "    <tr>\n",
       "      <th>6234</th>\n",
       "      <td>6235</td>\n",
       "      <td>45</td>\n",
       "      <td>2012-11-05</td>\n",
       "      <td>61.24</td>\n",
       "      <td>3.889</td>\n",
       "      <td>12611.18</td>\n",
       "      <td>NaN</td>\n",
       "      <td>21.36</td>\n",
       "      <td>1667.39</td>\n",
       "      <td>2313.12</td>\n",
       "      <td>8.567</td>\n",
       "      <td>False</td>\n",
       "      <td>13.554779</td>\n",
       "      <td>2012</td>\n",
       "      <td>11</td>\n",
       "      <td>5</td>\n",
       "      <td>45</td>\n",
       "      <td>3</td>\n",
       "    </tr>\n",
       "  </tbody>\n",
       "</table>\n",
       "</div>"
      ],
      "text/plain": [
       "        id Store       Date  Temperature  Fuel_Price  Promotion1  Promotion2  \\\n",
       "5678  5679    41 2012-11-05        50.22       3.870     8490.06         NaN   \n",
       "5817  5818    42 2012-11-05        76.03       4.186      312.29         NaN   \n",
       "5956  5957    43 2012-11-05        67.59       3.688       25.30         NaN   \n",
       "6095  6096    44 2012-11-05        56.47       3.809      529.20         NaN   \n",
       "6234  6235    45 2012-11-05        61.24       3.889    12611.18         NaN   \n",
       "\n",
       "      Promotion3  Promotion4  Promotion5  Unemployment  IsHoliday  \\\n",
       "5678      250.13     2998.16     4051.18         6.547      False   \n",
       "5817        4.00         NaN     1445.40         7.382      False   \n",
       "5956        2.16         NaN      494.05         9.575      False   \n",
       "6095        2.10         NaN     1064.56         5.621      False   \n",
       "6234       21.36     1667.39     2313.12         8.567      False   \n",
       "\n",
       "      Weekly_Sales  year  month  day  week  season  \n",
       "5678     14.118046  2012     11    5    45       3  \n",
       "5817     13.374838  2012     11    5    45       3  \n",
       "5956     13.369472  2012     11    5    45       3  \n",
       "6095     12.740755  2012     11    5    45       3  \n",
       "6234     13.554779  2012     11    5    45       3  "
      ]
     },
     "execution_count": 10,
     "metadata": {},
     "output_type": "execute_result"
    }
   ],
   "source": [
    "train.sort_values([\"Date\", \"Store\"]).tail()"
   ]
  },
  {
   "cell_type": "code",
   "execution_count": 11,
   "metadata": {
    "colab": {
     "base_uri": "https://localhost:8080/",
     "height": 357
    },
    "executionInfo": {
     "elapsed": 8,
     "status": "ok",
     "timestamp": 1657709376928,
     "user": {
      "displayName": "‍김태형[ 대학원석·박사통합과정재학 / 산업경영공학과 ]",
      "userId": "00288066936238655028"
     },
     "user_tz": -540
    },
    "id": "zxarxwJUM8WG",
    "outputId": "5b492012-e3ef-44f5-d176-ccfa85367d19"
   },
   "outputs": [
    {
     "data": {
      "text/html": [
       "<div>\n",
       "<style scoped>\n",
       "    .dataframe tbody tr th:only-of-type {\n",
       "        vertical-align: middle;\n",
       "    }\n",
       "\n",
       "    .dataframe tbody tr th {\n",
       "        vertical-align: top;\n",
       "    }\n",
       "\n",
       "    .dataframe thead th {\n",
       "        text-align: right;\n",
       "    }\n",
       "</style>\n",
       "<table border=\"1\" class=\"dataframe\">\n",
       "  <thead>\n",
       "    <tr style=\"text-align: right;\">\n",
       "      <th></th>\n",
       "      <th>id</th>\n",
       "      <th>Store</th>\n",
       "      <th>Date</th>\n",
       "      <th>Temperature</th>\n",
       "      <th>Fuel_Price</th>\n",
       "      <th>Promotion1</th>\n",
       "      <th>Promotion2</th>\n",
       "      <th>Promotion3</th>\n",
       "      <th>Promotion4</th>\n",
       "      <th>Promotion5</th>\n",
       "      <th>Unemployment</th>\n",
       "      <th>IsHoliday</th>\n",
       "      <th>year</th>\n",
       "      <th>month</th>\n",
       "      <th>day</th>\n",
       "      <th>week</th>\n",
       "      <th>season</th>\n",
       "    </tr>\n",
       "  </thead>\n",
       "  <tbody>\n",
       "    <tr>\n",
       "      <th>0</th>\n",
       "      <td>1</td>\n",
       "      <td>1</td>\n",
       "      <td>2012-05-10</td>\n",
       "      <td>68.55</td>\n",
       "      <td>3.617</td>\n",
       "      <td>8077.89</td>\n",
       "      <td>NaN</td>\n",
       "      <td>18.22</td>\n",
       "      <td>3617.43</td>\n",
       "      <td>3626.14</td>\n",
       "      <td>6.573</td>\n",
       "      <td>False</td>\n",
       "      <td>2012</td>\n",
       "      <td>5</td>\n",
       "      <td>10</td>\n",
       "      <td>19</td>\n",
       "      <td>1</td>\n",
       "    </tr>\n",
       "    <tr>\n",
       "      <th>4</th>\n",
       "      <td>5</td>\n",
       "      <td>2</td>\n",
       "      <td>2012-05-10</td>\n",
       "      <td>70.27</td>\n",
       "      <td>3.617</td>\n",
       "      <td>6037.76</td>\n",
       "      <td>NaN</td>\n",
       "      <td>10.04</td>\n",
       "      <td>3027.37</td>\n",
       "      <td>3853.40</td>\n",
       "      <td>6.170</td>\n",
       "      <td>False</td>\n",
       "      <td>2012</td>\n",
       "      <td>5</td>\n",
       "      <td>10</td>\n",
       "      <td>19</td>\n",
       "      <td>1</td>\n",
       "    </tr>\n",
       "    <tr>\n",
       "      <th>8</th>\n",
       "      <td>9</td>\n",
       "      <td>3</td>\n",
       "      <td>2012-05-10</td>\n",
       "      <td>72.74</td>\n",
       "      <td>3.617</td>\n",
       "      <td>1750.80</td>\n",
       "      <td>NaN</td>\n",
       "      <td>3.01</td>\n",
       "      <td>480.24</td>\n",
       "      <td>646.82</td>\n",
       "      <td>6.034</td>\n",
       "      <td>False</td>\n",
       "      <td>2012</td>\n",
       "      <td>5</td>\n",
       "      <td>10</td>\n",
       "      <td>19</td>\n",
       "      <td>1</td>\n",
       "    </tr>\n",
       "    <tr>\n",
       "      <th>12</th>\n",
       "      <td>13</td>\n",
       "      <td>4</td>\n",
       "      <td>2012-05-10</td>\n",
       "      <td>63.07</td>\n",
       "      <td>3.620</td>\n",
       "      <td>5918.34</td>\n",
       "      <td>NaN</td>\n",
       "      <td>126.57</td>\n",
       "      <td>3674.49</td>\n",
       "      <td>6807.07</td>\n",
       "      <td>3.879</td>\n",
       "      <td>False</td>\n",
       "      <td>2012</td>\n",
       "      <td>5</td>\n",
       "      <td>10</td>\n",
       "      <td>19</td>\n",
       "      <td>1</td>\n",
       "    </tr>\n",
       "    <tr>\n",
       "      <th>16</th>\n",
       "      <td>17</td>\n",
       "      <td>5</td>\n",
       "      <td>2012-05-10</td>\n",
       "      <td>71.17</td>\n",
       "      <td>3.617</td>\n",
       "      <td>2048.94</td>\n",
       "      <td>NaN</td>\n",
       "      <td>6.02</td>\n",
       "      <td>1121.58</td>\n",
       "      <td>2070.87</td>\n",
       "      <td>5.422</td>\n",
       "      <td>False</td>\n",
       "      <td>2012</td>\n",
       "      <td>5</td>\n",
       "      <td>10</td>\n",
       "      <td>19</td>\n",
       "      <td>1</td>\n",
       "    </tr>\n",
       "  </tbody>\n",
       "</table>\n",
       "</div>"
      ],
      "text/plain": [
       "    id Store       Date  Temperature  Fuel_Price  Promotion1  Promotion2  \\\n",
       "0    1     1 2012-05-10        68.55       3.617     8077.89         NaN   \n",
       "4    5     2 2012-05-10        70.27       3.617     6037.76         NaN   \n",
       "8    9     3 2012-05-10        72.74       3.617     1750.80         NaN   \n",
       "12  13     4 2012-05-10        63.07       3.620     5918.34         NaN   \n",
       "16  17     5 2012-05-10        71.17       3.617     2048.94         NaN   \n",
       "\n",
       "    Promotion3  Promotion4  Promotion5  Unemployment  IsHoliday  year  month  \\\n",
       "0        18.22     3617.43     3626.14         6.573      False  2012      5   \n",
       "4        10.04     3027.37     3853.40         6.170      False  2012      5   \n",
       "8         3.01      480.24      646.82         6.034      False  2012      5   \n",
       "12      126.57     3674.49     6807.07         3.879      False  2012      5   \n",
       "16        6.02     1121.58     2070.87         5.422      False  2012      5   \n",
       "\n",
       "    day  week  season  \n",
       "0    10    19       1  \n",
       "4    10    19       1  \n",
       "8    10    19       1  \n",
       "12   10    19       1  \n",
       "16   10    19       1  "
      ]
     },
     "execution_count": 11,
     "metadata": {},
     "output_type": "execute_result"
    }
   ],
   "source": [
    "test.sort_values([\"Date\", \"Store\"]).head()"
   ]
  },
  {
   "cell_type": "markdown",
   "metadata": {
    "id": "y7fDJVUjX3TE"
   },
   "source": [
    "### Temperature"
   ]
  },
  {
   "cell_type": "code",
   "execution_count": 12,
   "metadata": {
    "colab": {
     "base_uri": "https://localhost:8080/",
     "height": 573
    },
    "executionInfo": {
     "elapsed": 718,
     "status": "ok",
     "timestamp": 1657709377639,
     "user": {
      "displayName": "‍김태형[ 대학원석·박사통합과정재학 / 산업경영공학과 ]",
      "userId": "00288066936238655028"
     },
     "user_tz": -540
    },
    "id": "gmd6oUv7YNTT",
    "outputId": "f70ea427-7906-42f1-bc22-07f007a228f2"
   },
   "outputs": [
    {
     "data": {
      "image/png": "[encoded data removed]",
      "text/plain": [
       "<Figure size 432x288 with 1 Axes>"
      ]
     },
     "metadata": {
      "needs_background": "light"
     },
     "output_type": "display_data"
    },
    {
     "data": {
      "image/png": "[encoded data removed]",
      "text/plain": [
       "<Figure size 432x288 with 1 Axes>"
      ]
     },
     "metadata": {
      "needs_background": "light"
     },
     "output_type": "display_data"
    }
   ],
   "source": [
    "sns.boxplot(x=\"Temperature\", data=train)\n",
    "plt.title(\"train\")\n",
    "plt.show()\n",
    "\n",
    "sns.boxplot(x=\"Temperature\", data=test)\n",
    "plt.title(\"test\")\n",
    "plt.show()"
   ]
  },
  {
   "cell_type": "markdown",
   "metadata": {
    "id": "PbnLfYuAX695"
   },
   "source": [
    "### Fuel_Price"
   ]
  },
  {
   "cell_type": "code",
   "execution_count": 13,
   "metadata": {
    "colab": {
     "base_uri": "https://localhost:8080/",
     "height": 575
    },
    "executionInfo": {
     "elapsed": 590,
     "status": "ok",
     "timestamp": 1657709378226,
     "user": {
      "displayName": "‍김태형[ 대학원석·박사통합과정재학 / 산업경영공학과 ]",
      "userId": "00288066936238655028"
     },
     "user_tz": -540
    },
    "id": "djdR3ck4OBKS",
    "outputId": "0358d24f-33b3-416a-df3b-d632fd823bdd"
   },
   "outputs": [
    {
     "data": {
      "image/png": "[encoded data removed]",
      "text/plain": [
       "<Figure size 432x288 with 1 Axes>"
      ]
     },
     "metadata": {
      "needs_background": "light"
     },
     "output_type": "display_data"
    },
    {
     "data": {
      "image/png": "[encoded data removed]",
      "text/plain": [
       "<Figure size 432x288 with 1 Axes>"
      ]
     },
     "metadata": {
      "needs_background": "light"
     },
     "output_type": "display_data"
    }
   ],
   "source": [
    "sns.boxplot(x=\"Fuel_Price\", data=train)\n",
    "plt.title(\"train\")\n",
    "plt.show()\n",
    "\n",
    "sns.boxplot(x=\"Fuel_Price\", data=test)\n",
    "plt.title(\"test\")\n",
    "plt.show()"
   ]
  },
  {
   "cell_type": "markdown",
   "metadata": {
    "id": "1Db2R-lxYJ9R"
   },
   "source": [
    "### Promotion1~5"
   ]
  },
  {
   "cell_type": "code",
   "execution_count": 14,
   "metadata": {
    "colab": {
     "base_uri": "https://localhost:8080/"
    },
    "executionInfo": {
     "elapsed": 11,
     "status": "ok",
     "timestamp": 1657709378227,
     "user": {
      "displayName": "‍김태형[ 대학원석·박사통합과정재학 / 산업경영공학과 ]",
      "userId": "00288066936238655028"
     },
     "user_tz": -540
    },
    "id": "rEExnrLwPC_C",
    "outputId": "68301ed4-2171-4a39-a2da-37f5e858d610"
   },
   "outputs": [
    {
     "name": "stdout",
     "output_type": "stream",
     "text": [
      "<class 'pandas.core.frame.DataFrame'>\n",
      "Int64Index: 1755 entries, 100 to 6254\n",
      "Data columns (total 18 columns):\n",
      " #   Column        Non-Null Count  Dtype         \n",
      "---  ------        --------------  -----         \n",
      " 0   id            1755 non-null   int64         \n",
      " 1   Store         1755 non-null   object        \n",
      " 2   Date          1755 non-null   datetime64[ns]\n",
      " 3   Temperature   1755 non-null   float64       \n",
      " 4   Fuel_Price    1755 non-null   float64       \n",
      " 5   Promotion1    1748 non-null   float64       \n",
      " 6   Promotion2    1299 non-null   float64       \n",
      " 7   Promotion3    1543 non-null   float64       \n",
      " 8   Promotion4    1517 non-null   float64       \n",
      " 9   Promotion5    1755 non-null   float64       \n",
      " 10  Unemployment  1755 non-null   float64       \n",
      " 11  IsHoliday     1755 non-null   bool          \n",
      " 12  Weekly_Sales  1755 non-null   float64       \n",
      " 13  year          1755 non-null   int64         \n",
      " 14  month         1755 non-null   int64         \n",
      " 15  day           1755 non-null   int64         \n",
      " 16  week          1755 non-null   int64         \n",
      " 17  season        1755 non-null   int64         \n",
      "dtypes: bool(1), datetime64[ns](1), float64(9), int64(6), object(1)\n",
      "memory usage: 248.5+ KB\n"
     ]
    }
   ],
   "source": [
    "train[train[\"year\"]==2012].info()"
   ]
  },
  {
   "cell_type": "code",
   "execution_count": 15,
   "metadata": {
    "colab": {
     "base_uri": "https://localhost:8080/",
     "height": 357
    },
    "executionInfo": {
     "elapsed": 6,
     "status": "ok",
     "timestamp": 1657709378227,
     "user": {
      "displayName": "‍김태형[ 대학원석·박사통합과정재학 / 산업경영공학과 ]",
      "userId": "00288066936238655028"
     },
     "user_tz": -540
    },
    "id": "eFHq-NKqQFd0",
    "outputId": "3283228f-e803-4e70-e984-0d1e1b5a308b"
   },
   "outputs": [
    {
     "data": {
      "text/html": [
       "<div>\n",
       "<style scoped>\n",
       "    .dataframe tbody tr th:only-of-type {\n",
       "        vertical-align: middle;\n",
       "    }\n",
       "\n",
       "    .dataframe tbody tr th {\n",
       "        vertical-align: top;\n",
       "    }\n",
       "\n",
       "    .dataframe thead th {\n",
       "        text-align: right;\n",
       "    }\n",
       "</style>\n",
       "<table border=\"1\" class=\"dataframe\">\n",
       "  <thead>\n",
       "    <tr style=\"text-align: right;\">\n",
       "      <th></th>\n",
       "      <th>id</th>\n",
       "      <th>Store</th>\n",
       "      <th>Date</th>\n",
       "      <th>Temperature</th>\n",
       "      <th>Fuel_Price</th>\n",
       "      <th>Promotion1</th>\n",
       "      <th>Promotion2</th>\n",
       "      <th>Promotion3</th>\n",
       "      <th>Promotion4</th>\n",
       "      <th>Promotion5</th>\n",
       "      <th>Unemployment</th>\n",
       "      <th>IsHoliday</th>\n",
       "      <th>Weekly_Sales</th>\n",
       "      <th>year</th>\n",
       "      <th>month</th>\n",
       "      <th>day</th>\n",
       "      <th>week</th>\n",
       "      <th>season</th>\n",
       "    </tr>\n",
       "  </thead>\n",
       "  <tbody>\n",
       "    <tr>\n",
       "      <th>0</th>\n",
       "      <td>101</td>\n",
       "      <td>1</td>\n",
       "      <td>2012-06-01</td>\n",
       "      <td>49.01</td>\n",
       "      <td>3.157</td>\n",
       "      <td>6277.39</td>\n",
       "      <td>21813.16</td>\n",
       "      <td>143.10</td>\n",
       "      <td>1450.13</td>\n",
       "      <td>8483.00</td>\n",
       "      <td>7.348</td>\n",
       "      <td>False</td>\n",
       "      <td>14.254004</td>\n",
       "      <td>2012</td>\n",
       "      <td>6</td>\n",
       "      <td>1</td>\n",
       "      <td>22</td>\n",
       "      <td>2</td>\n",
       "    </tr>\n",
       "    <tr>\n",
       "      <th>1</th>\n",
       "      <td>102</td>\n",
       "      <td>1</td>\n",
       "      <td>2012-01-13</td>\n",
       "      <td>48.53</td>\n",
       "      <td>3.261</td>\n",
       "      <td>5183.29</td>\n",
       "      <td>8025.87</td>\n",
       "      <td>42.24</td>\n",
       "      <td>453.08</td>\n",
       "      <td>3719.38</td>\n",
       "      <td>7.348</td>\n",
       "      <td>False</td>\n",
       "      <td>14.193674</td>\n",
       "      <td>2012</td>\n",
       "      <td>1</td>\n",
       "      <td>13</td>\n",
       "      <td>2</td>\n",
       "      <td>4</td>\n",
       "    </tr>\n",
       "    <tr>\n",
       "      <th>2</th>\n",
       "      <td>103</td>\n",
       "      <td>1</td>\n",
       "      <td>2012-01-20</td>\n",
       "      <td>54.11</td>\n",
       "      <td>3.268</td>\n",
       "      <td>4139.87</td>\n",
       "      <td>2807.19</td>\n",
       "      <td>33.88</td>\n",
       "      <td>500.62</td>\n",
       "      <td>3400.21</td>\n",
       "      <td>7.348</td>\n",
       "      <td>False</td>\n",
       "      <td>14.147970</td>\n",
       "      <td>2012</td>\n",
       "      <td>1</td>\n",
       "      <td>20</td>\n",
       "      <td>3</td>\n",
       "      <td>4</td>\n",
       "    </tr>\n",
       "    <tr>\n",
       "      <th>3</th>\n",
       "      <td>104</td>\n",
       "      <td>1</td>\n",
       "      <td>2012-01-27</td>\n",
       "      <td>54.26</td>\n",
       "      <td>3.290</td>\n",
       "      <td>1164.46</td>\n",
       "      <td>1082.74</td>\n",
       "      <td>44.00</td>\n",
       "      <td>11.00</td>\n",
       "      <td>1222.19</td>\n",
       "      <td>7.348</td>\n",
       "      <td>False</td>\n",
       "      <td>14.092631</td>\n",
       "      <td>2012</td>\n",
       "      <td>1</td>\n",
       "      <td>27</td>\n",
       "      <td>4</td>\n",
       "      <td>4</td>\n",
       "    </tr>\n",
       "    <tr>\n",
       "      <th>4</th>\n",
       "      <td>105</td>\n",
       "      <td>1</td>\n",
       "      <td>2012-03-02</td>\n",
       "      <td>56.55</td>\n",
       "      <td>3.360</td>\n",
       "      <td>34577.06</td>\n",
       "      <td>3579.21</td>\n",
       "      <td>160.53</td>\n",
       "      <td>32403.87</td>\n",
       "      <td>5630.40</td>\n",
       "      <td>7.348</td>\n",
       "      <td>False</td>\n",
       "      <td>14.307972</td>\n",
       "      <td>2012</td>\n",
       "      <td>3</td>\n",
       "      <td>2</td>\n",
       "      <td>9</td>\n",
       "      <td>1</td>\n",
       "    </tr>\n",
       "  </tbody>\n",
       "</table>\n",
       "</div>"
      ],
      "text/plain": [
       "    id Store       Date  Temperature  Fuel_Price  Promotion1  Promotion2  \\\n",
       "0  101     1 2012-06-01        49.01       3.157     6277.39    21813.16   \n",
       "1  102     1 2012-01-13        48.53       3.261     5183.29     8025.87   \n",
       "2  103     1 2012-01-20        54.11       3.268     4139.87     2807.19   \n",
       "3  104     1 2012-01-27        54.26       3.290     1164.46     1082.74   \n",
       "4  105     1 2012-03-02        56.55       3.360    34577.06     3579.21   \n",
       "\n",
       "   Promotion3  Promotion4  Promotion5  Unemployment  IsHoliday  Weekly_Sales  \\\n",
       "0      143.10     1450.13     8483.00         7.348      False     14.254004   \n",
       "1       42.24      453.08     3719.38         7.348      False     14.193674   \n",
       "2       33.88      500.62     3400.21         7.348      False     14.147970   \n",
       "3       44.00       11.00     1222.19         7.348      False     14.092631   \n",
       "4      160.53    32403.87     5630.40         7.348      False     14.307972   \n",
       "\n",
       "   year  month  day  week  season  \n",
       "0  2012      6    1    22       2  \n",
       "1  2012      1   13     2       4  \n",
       "2  2012      1   20     3       4  \n",
       "3  2012      1   27     4       4  \n",
       "4  2012      3    2     9       1  "
      ]
     },
     "execution_count": 15,
     "metadata": {},
     "output_type": "execute_result"
    }
   ],
   "source": [
    "train = train[train[\"year\"]==2012].reset_index(drop=True)\n",
    "train.head()"
   ]
  },
  {
   "cell_type": "code",
   "execution_count": 16,
   "metadata": {
    "colab": {
     "base_uri": "https://localhost:8080/"
    },
    "executionInfo": {
     "elapsed": 318,
     "status": "ok",
     "timestamp": 1657709378540,
     "user": {
      "displayName": "‍김태형[ 대학원석·박사통합과정재학 / 산업경영공학과 ]",
      "userId": "00288066936238655028"
     },
     "user_tz": -540
    },
    "id": "qwG5y2zzXD7J",
    "outputId": "103b3a92-364f-44b5-ba1c-c80a4746abf1"
   },
   "outputs": [
    {
     "data": {
      "text/plain": [
       "id             -0.302904\n",
       "Temperature    -0.064392\n",
       "Fuel_Price      0.039909\n",
       "Promotion1      0.413659\n",
       "Promotion2      0.134196\n",
       "Promotion3      0.242799\n",
       "Promotion4      0.225588\n",
       "Promotion5      0.315160\n",
       "Unemployment   -0.050877\n",
       "IsHoliday       0.020721\n",
       "Weekly_Sales    1.000000\n",
       "year                 NaN\n",
       "month           0.026874\n",
       "day            -0.042233\n",
       "week            0.023048\n",
       "season         -0.018757\n",
       "Name: Weekly_Sales, dtype: float64"
      ]
     },
     "execution_count": 16,
     "metadata": {},
     "output_type": "execute_result"
    }
   ],
   "source": [
    "train.corr()[\"Weekly_Sales\"]"
   ]
  },
  {
   "cell_type": "code",
   "execution_count": 17,
   "metadata": {
    "colab": {
     "base_uri": "https://localhost:8080/",
     "height": 1000
    },
    "executionInfo": {
     "elapsed": 5555,
     "status": "ok",
     "timestamp": 1657709384093,
     "user": {
      "displayName": "‍김태형[ 대학원석·박사통합과정재학 / 산업경영공학과 ]",
      "userId": "00288066936238655028"
     },
     "user_tz": -540
    },
    "id": "PMXTJttaXK-j",
    "outputId": "834a6a10-52e8-4287-80d4-1ce3ce0107de"
   },
   "outputs": [
    {
     "data": {
      "text/plain": [
       "id             -0.302904\n",
       "Temperature    -0.064392\n",
       "Fuel_Price      0.039909\n",
       "Promotion1      0.413659\n",
       "Promotion2      0.134196\n",
       "Promotion3      0.242799\n",
       "Promotion4      0.225588\n",
       "Promotion5      0.315160\n",
       "Unemployment   -0.050877\n",
       "IsHoliday       0.020721\n",
       "Weekly_Sales    1.000000\n",
       "year                 NaN\n",
       "month           0.026874\n",
       "day            -0.042233\n",
       "week            0.023048\n",
       "season         -0.018757\n",
       "Name: Weekly_Sales, dtype: float64"
      ]
     },
     "execution_count": 17,
     "metadata": {},
     "output_type": "execute_result"
    }
   ],
   "source": [
    "promotion_list = [\"Promotion1\", \"Promotion2\", \"Promotion3\", \"Promotion4\", \"Promotion5\"]\n",
    "\n",
    "# for i in promotion_list:\n",
    "\n",
    "#     sns.histplot(train[i])\n",
    "#     plt.title(f\"train {i} before\")\n",
    "#     plt.show()\n",
    "    \n",
    "    # minmax = MinMaxScaler()\n",
    "    # train[i] = minmax.fit_transform(train[[i]])\n",
    "    # test[i] = minmax.transform(test[[i]])\n",
    "\n",
    "    # train[i] = np.log1p(train[i])\n",
    "    # test[i] = np.log1p(test[i])\n",
    "\n",
    "    # sns.histplot(train[i])\n",
    "    # plt.title(f\"train {i} after\")\n",
    "    # plt.show()\n",
    "\n",
    "train.corr()[\"Weekly_Sales\"]"
   ]
  },
  {
   "cell_type": "code",
   "execution_count": 18,
   "metadata": {
    "colab": {
     "base_uri": "https://localhost:8080/",
     "height": 792
    },
    "executionInfo": {
     "elapsed": 2083,
     "status": "ok",
     "timestamp": 1657709386153,
     "user": {
      "displayName": "‍김태형[ 대학원석·박사통합과정재학 / 산업경영공학과 ]",
      "userId": "00288066936238655028"
     },
     "user_tz": -540
    },
    "id": "KyPWbjcuYKc4",
    "outputId": "83d0c855-1ac6-43cf-8e82-3fa6d56e96ea"
   },
   "outputs": [
    {
     "data": {
      "image/png": "[encoded data removed]",
      "text/plain": [
       "<Figure size 1512x1440 with 2 Axes>"
      ]
     },
     "metadata": {
      "needs_background": "light"
     },
     "output_type": "display_data"
    }
   ],
   "source": [
    "plt.figure(figsize=(21,20))\n",
    "sns.heatmap(train.corr(), vmin=-1, vmax=1, cmap='RdBu', annot=True)\n",
    "plt.show()"
   ]
  },
  {
   "cell_type": "markdown",
   "metadata": {
    "id": "isZxbCkt2rIc"
   },
   "source": [
    "#### Imputation"
   ]
  },
  {
   "cell_type": "code",
   "execution_count": 19,
   "metadata": {
    "colab": {
     "base_uri": "https://localhost:8080/",
     "height": 1000
    },
    "executionInfo": {
     "elapsed": 10495,
     "status": "ok",
     "timestamp": 1657709396629,
     "user": {
      "displayName": "‍김태형[ 대학원석·박사통합과정재학 / 산업경영공학과 ]",
      "userId": "00288066936238655028"
     },
     "user_tz": -540
    },
    "id": "vECtFDpIJwQ3",
    "outputId": "c5251c95-5ddd-429c-8432-55dad39b2bec"
   },
   "outputs": [],
   "source": [
    "# for i in train[\"Store\"].unique():\n",
    "\n",
    "#     train_temp = train[train[\"Store\"]==i]\n",
    "#     test_temp = test[test[\"Store\"]==i]\n",
    "#     temp = pd.concat([train_temp, test_temp], axis=0).sort_values(\"Date\").reset_index(drop=True)\n",
    "\n",
    "#     temp = temp[promotion_list]\n",
    "    \n",
    "    # sns.heatmap(temp.isnull())\n",
    "    # plt.title(f\"Store : {i}\")\n",
    "    # plt.show()\n",
    "\n",
    "    # print(temp.isnull().sum() / len(temp))"
   ]
  },
  {
   "cell_type": "code",
   "execution_count": 20,
   "metadata": {
    "colab": {
     "base_uri": "https://localhost:8080/"
    },
    "executionInfo": {
     "elapsed": 27,
     "status": "ok",
     "timestamp": 1657709396630,
     "user": {
      "displayName": "‍김태형[ 대학원석·박사통합과정재학 / 산업경영공학과 ]",
      "userId": "00288066936238655028"
     },
     "user_tz": -540
    },
    "id": "wTEC60KzWioG",
    "outputId": "70bcddbf-aa83-4f07-e507-f6b2c023d5fd"
   },
   "outputs": [
    {
     "data": {
      "text/plain": [
       "id                0\n",
       "Store             0\n",
       "Date              0\n",
       "Temperature       0\n",
       "Fuel_Price        0\n",
       "Promotion1        0\n",
       "Promotion2        0\n",
       "Promotion3        0\n",
       "Promotion4        0\n",
       "Promotion5        0\n",
       "Unemployment      0\n",
       "IsHoliday         0\n",
       "Weekly_Sales    180\n",
       "year              0\n",
       "month             0\n",
       "day               0\n",
       "week              0\n",
       "season            0\n",
       "dtype: int64"
      ]
     },
     "execution_count": 20,
     "metadata": {},
     "output_type": "execute_result"
    }
   ],
   "source": [
    "total = pd.concat([train, test], axis=0).reset_index(drop=True)\n",
    "\n",
    "df = pd.DataFrame()\n",
    "for i in total[\"Store\"].unique():\n",
    "\n",
    "    temp = total[total[\"Store\"]==i]\n",
    "\n",
    "    missing_df = temp[promotion_list]\n",
    "    \n",
    "    if missing_df.isnull().sum().sum() > 0 :\n",
    "\n",
    "        # sns.heatmap(missing_df.isnull())\n",
    "        # plt.title(f\"Store : {i}\")\n",
    "        # plt.show()\n",
    "\n",
    "        imputer = KNNImputer(n_neighbors=5)\n",
    "        temp[promotion_list]=imputer.fit_transform(missing_df)\n",
    "\n",
    "    df = pd.concat([df, temp], axis=0)\n",
    "\n",
    "df.isnull().sum()"
   ]
  },
  {
   "cell_type": "code",
   "execution_count": 21,
   "metadata": {
    "colab": {
     "base_uri": "https://localhost:8080/"
    },
    "executionInfo": {
     "elapsed": 24,
     "status": "ok",
     "timestamp": 1657709396631,
     "user": {
      "displayName": "‍김태형[ 대학원석·박사통합과정재학 / 산업경영공학과 ]",
      "userId": "00288066936238655028"
     },
     "user_tz": -540
    },
    "id": "6X-yaVW5BbYf",
    "outputId": "446663ef-1114-4460-a959-199352d79872"
   },
   "outputs": [
    {
     "data": {
      "text/plain": [
       "id              0\n",
       "Store           0\n",
       "Date            0\n",
       "Temperature     0\n",
       "Fuel_Price      0\n",
       "Promotion1      0\n",
       "Promotion2      0\n",
       "Promotion3      0\n",
       "Promotion4      0\n",
       "Promotion5      0\n",
       "Unemployment    0\n",
       "IsHoliday       0\n",
       "Weekly_Sales    0\n",
       "year            0\n",
       "month           0\n",
       "day             0\n",
       "week            0\n",
       "season          0\n",
       "dtype: int64"
      ]
     },
     "execution_count": 21,
     "metadata": {},
     "output_type": "execute_result"
    }
   ],
   "source": [
    "train = df.loc[train.index]\n",
    "test = df.drop(train.index, axis=0).reset_index(drop=True)\n",
    "test = test.drop([\"Weekly_Sales\"], axis=1)\n",
    "\n",
    "train.isnull().sum()"
   ]
  },
  {
   "cell_type": "markdown",
   "metadata": {
    "id": "LmkamoEvX_NT"
   },
   "source": [
    "### Unemployment"
   ]
  },
  {
   "cell_type": "code",
   "execution_count": 22,
   "metadata": {
    "colab": {
     "base_uri": "https://localhost:8080/"
    },
    "executionInfo": {
     "elapsed": 20,
     "status": "ok",
     "timestamp": 1657709396632,
     "user": {
      "displayName": "‍김태형[ 대학원석·박사통합과정재학 / 산업경영공학과 ]",
      "userId": "00288066936238655028"
     },
     "user_tz": -540
    },
    "id": "-zaDN4aGD93j",
    "outputId": "2176b9a9-ebc6-40b3-ebff-f8a7f4feafd8"
   },
   "outputs": [
    {
     "data": {
      "text/plain": [
       "(90, 30)"
      ]
     },
     "execution_count": 22,
     "metadata": {},
     "output_type": "execute_result"
    }
   ],
   "source": [
    "train[\"Unemployment\"].nunique(), test[\"Unemployment\"].nunique()"
   ]
  },
  {
   "cell_type": "markdown",
   "metadata": {
    "id": "MqmZZK_bYGTw"
   },
   "source": [
    "### IsHoliday"
   ]
  },
  {
   "cell_type": "code",
   "execution_count": 23,
   "metadata": {
    "colab": {
     "base_uri": "https://localhost:8080/",
     "height": 357
    },
    "executionInfo": {
     "elapsed": 16,
     "status": "ok",
     "timestamp": 1657709396632,
     "user": {
      "displayName": "‍김태형[ 대학원석·박사통합과정재학 / 산업경영공학과 ]",
      "userId": "00288066936238655028"
     },
     "user_tz": -540
    },
    "id": "bFC6mL9-Xia0",
    "outputId": "8f236ec4-9039-4a9e-c424-dc65350d43b1"
   },
   "outputs": [
    {
     "data": {
      "text/html": [
       "<div>\n",
       "<style scoped>\n",
       "    .dataframe tbody tr th:only-of-type {\n",
       "        vertical-align: middle;\n",
       "    }\n",
       "\n",
       "    .dataframe tbody tr th {\n",
       "        vertical-align: top;\n",
       "    }\n",
       "\n",
       "    .dataframe thead th {\n",
       "        text-align: right;\n",
       "    }\n",
       "</style>\n",
       "<table border=\"1\" class=\"dataframe\">\n",
       "  <thead>\n",
       "    <tr style=\"text-align: right;\">\n",
       "      <th></th>\n",
       "      <th>id</th>\n",
       "      <th>Store</th>\n",
       "      <th>Date</th>\n",
       "      <th>Temperature</th>\n",
       "      <th>Fuel_Price</th>\n",
       "      <th>Promotion1</th>\n",
       "      <th>Promotion2</th>\n",
       "      <th>Promotion3</th>\n",
       "      <th>Promotion4</th>\n",
       "      <th>Promotion5</th>\n",
       "      <th>Unemployment</th>\n",
       "      <th>IsHoliday</th>\n",
       "      <th>Weekly_Sales</th>\n",
       "      <th>year</th>\n",
       "      <th>month</th>\n",
       "      <th>day</th>\n",
       "      <th>week</th>\n",
       "      <th>season</th>\n",
       "    </tr>\n",
       "  </thead>\n",
       "  <tbody>\n",
       "    <tr>\n",
       "      <th>0</th>\n",
       "      <td>101</td>\n",
       "      <td>1</td>\n",
       "      <td>2012-06-01</td>\n",
       "      <td>49.01</td>\n",
       "      <td>3.157</td>\n",
       "      <td>6277.39</td>\n",
       "      <td>21813.16</td>\n",
       "      <td>143.10</td>\n",
       "      <td>1450.13</td>\n",
       "      <td>8483.00</td>\n",
       "      <td>7.348</td>\n",
       "      <td>0</td>\n",
       "      <td>14.254004</td>\n",
       "      <td>2012</td>\n",
       "      <td>6</td>\n",
       "      <td>1</td>\n",
       "      <td>22</td>\n",
       "      <td>2</td>\n",
       "    </tr>\n",
       "    <tr>\n",
       "      <th>1</th>\n",
       "      <td>102</td>\n",
       "      <td>1</td>\n",
       "      <td>2012-01-13</td>\n",
       "      <td>48.53</td>\n",
       "      <td>3.261</td>\n",
       "      <td>5183.29</td>\n",
       "      <td>8025.87</td>\n",
       "      <td>42.24</td>\n",
       "      <td>453.08</td>\n",
       "      <td>3719.38</td>\n",
       "      <td>7.348</td>\n",
       "      <td>0</td>\n",
       "      <td>14.193674</td>\n",
       "      <td>2012</td>\n",
       "      <td>1</td>\n",
       "      <td>13</td>\n",
       "      <td>2</td>\n",
       "      <td>4</td>\n",
       "    </tr>\n",
       "    <tr>\n",
       "      <th>2</th>\n",
       "      <td>103</td>\n",
       "      <td>1</td>\n",
       "      <td>2012-01-20</td>\n",
       "      <td>54.11</td>\n",
       "      <td>3.268</td>\n",
       "      <td>4139.87</td>\n",
       "      <td>2807.19</td>\n",
       "      <td>33.88</td>\n",
       "      <td>500.62</td>\n",
       "      <td>3400.21</td>\n",
       "      <td>7.348</td>\n",
       "      <td>0</td>\n",
       "      <td>14.147970</td>\n",
       "      <td>2012</td>\n",
       "      <td>1</td>\n",
       "      <td>20</td>\n",
       "      <td>3</td>\n",
       "      <td>4</td>\n",
       "    </tr>\n",
       "    <tr>\n",
       "      <th>3</th>\n",
       "      <td>104</td>\n",
       "      <td>1</td>\n",
       "      <td>2012-01-27</td>\n",
       "      <td>54.26</td>\n",
       "      <td>3.290</td>\n",
       "      <td>1164.46</td>\n",
       "      <td>1082.74</td>\n",
       "      <td>44.00</td>\n",
       "      <td>11.00</td>\n",
       "      <td>1222.19</td>\n",
       "      <td>7.348</td>\n",
       "      <td>0</td>\n",
       "      <td>14.092631</td>\n",
       "      <td>2012</td>\n",
       "      <td>1</td>\n",
       "      <td>27</td>\n",
       "      <td>4</td>\n",
       "      <td>4</td>\n",
       "    </tr>\n",
       "    <tr>\n",
       "      <th>4</th>\n",
       "      <td>105</td>\n",
       "      <td>1</td>\n",
       "      <td>2012-03-02</td>\n",
       "      <td>56.55</td>\n",
       "      <td>3.360</td>\n",
       "      <td>34577.06</td>\n",
       "      <td>3579.21</td>\n",
       "      <td>160.53</td>\n",
       "      <td>32403.87</td>\n",
       "      <td>5630.40</td>\n",
       "      <td>7.348</td>\n",
       "      <td>0</td>\n",
       "      <td>14.307972</td>\n",
       "      <td>2012</td>\n",
       "      <td>3</td>\n",
       "      <td>2</td>\n",
       "      <td>9</td>\n",
       "      <td>1</td>\n",
       "    </tr>\n",
       "  </tbody>\n",
       "</table>\n",
       "</div>"
      ],
      "text/plain": [
       "    id Store       Date  Temperature  Fuel_Price  Promotion1  Promotion2  \\\n",
       "0  101     1 2012-06-01        49.01       3.157     6277.39    21813.16   \n",
       "1  102     1 2012-01-13        48.53       3.261     5183.29     8025.87   \n",
       "2  103     1 2012-01-20        54.11       3.268     4139.87     2807.19   \n",
       "3  104     1 2012-01-27        54.26       3.290     1164.46     1082.74   \n",
       "4  105     1 2012-03-02        56.55       3.360    34577.06     3579.21   \n",
       "\n",
       "   Promotion3  Promotion4  Promotion5  Unemployment  IsHoliday  Weekly_Sales  \\\n",
       "0      143.10     1450.13     8483.00         7.348          0     14.254004   \n",
       "1       42.24      453.08     3719.38         7.348          0     14.193674   \n",
       "2       33.88      500.62     3400.21         7.348          0     14.147970   \n",
       "3       44.00       11.00     1222.19         7.348          0     14.092631   \n",
       "4      160.53    32403.87     5630.40         7.348          0     14.307972   \n",
       "\n",
       "   year  month  day  week  season  \n",
       "0  2012      6    1    22       2  \n",
       "1  2012      1   13     2       4  \n",
       "2  2012      1   20     3       4  \n",
       "3  2012      1   27     4       4  \n",
       "4  2012      3    2     9       1  "
      ]
     },
     "execution_count": 23,
     "metadata": {},
     "output_type": "execute_result"
    }
   ],
   "source": [
    "train[\"IsHoliday\"] = train[\"IsHoliday\"].apply(lambda x : 1 if x==True else 0)\n",
    "test[\"IsHoliday\"] = test[\"IsHoliday\"].apply(lambda x : 1 if x==True else 0)\n",
    "\n",
    "train.head()"
   ]
  },
  {
   "cell_type": "markdown",
   "metadata": {
    "id": "HRttewG2E2kF"
   },
   "source": [
    "### Feature Extraction"
   ]
  },
  {
   "cell_type": "code",
   "execution_count": 24,
   "metadata": {
    "colab": {
     "base_uri": "https://localhost:8080/",
     "height": 798
    },
    "executionInfo": {
     "elapsed": 1614,
     "status": "ok",
     "timestamp": 1657709398233,
     "user": {
      "displayName": "‍김태형[ 대학원석·박사통합과정재학 / 산업경영공학과 ]",
      "userId": "00288066936238655028"
     },
     "user_tz": -540
    },
    "id": "EuqM2qFgEs9f",
    "outputId": "5c1df8af-2ded-4360-bbc8-f97aa18c1c5a"
   },
   "outputs": [
    {
     "data": {
      "image/png": "[encoded data removed]",
      "text/plain": [
       "<Figure size 1512x1440 with 2 Axes>"
      ]
     },
     "metadata": {
      "needs_background": "light"
     },
     "output_type": "display_data"
    }
   ],
   "source": [
    "train[\"promotion_sum\"] = train[\"Promotion1\"] + train[\"Promotion5\"]\n",
    "test[\"promotion_sum\"] = test[\"Promotion1\"] + test[\"Promotion5\"]\n",
    "\n",
    "train[\"promotion_divide\"] = train[\"Promotion1\"] / train[\"Promotion5\"]\n",
    "test[\"promotion_divide\"] = test[\"Promotion1\"] / test[\"Promotion5\"]\n",
    "\n",
    "train = train.drop([\"id\", \"Date\", \"year\"], axis=1)\n",
    "test = test.drop([\"id\", \"Date\", \"year\"], axis=1)\n",
    "\n",
    "plt.figure(figsize=(21,20))\n",
    "sns.heatmap(train.corr(), vmin=-1, vmax=1, cmap='RdBu', annot=True)\n",
    "plt.show()"
   ]
  },
  {
   "cell_type": "code",
   "execution_count": 25,
   "metadata": {
    "colab": {
     "base_uri": "https://localhost:8080/"
    },
    "executionInfo": {
     "elapsed": 16,
     "status": "ok",
     "timestamp": 1657709398234,
     "user": {
      "displayName": "‍김태형[ 대학원석·박사통합과정재학 / 산업경영공학과 ]",
      "userId": "00288066936238655028"
     },
     "user_tz": -540
    },
    "id": "gQyJe6bPKXIF",
    "outputId": "d1a61078-8777-4323-abbe-813e1224f548"
   },
   "outputs": [
    {
     "name": "stdout",
     "output_type": "stream",
     "text": [
      "<class 'pandas.core.frame.DataFrame'>\n",
      "RangeIndex: 1755 entries, 0 to 1754\n",
      "Data columns (total 17 columns):\n",
      " #   Column            Non-Null Count  Dtype  \n",
      "---  ------            --------------  -----  \n",
      " 0   Store             1755 non-null   object \n",
      " 1   Temperature       1755 non-null   float64\n",
      " 2   Fuel_Price        1755 non-null   float64\n",
      " 3   Promotion1        1755 non-null   float64\n",
      " 4   Promotion2        1755 non-null   float64\n",
      " 5   Promotion3        1755 non-null   float64\n",
      " 6   Promotion4        1755 non-null   float64\n",
      " 7   Promotion5        1755 non-null   float64\n",
      " 8   Unemployment      1755 non-null   float64\n",
      " 9   IsHoliday         1755 non-null   int64  \n",
      " 10  Weekly_Sales      1755 non-null   float64\n",
      " 11  month             1755 non-null   int64  \n",
      " 12  day               1755 non-null   int64  \n",
      " 13  week              1755 non-null   int64  \n",
      " 14  season            1755 non-null   int64  \n",
      " 15  promotion_sum     1755 non-null   float64\n",
      " 16  promotion_divide  1755 non-null   float64\n",
      "dtypes: float64(11), int64(5), object(1)\n",
      "memory usage: 233.2+ KB\n"
     ]
    }
   ],
   "source": [
    "train.info()"
   ]
  },
  {
   "cell_type": "markdown",
   "metadata": {
    "id": "EJGXo33SHcLC"
   },
   "source": [
    "## Training"
   ]
  },
  {
   "cell_type": "code",
   "execution_count": 26,
   "metadata": {
    "executionInfo": {
     "elapsed": 272,
     "status": "ok",
     "timestamp": 1657709881775,
     "user": {
      "displayName": "‍김태형[ 대학원석·박사통합과정재학 / 산업경영공학과 ]",
      "userId": "00288066936238655028"
     },
     "user_tz": -540
    },
    "id": "Nak6lngoHc95"
   },
   "outputs": [],
   "source": [
    "estimator1 = LinearRegression(n_jobs=-1)\n",
    "estimator2 = Ridge(random_state=seed)\n",
    "estimator3 = Lasso(random_state=seed)\n",
    "estimator4 = ElasticNet(random_state=seed)\n",
    "estimator5 = SVR()\n",
    "estimator6 = KNeighborsRegressor(n_jobs=-1)\n",
    "estimator7 = DecisionTreeRegressor(random_state=seed)\n",
    "estimator8 = ExtraTreeRegressor(random_state=seed)\n",
    "estimator9 = BaggingRegressor(n_jobs=-1, random_state=seed)\n",
    "estimator10 = ExtraTreesRegressor(n_jobs=-1, random_state=seed)\n",
    "estimator11 = RandomForestRegressor(n_jobs=-1, random_state=seed)\n",
    "estimator12 = AdaBoostRegressor(random_state=seed)\n",
    "estimator13 = GradientBoostingRegressor(random_state=seed)\n",
    "estimator14 = XGBRegressor(n_jobs=-1, random_state=seed)\n",
    "estimator15 = LGBMRegressor(n_jobs=-1, random_state=seed)\n",
    "estimator16 = CatBoostRegressor(verbose=False, random_state=seed)\n",
    "estimator17 = MLPRegressor(random_state=seed)"
   ]
  },
  {
   "cell_type": "markdown",
   "metadata": {
    "id": "ZhD2zf0jHghp"
   },
   "source": [
    "### Utils"
   ]
  },
  {
   "cell_type": "code",
   "execution_count": 27,
   "metadata": {
    "executionInfo": {
     "elapsed": 1,
     "status": "ok",
     "timestamp": 1657709882194,
     "user": {
      "displayName": "‍김태형[ 대학원석·박사통합과정재학 / 산업경영공학과 ]",
      "userId": "00288066936238655028"
     },
     "user_tz": -540
    },
    "id": "UyHrOM58Hh0I"
   },
   "outputs": [],
   "source": [
    "def get_stacking_ml_datasets(model, X_train_n, y_train_n, X_test_n, n_folds):\n",
    "    \n",
    "    kf = KFold(n_splits=n_folds, shuffle=True, random_state=seed)\n",
    "    \n",
    "    train_fold_pred = np.zeros((X_train_n.shape[0], 1))\n",
    "    test_pred = np.zeros((X_test_n.shape[0], n_folds))\n",
    "    \n",
    "    for folder_counter, (train_index, valid_index) in enumerate(kf.split(X_train_n, y_train_n)):\n",
    "        X_tr = X_train_n[train_index]\n",
    "        y_tr = y_train_n[train_index]\n",
    "        X_te = X_train_n[valid_index]\n",
    "        \n",
    "        model.fit(X_tr, y_tr)\n",
    "        train_fold_pred[valid_index, :] = model.predict(X_te).reshape(-1,1)\n",
    "        test_pred[:, folder_counter] = model.predict(X_test_n)\n",
    "        \n",
    "    test_pred_mean = np.mean(test_pred, axis=1).reshape(-1,1)    \n",
    "    \n",
    "    return train_fold_pred, test_pred_mean"
   ]
  },
  {
   "cell_type": "markdown",
   "metadata": {
    "id": "Xeo9x1aIH9zy"
   },
   "source": [
    "### Validation - all"
   ]
  },
  {
   "cell_type": "code",
   "execution_count": 28,
   "metadata": {
    "colab": {
     "base_uri": "https://localhost:8080/"
    },
    "executionInfo": {
     "elapsed": 2,
     "status": "ok",
     "timestamp": 1657709883204,
     "user": {
      "displayName": "‍김태형[ 대학원석·박사통합과정재학 / 산업경영공학과 ]",
      "userId": "00288066936238655028"
     },
     "user_tz": -540
    },
    "id": "BeeYd5AlHrQ4",
    "outputId": "7aaa68d9-ddc0-49da-b3e1-69299be96912"
   },
   "outputs": [
    {
     "data": {
      "text/plain": [
       "((1316, 59), (439, 59))"
      ]
     },
     "execution_count": 28,
     "metadata": {},
     "output_type": "execute_result"
    }
   ],
   "source": [
    "X = train.drop([\"Weekly_Sales\"], axis=1)\n",
    "y = train[\"Weekly_Sales\"]\n",
    "X_train, X_test, y_train, y_test = train_test_split(X, y, random_state=seed)\n",
    "\n",
    "X_train = pd.get_dummies(X_train, drop_first=True)\n",
    "X_test = pd.get_dummies(X_test, drop_first=True)\n",
    "\n",
    "X_train=scaler.fit_transform(X_train)\n",
    "X_test=scaler.transform(X_test)\n",
    "\n",
    "X_train.shape, X_test.shape"
   ]
  },
  {
   "cell_type": "code",
   "execution_count": 29,
   "metadata": {
    "colab": {
     "base_uri": "https://localhost:8080/"
    },
    "executionInfo": {
     "elapsed": 176622,
     "status": "ok",
     "timestamp": 1657710060156,
     "user": {
      "displayName": "‍김태형[ 대학원석·박사통합과정재학 / 산업경영공학과 ]",
      "userId": "00288066936238655028"
     },
     "user_tz": -540
    },
    "id": "YQOR9HRyHxPb",
    "outputId": "0b433865-319e-4449-a37e-7564cba013c8"
   },
   "outputs": [
    {
     "name": "stdout",
     "output_type": "stream",
     "text": [
      "CPU times: total: 16min 6s\n",
      "Wall time: 1min 51s\n"
     ]
    },
    {
     "data": {
      "text/plain": [
       "((1316, 17), (439, 17))"
      ]
     },
     "execution_count": 29,
     "metadata": {},
     "output_type": "execute_result"
    }
   ],
   "source": [
    "%%time\n",
    "\n",
    "base_ml = [\n",
    "    estimator1, estimator2, estimator3, estimator4, estimator5, estimator6, estimator7, estimator8, estimator9,\n",
    "    estimator10, estimator11, estimator12, estimator13, estimator14, estimator15, estimator16, estimator17,\n",
    "]\n",
    "\n",
    "meta_ml_X_train=[]\n",
    "meta_ml_X_test=[]\n",
    "for estimator in base_ml:\n",
    "    temp_X_train, temp_X_test = get_stacking_ml_datasets(estimator, X_train, y_train.values, X_test, cv)\n",
    "    meta_ml_X_train.append(temp_X_train)\n",
    "    meta_ml_X_test.append(temp_X_test)\n",
    "    \n",
    "meta_ml_X_train=np.hstack(meta_ml_X_train)\n",
    "meta_ml_X_test=np.hstack(meta_ml_X_test)\n",
    "\n",
    "meta_ml_X_train.shape, meta_ml_X_test.shape"
   ]
  },
  {
   "cell_type": "code",
   "execution_count": 30,
   "metadata": {
    "colab": {
     "base_uri": "https://localhost:8080/",
     "height": 405
    },
    "executionInfo": {
     "elapsed": 435,
     "status": "error",
     "timestamp": 1657709570046,
     "user": {
      "displayName": "‍김태형[ 대학원석·박사통합과정재학 / 산업경영공학과 ]",
      "userId": "00288066936238655028"
     },
     "user_tz": -540
    },
    "id": "6Z20g6HPINVR",
    "outputId": "c7f2a2e0-ba11-4502-f436-7bab2ddca4b5"
   },
   "outputs": [
    {
     "data": {
      "text/plain": [
       "[(0, 7077704958.067097),\n",
       " (1, 7289711612.550878),\n",
       " (5, 8944652509.056759),\n",
       " (9, 13660786866.307676),\n",
       " (4, 13953675847.7069),\n",
       " (13, 18036251803.153713),\n",
       " (15, 18973862562.88641),\n",
       " (7, 28269868628.860558),\n",
       " (14, 28939954781.323006),\n",
       " (10, 36270061508.21295),\n",
       " (8, 40464902664.288994),\n",
       " (6, 45532791002.69367),\n",
       " (12, 50791740307.83576),\n",
       " (11, 161208628661.14572),\n",
       " (2, 325832538218.56433),\n",
       " (3, 325832538218.56433),\n",
       " (16, 146704950569081.34)]"
      ]
     },
     "execution_count": 30,
     "metadata": {},
     "output_type": "execute_result"
    }
   ],
   "source": [
    "scores={}\n",
    "for idx, estimator in enumerate(base_ml):\n",
    "    scores[idx]=mean_squared_error(np.exp(y_test).round(2),\n",
    "                                   np.exp(estimator.predict(X_test)).round(2),\n",
    "                                   squared = True)\n",
    "sorted(scores.items(), key = lambda item : item[1])"
   ]
  },
  {
   "cell_type": "code",
   "execution_count": 31,
   "metadata": {
    "executionInfo": {
     "elapsed": 422,
     "status": "aborted",
     "timestamp": 1657709570043,
     "user": {
      "displayName": "‍김태형[ 대학원석·박사통합과정재학 / 산업경영공학과 ]",
      "userId": "00288066936238655028"
     },
     "user_tz": -540
    },
    "id": "_kFcPIRgIXNQ"
   },
   "outputs": [
    {
     "data": {
      "text/plain": [
       "[LinearRegression(n_jobs=-1),\n",
       " Ridge(random_state=1011),\n",
       " KNeighborsRegressor(n_jobs=-1)]"
      ]
     },
     "execution_count": 31,
     "metadata": {},
     "output_type": "execute_result"
    }
   ],
   "source": [
    "model_idx=np.array(sorted(scores.items(), key = lambda item : item[1]))[:top_n_model, 0]\n",
    "best_ml=[value for i, value in enumerate(base_ml) if i in model_idx]\n",
    "best_ml"
   ]
  },
  {
   "cell_type": "code",
   "execution_count": 32,
   "metadata": {
    "executionInfo": {
     "elapsed": 423,
     "status": "aborted",
     "timestamp": 1657709570044,
     "user": {
      "displayName": "‍김태형[ 대학원석·박사통합과정재학 / 산업경영공학과 ]",
      "userId": "00288066936238655028"
     },
     "user_tz": -540
    },
    "id": "sBw10WfvIa3q"
   },
   "outputs": [
    {
     "name": "stdout",
     "output_type": "stream",
     "text": [
      "rmse_all:  5860614972.987979\n"
     ]
    }
   ],
   "source": [
    "meta_clf=LinearRegression()\n",
    "meta_clf.fit(meta_ml_X_train, y_train)\n",
    "prediction=meta_clf.predict(meta_ml_X_test)\n",
    "\n",
    "rmse_all=mean_squared_error(np.exp(y_test).round(2),\n",
    "                            np.exp(prediction).round(2),\n",
    "                            squared = True)\n",
    "print(\"rmse_all: \", rmse_all)\n",
    "\n",
    "wandb.log({'RMSE_all': rmse_all})"
   ]
  },
  {
   "cell_type": "markdown",
   "metadata": {
    "id": "BpHEOMjyIoKU"
   },
   "source": [
    "### Validation - best"
   ]
  },
  {
   "cell_type": "code",
   "execution_count": 33,
   "metadata": {
    "executionInfo": {
     "elapsed": 422,
     "status": "aborted",
     "timestamp": 1657709570044,
     "user": {
      "displayName": "‍김태형[ 대학원석·박사통합과정재학 / 산업경영공학과 ]",
      "userId": "00288066936238655028"
     },
     "user_tz": -540
    },
    "id": "es0XVkA-IphB"
   },
   "outputs": [
    {
     "name": "stdout",
     "output_type": "stream",
     "text": [
      "CPU times: total: 8.31 s\n",
      "Wall time: 1.07 s\n"
     ]
    },
    {
     "data": {
      "text/plain": [
       "((1316, 3), (439, 3))"
      ]
     },
     "execution_count": 33,
     "metadata": {},
     "output_type": "execute_result"
    }
   ],
   "source": [
    "%%time\n",
    "\n",
    "meta_ml_X_train=[]\n",
    "meta_ml_X_test=[]\n",
    "for estimator in best_ml:\n",
    "    temp_X_train, temp_X_test = get_stacking_ml_datasets(estimator, X_train, y_train.values, X_test, cv)\n",
    "    meta_ml_X_train.append(temp_X_train)\n",
    "    meta_ml_X_test.append(temp_X_test)\n",
    "    \n",
    "meta_ml_X_train=np.hstack(meta_ml_X_train)\n",
    "meta_ml_X_test=np.hstack(meta_ml_X_test)\n",
    "\n",
    "meta_ml_X_train.shape, meta_ml_X_test.shape"
   ]
  },
  {
   "cell_type": "code",
   "execution_count": 34,
   "metadata": {
    "executionInfo": {
     "elapsed": 423,
     "status": "aborted",
     "timestamp": 1657709570045,
     "user": {
      "displayName": "‍김태형[ 대학원석·박사통합과정재학 / 산업경영공학과 ]",
      "userId": "00288066936238655028"
     },
     "user_tz": -540
    },
    "id": "HEu63ChBIrFn"
   },
   "outputs": [
    {
     "name": "stdout",
     "output_type": "stream",
     "text": [
      "rmse_best:  6911658880.437508\n"
     ]
    }
   ],
   "source": [
    "meta_clf = LinearRegression()\n",
    "meta_clf.fit(meta_ml_X_train, y_train)\n",
    "prediction = meta_clf.predict(meta_ml_X_test)\n",
    "\n",
    "rmse_best = mean_squared_error(np.exp(y_test).round(2),\n",
    "                               np.exp(prediction).round(2),\n",
    "                               squared=True)\n",
    "print(\"rmse_best: \", rmse_best)\n",
    "\n",
    "wandb.log({'RMSE_best': rmse_best})"
   ]
  },
  {
   "cell_type": "markdown",
   "metadata": {
    "id": "KpTwSAQYIzyT"
   },
   "source": [
    "## Inference"
   ]
  },
  {
   "cell_type": "code",
   "execution_count": 35,
   "metadata": {
    "executionInfo": {
     "elapsed": 9,
     "status": "aborted",
     "timestamp": 1657709570045,
     "user": {
      "displayName": "‍김태형[ 대학원석·박사통합과정재학 / 산업경영공학과 ]",
      "userId": "00288066936238655028"
     },
     "user_tz": -540
    },
    "id": "XGE7dfZ1Jqee"
   },
   "outputs": [
    {
     "data": {
      "text/plain": [
       "((1755, 59), (180, 59))"
      ]
     },
     "execution_count": 35,
     "metadata": {},
     "output_type": "execute_result"
    }
   ],
   "source": [
    "X_train = train.drop([\"Weekly_Sales\"], axis=1)\n",
    "y_train = train[\"Weekly_Sales\"]\n",
    "X_test = test\n",
    "\n",
    "X_train = pd.get_dummies(X_train, drop_first=True)\n",
    "X_test = pd.get_dummies(X_test, drop_first=True)\n",
    "\n",
    "X_train=scaler.fit_transform(X_train)\n",
    "X_test=scaler.transform(X_test)\n",
    "\n",
    "X_train.shape, X_test.shape"
   ]
  },
  {
   "cell_type": "code",
   "execution_count": 36,
   "metadata": {
    "executionInfo": {
     "elapsed": 8,
     "status": "aborted",
     "timestamp": 1657709570045,
     "user": {
      "displayName": "‍김태형[ 대학원석·박사통합과정재학 / 산업경영공학과 ]",
      "userId": "00288066936238655028"
     },
     "user_tz": -540
    },
    "id": "fByzZbECJtYR"
   },
   "outputs": [
    {
     "name": "stdout",
     "output_type": "stream",
     "text": [
      "CPU times: total: 5.7 s\n",
      "Wall time: 962 ms\n"
     ]
    },
    {
     "data": {
      "text/plain": [
       "((1755, 3), (180, 3))"
      ]
     },
     "execution_count": 36,
     "metadata": {},
     "output_type": "execute_result"
    }
   ],
   "source": [
    "%%time\n",
    "\n",
    "meta_ml_X_train=[]\n",
    "meta_ml_X_test=[]\n",
    "for estimator in best_ml:\n",
    "    temp_X_train, temp_X_test = get_stacking_ml_datasets(estimator, X_train, y_train.values, X_test, cv)\n",
    "    meta_ml_X_train.append(temp_X_train)\n",
    "    meta_ml_X_test.append(temp_X_test)\n",
    "    \n",
    "meta_ml_X_train=np.hstack(meta_ml_X_train)\n",
    "meta_ml_X_test=np.hstack(meta_ml_X_test)\n",
    "\n",
    "meta_ml_X_train.shape, meta_ml_X_test.shape"
   ]
  },
  {
   "cell_type": "code",
   "execution_count": 37,
   "metadata": {
    "executionInfo": {
     "elapsed": 9,
     "status": "aborted",
     "timestamp": 1657709570046,
     "user": {
      "displayName": "‍김태형[ 대학원석·박사통합과정재학 / 산업경영공학과 ]",
      "userId": "00288066936238655028"
     },
     "user_tz": -540
    },
    "id": "hjCV2fZpJvqA"
   },
   "outputs": [],
   "source": [
    "meta_clf = LinearRegression()\n",
    "meta_clf.fit(meta_ml_X_train, y_train)\n",
    "prediction = meta_clf.predict(meta_ml_X_test)\n",
    "\n",
    "submission = pd.read_csv(\"data/sample_submission.csv\")\n",
    "submission[\"Weekly_Sales\"] = np.exp(prediction).round(2)\n",
    "submission.to_csv(\"submission.csv\", index=False)"
   ]
  }
 ],
 "metadata": {
  "accelerator": "GPU",
  "colab": {
   "authorship_tag": "ABX9TyO+WuH1QJcEsmr3ehjQJ4DU",
   "collapsed_sections": [],
   "mount_file_id": "12Yv-sDmaYo3r4x9UquLsN76lJeqMzMQK",
   "name": "1) Stacking.ipynb",
   "provenance": []
  },
  "gpuClass": "standard",
  "kernelspec": {
   "display_name": "Python 3 (ipykernel)",
   "language": "python",
   "name": "python3"
  },
  "language_info": {
   "codemirror_mode": {
    "name": "ipython",
    "version": 3
   },
   "file_extension": ".py",
   "mimetype": "text/x-python",
   "name": "python",
   "nbconvert_exporter": "python",
   "pygments_lexer": "ipython3",
   "version": "3.8.0"
  }
 },
 "nbformat": 4,
 "nbformat_minor": 4
}
